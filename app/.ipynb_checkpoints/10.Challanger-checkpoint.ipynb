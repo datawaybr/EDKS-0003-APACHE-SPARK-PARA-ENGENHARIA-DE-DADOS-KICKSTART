{
 "cells": [
  {
   "cell_type": "markdown",
   "id": "214ec1be-3d4a-47c1-81c8-bede77505ebe",
   "metadata": {},
   "source": [
    "# Nosso desafio\n",
    "\n",
    "- Para cada aeroporto trazer as top10 **companhias aéreas com maior atuação no ano** com as seguintes informações:\n",
    "    - Nome do Aeroporto\n",
    "    - ICAO do Aeroporto\n",
    "    - Razão social da Companhia Aérea\n",
    "    - Quantidade de Rotas à partir daquele aeroporto\n",
    "    - Quantidade de Rotas com destino àquele aeroporto\n",
    "    - Quantidade total de pousos e decolagens naquele aeroporto"
   ]
  },
  {
   "cell_type": "code",
   "execution_count": 15,
   "id": "48528197-51d6-44ba-b0df-663dc469c40c",
   "metadata": {
    "tags": []
   },
   "outputs": [],
   "source": [
    "from pyspark.sql import SparkSession\n",
    "import pyspark.sql.functions as F\n",
    "\n",
    "spark = SparkSession.builder.appName(\"Exemplo\").config(\"spark.jars.packages\", \"org.postgresql:postgresql:42.2.24\").getOrCreate()"
   ]
  },
  {
   "cell_type": "code",
   "execution_count": 16,
   "id": "cc6dc05e-3d51-4e27-b3a2-95e1ead35433",
   "metadata": {
    "tags": []
   },
   "outputs": [
    {
     "name": "stdout",
     "output_type": "stream",
     "text": [
      "-RECORD 0----------------------------------\n",
      " icao_empresa_aerea     | AAL              \n",
      " numero_voo             | 904              \n",
      " codigo_di              | 0                \n",
      " codigo_tipo_linha      | I                \n",
      " icao_aerodromo_origem  | SBGL             \n",
      " icao_aerodromo_destino | KMIA             \n",
      " partida_prevista       | 01/06/2022 23:00 \n",
      " partida_real           | 01/06/2022 22:57 \n",
      " chegada_prevista       | 02/06/2022 07:45 \n",
      " chegada_real           | 02/06/2022 07:17 \n",
      " situacao_voo           | REALIZADO        \n",
      " codigo_justificativa   | null             \n",
      "only showing top 1 row\n",
      "\n",
      "-RECORD 0----------------------------------------\n",
      " razao_social             | ABSA - AEROLINHAS... \n",
      " icao_iata                | LTG M3               \n",
      " cnpj                     | 00074635000133       \n",
      " atividades_aereas        | TRANSPORTE AÉREO ... \n",
      " endereco_sede            | AEROPORTO INTERNA... \n",
      " telefone                 | 1155828055           \n",
      " e-mail                   | gar@tam.com.br       \n",
      " decisao_operacional      | DECISÃO Nº 41        \n",
      " data_decisao_operacional | 22/04/2015           \n",
      " validade_operacional     | 23/04/2025           \n",
      " icao                     | LTG                  \n",
      " iata                     | M3                   \n",
      "only showing top 1 row\n",
      "\n"
     ]
    }
   ],
   "source": [
    "df_vra = (\n",
    "    spark\n",
    "    .read\n",
    "    .format(\"parquet\")\n",
    "    .load(\"/home/app/data/1.bronze/vra/\")\n",
    ")\n",
    "\n",
    "df_vra.show(1, vertical=True)\n",
    "\n",
    "df_aircia = (\n",
    "    spark\n",
    "    .read\n",
    "    .format(\"parquet\")\n",
    "    .load(\"/home/app/data/1.bronze/air_cia/\")\n",
    ")\n",
    "\n",
    "df_aircia.show(1, vertical=True)"
   ]
  },
  {
   "cell_type": "code",
   "execution_count": 17,
   "id": "8062078c-9b32-47c3-814f-b22ef0ec90bc",
   "metadata": {
    "tags": []
   },
   "outputs": [],
   "source": [
    "df_aircia.createOrReplaceTempView(\"cia_aerea\")\n",
    "df_vra.createOrReplaceTempView(\"vra\")"
   ]
  },
  {
   "cell_type": "code",
   "execution_count": 18,
   "id": "11e24c9d-80a3-4b2e-989a-f5fc13c5e0de",
   "metadata": {
    "tags": []
   },
   "outputs": [
    {
     "name": "stdout",
     "output_type": "stream",
     "text": [
      "+------------------+----------+---------+-----------------+---------------------+----------------------+----------------+----------------+----------------+----------------+------------+--------------------+\n",
      "|icao_empresa_aerea|numero_voo|codigo_di|codigo_tipo_linha|icao_aerodromo_origem|icao_aerodromo_destino|partida_prevista|    partida_real|chegada_prevista|    chegada_real|situacao_voo|codigo_justificativa|\n",
      "+------------------+----------+---------+-----------------+---------------------+----------------------+----------------+----------------+----------------+----------------+------------+--------------------+\n",
      "|               AAL|       904|        0|                I|                 SBGL|                  KMIA|01/06/2022 23:00|01/06/2022 22:57|02/06/2022 07:45|02/06/2022 07:17|   REALIZADO|                null|\n",
      "|               AAL|       905|        0|                I|                 KMIA|                  SBGL|01/06/2022 21:00|01/06/2022 21:55|02/06/2022 05:10|02/06/2022 06:07|   REALIZADO|                null|\n",
      "|               AAL|       906|        0|                I|                 SBGR|                  KMIA|01/06/2022 23:15|01/06/2022 23:13|02/06/2022 07:45|02/06/2022 07:36|   REALIZADO|                null|\n",
      "|               AAL|       929|        0|                I|                 KMIA|                  SBGR|01/06/2022 21:00|01/06/2022 23:36|02/06/2022 05:15|02/06/2022 07:41|   REALIZADO|                null|\n",
      "|               AAL|       930|        0|                I|                 SBGR|                  KMIA|01/06/2022 21:25|01/06/2022 21:19|02/06/2022 06:00|02/06/2022 05:27|   REALIZADO|                null|\n",
      "|               AAL|       950|        0|                I|                 SBGR|                  KJFK|01/06/2022 21:40|01/06/2022 21:38|02/06/2022 07:30|02/06/2022 06:56|   REALIZADO|                null|\n",
      "|               AAL|       951|        0|                I|                 KJFK|                  SBGR|01/06/2022 22:50|01/06/2022 23:57|02/06/2022 08:20|02/06/2022 11:08|   REALIZADO|                null|\n",
      "|               AAL|       962|        0|                I|                 SBGR|                  KDFW|01/06/2022 22:25|01/06/2022 22:16|02/06/2022 08:50|02/06/2022 08:54|   REALIZADO|                null|\n",
      "|               AAL|       963|        0|                I|                 KDFW|                  SBGR|01/06/2022 21:30|01/06/2022 23:54|02/06/2022 07:30|02/06/2022 09:47|   REALIZADO|                null|\n",
      "|               AAL|       991|        2|                X|                 KMIA|                  SBGR|            null|02/06/2022 10:00|            null|02/06/2022 18:08|   REALIZADO|                null|\n",
      "+------------------+----------+---------+-----------------+---------------------+----------------------+----------------+----------------+----------------+----------------+------------+--------------------+\n",
      "\n"
     ]
    }
   ],
   "source": [
    "spark.sql(\"select * from vra limit 10\").show()"
   ]
  },
  {
   "cell_type": "code",
   "execution_count": 19,
   "id": "967cfd1d-b808-47b4-8f42-4b9ea632cdbb",
   "metadata": {
    "tags": []
   },
   "outputs": [
    {
     "name": "stdout",
     "output_type": "stream",
     "text": [
      "+--------------------+---------+--------------+--------------------+--------------------+--------------------+--------------------+--------------------+------------------------+--------------------+----+----+\n",
      "|        razao_social|icao_iata|          cnpj|   atividades_aereas|       endereco_sede|            telefone|              e-mail| decisao_operacional|data_decisao_operacional|validade_operacional|icao|iata|\n",
      "+--------------------+---------+--------------+--------------------+--------------------+--------------------+--------------------+--------------------+------------------------+--------------------+----+----+\n",
      "|ABSA - AEROLINHAS...|   LTG M3|00074635000133|TRANSPORTE AÉREO ...|AEROPORTO INTERNA...|          1155828055|      gar@tam.com.br|       DECISÃO Nº 41|              22/04/2015|          23/04/2025| LTG|  M3|\n",
      "|AEROSUL TÁXI AÉRE...|   ASO 2S|27315694000102|SERVIÇOS AÉREOS P...|RODOVIA PR 218, K...|          4331764030|operacoes@aerosul...|      DECISÃO Nº 282|              10/02/2021|                null| ASO|  2S|\n",
      "|ASTA LINHAS AÉREA...|   SUL 0A|12703737000150|SERVIÇOS AÉREOS P...|AV GOVERNADOR JOÃ...|65361426841821041000|                null|      DECISÃO Nº 115|              31/07/2019|          02/08/2024| SUL|  0A|\n",
      "|ATA - AEROTÁXI AB...|      ABJ|14674451000119|TÁXI-AÉREO, TRANS...| PÇA. GAGO COUTIN...|71346296007199664...|guilherme@abaete....|       DECISÃO Nº 36|              05/03/2020|                null| ABJ|null|\n",
      "|AZUL CONECTA LTDA...|   ACN 2F|04263318000116|TRANSPORTE AÉREO ...|AVENIDA EMILIO AN...|11458223551198743...|                null|Decisão nº 14, de...|              25/01/2018|          29/01/2028| ACN|  2F|\n",
      "|AZUL LINHAS AÉREA...|   AZU AD|09296295000160|TRANSPORTE AÉREO ...|AV. MARCOS PENTEA...|55114134988755114...|vanessa.reis@voea...|      Decisão nº 178|              20/11/2018|          21/11/2028| AZU|  AD|\n",
      "|GOL LINHAS AÉREAS...|   GLO G3|07575651000159|TRANSPORTE AÉREO ...|PRAÇA SENADOR SAL...|11509829901150987872|rddfonseca@voegol...|      DECISÃO Nº 156|              05/11/2019|                null| GLO|  G3|\n",
      "|MAP TRANSPORTES A...|   PAM 7M|10483635000140|TRANSPORTE AÉREO ...|AVENIDA SANTOS DU...|          9236521620|contabil@voemap.c...|       DECISÃO Nº 89|              14/08/2012|          17/08/2022| PAM|  7M|\n",
      "|MODERN TRANSPORTE...|   MWM WD|03887831000115|TRANSPORTE AÉREO ...|AVENIDA PREFEITO ...|21227292721131096750|juridico@modern.c...|       DECISÃO Nº 79|              31/05/2017|          02/06/2027| MWM|  WD|\n",
      "|PASSAREDO TRANSPO...|   PTB 2Z|00512777000135|TRANSPORTE AÉREO ...|SETOR DE HANGARES...|16351471271635147126|juridico@voepass....|      DECISÃO Nº 105|              09/06/2020|                null| PTB|  2Z|\n",
      "+--------------------+---------+--------------+--------------------+--------------------+--------------------+--------------------+--------------------+------------------------+--------------------+----+----+\n",
      "\n"
     ]
    }
   ],
   "source": [
    "spark.sql(\"select * from cia_aerea limit 10\").show()"
   ]
  },
  {
   "cell_type": "code",
   "execution_count": 21,
   "id": "bd5a6f71-806a-4cb5-95fd-ca710ae9cc3f",
   "metadata": {
    "tags": []
   },
   "outputs": [
    {
     "ename": "ParseException",
     "evalue": "\nSyntax error at or near 'do'(line 4, pos 31)\n\n== SQL ==\n\nSELECT\n     YEAR(vra.chegada_real) AS Ano,\n     cia.endereco_sede AS Nome do Aeroporto,\n-------------------------------^^^\n     vra.icao_empresa_aere AS \"ICAO do Aeroporto\",\n     cia.razao_social AS \"Razão social da Companhia Aérea\",\n     COUNT(vra.icao_aerodromo_origem) AS \"Quantidade Origem\",\n     COUNT(vra.icao_aerodromo_destino) AS \"Quantidade destino\",\n     (COUNT(vra.icao_aerodromo_origem) + COUNT(vra.icao_aerodromo_destino)) AS \"Quantidade Total\"\nFROM\n    vra\nLEFT JOIN cia_aerea cia ON vra.icao_empresa_aere = cia.icao\nWHERE\n   vra.situacao_voo = 'REALIZADO'\nGROUP BY \n    YEAR(vra.chegada_real),\n    cia.endereço_sede,\n    vra.icao_empresa_aere,\n    cia.razão_social\nORDER BY\n    YEAR(vra.chegada_real)\n",
     "output_type": "error",
     "traceback": [
      "\u001b[0;31m---------------------------------------------------------------------------\u001b[0m",
      "\u001b[0;31mParseException\u001b[0m                            Traceback (most recent call last)",
      "Cell \u001b[0;32mIn[21], line 1\u001b[0m\n\u001b[0;32m----> 1\u001b[0m \u001b[43mspark\u001b[49m\u001b[38;5;241;43m.\u001b[39;49m\u001b[43msql\u001b[49m\u001b[43m(\u001b[49m\u001b[38;5;124;43m\"\"\"\u001b[39;49m\n\u001b[1;32m      2\u001b[0m \u001b[38;5;124;43mSELECT\u001b[39;49m\n\u001b[1;32m      3\u001b[0m \u001b[38;5;124;43m     YEAR(vra.chegada_real) AS Ano,\u001b[39;49m\n\u001b[1;32m      4\u001b[0m \u001b[38;5;124;43m     cia.endereco_sede AS Nome do Aeroporto,\u001b[39;49m\n\u001b[1;32m      5\u001b[0m \u001b[38;5;124;43m     vra.icao_empresa_aere AS \u001b[39;49m\u001b[38;5;124;43m\"\u001b[39;49m\u001b[38;5;124;43mICAO do Aeroporto\u001b[39;49m\u001b[38;5;124;43m\"\u001b[39;49m\u001b[38;5;124;43m,\u001b[39;49m\n\u001b[1;32m      6\u001b[0m \u001b[38;5;124;43m     cia.razao_social AS \u001b[39;49m\u001b[38;5;124;43m\"\u001b[39;49m\u001b[38;5;124;43mRazão social da Companhia Aérea\u001b[39;49m\u001b[38;5;124;43m\"\u001b[39;49m\u001b[38;5;124;43m,\u001b[39;49m\n\u001b[1;32m      7\u001b[0m \u001b[38;5;124;43m     COUNT(vra.icao_aerodromo_origem) AS \u001b[39;49m\u001b[38;5;124;43m\"\u001b[39;49m\u001b[38;5;124;43mQuantidade Origem\u001b[39;49m\u001b[38;5;124;43m\"\u001b[39;49m\u001b[38;5;124;43m,\u001b[39;49m\n\u001b[1;32m      8\u001b[0m \u001b[38;5;124;43m     COUNT(vra.icao_aerodromo_destino) AS \u001b[39;49m\u001b[38;5;124;43m\"\u001b[39;49m\u001b[38;5;124;43mQuantidade destino\u001b[39;49m\u001b[38;5;124;43m\"\u001b[39;49m\u001b[38;5;124;43m,\u001b[39;49m\n\u001b[1;32m      9\u001b[0m \u001b[38;5;124;43m     (COUNT(vra.icao_aerodromo_origem) + COUNT(vra.icao_aerodromo_destino)) AS \u001b[39;49m\u001b[38;5;124;43m\"\u001b[39;49m\u001b[38;5;124;43mQuantidade Total\u001b[39;49m\u001b[38;5;124;43m\"\u001b[39;49m\n\u001b[1;32m     10\u001b[0m \u001b[38;5;124;43mFROM\u001b[39;49m\n\u001b[1;32m     11\u001b[0m \u001b[38;5;124;43m    vra\u001b[39;49m\n\u001b[1;32m     12\u001b[0m \u001b[38;5;124;43mLEFT JOIN cia_aerea cia ON vra.icao_empresa_aere = cia.icao\u001b[39;49m\n\u001b[1;32m     13\u001b[0m \u001b[38;5;124;43mWHERE\u001b[39;49m\n\u001b[1;32m     14\u001b[0m \u001b[38;5;124;43m   vra.situacao_voo = \u001b[39;49m\u001b[38;5;124;43m'\u001b[39;49m\u001b[38;5;124;43mREALIZADO\u001b[39;49m\u001b[38;5;124;43m'\u001b[39;49m\n\u001b[1;32m     15\u001b[0m \u001b[38;5;124;43mGROUP BY \u001b[39;49m\n\u001b[1;32m     16\u001b[0m \u001b[38;5;124;43m    YEAR(vra.chegada_real),\u001b[39;49m\n\u001b[1;32m     17\u001b[0m \u001b[38;5;124;43m    cia.endereço_sede,\u001b[39;49m\n\u001b[1;32m     18\u001b[0m \u001b[38;5;124;43m    vra.icao_empresa_aere,\u001b[39;49m\n\u001b[1;32m     19\u001b[0m \u001b[38;5;124;43m    cia.razão_social\u001b[39;49m\n\u001b[1;32m     20\u001b[0m \u001b[38;5;124;43mORDER BY\u001b[39;49m\n\u001b[1;32m     21\u001b[0m \u001b[38;5;124;43m    YEAR(vra.chegada_real)\u001b[39;49m\n\u001b[1;32m     22\u001b[0m \u001b[38;5;124;43m\"\"\"\u001b[39;49m\u001b[43m)\u001b[49m\u001b[38;5;241m.\u001b[39mshow()\n",
      "File \u001b[0;32m/usr/local/spark/python/pyspark/sql/session.py:1034\u001b[0m, in \u001b[0;36mSparkSession.sql\u001b[0;34m(self, sqlQuery, **kwargs)\u001b[0m\n\u001b[1;32m   1032\u001b[0m     sqlQuery \u001b[38;5;241m=\u001b[39m formatter\u001b[38;5;241m.\u001b[39mformat(sqlQuery, \u001b[38;5;241m*\u001b[39m\u001b[38;5;241m*\u001b[39mkwargs)\n\u001b[1;32m   1033\u001b[0m \u001b[38;5;28;01mtry\u001b[39;00m:\n\u001b[0;32m-> 1034\u001b[0m     \u001b[38;5;28;01mreturn\u001b[39;00m DataFrame(\u001b[38;5;28;43mself\u001b[39;49m\u001b[38;5;241;43m.\u001b[39;49m\u001b[43m_jsparkSession\u001b[49m\u001b[38;5;241;43m.\u001b[39;49m\u001b[43msql\u001b[49m\u001b[43m(\u001b[49m\u001b[43msqlQuery\u001b[49m\u001b[43m)\u001b[49m, \u001b[38;5;28mself\u001b[39m)\n\u001b[1;32m   1035\u001b[0m \u001b[38;5;28;01mfinally\u001b[39;00m:\n\u001b[1;32m   1036\u001b[0m     \u001b[38;5;28;01mif\u001b[39;00m \u001b[38;5;28mlen\u001b[39m(kwargs) \u001b[38;5;241m>\u001b[39m \u001b[38;5;241m0\u001b[39m:\n",
      "File \u001b[0;32m/usr/local/spark/python/lib/py4j-0.10.9.5-src.zip/py4j/java_gateway.py:1321\u001b[0m, in \u001b[0;36mJavaMember.__call__\u001b[0;34m(self, *args)\u001b[0m\n\u001b[1;32m   1315\u001b[0m command \u001b[38;5;241m=\u001b[39m proto\u001b[38;5;241m.\u001b[39mCALL_COMMAND_NAME \u001b[38;5;241m+\u001b[39m\\\n\u001b[1;32m   1316\u001b[0m     \u001b[38;5;28mself\u001b[39m\u001b[38;5;241m.\u001b[39mcommand_header \u001b[38;5;241m+\u001b[39m\\\n\u001b[1;32m   1317\u001b[0m     args_command \u001b[38;5;241m+\u001b[39m\\\n\u001b[1;32m   1318\u001b[0m     proto\u001b[38;5;241m.\u001b[39mEND_COMMAND_PART\n\u001b[1;32m   1320\u001b[0m answer \u001b[38;5;241m=\u001b[39m \u001b[38;5;28mself\u001b[39m\u001b[38;5;241m.\u001b[39mgateway_client\u001b[38;5;241m.\u001b[39msend_command(command)\n\u001b[0;32m-> 1321\u001b[0m return_value \u001b[38;5;241m=\u001b[39m \u001b[43mget_return_value\u001b[49m\u001b[43m(\u001b[49m\n\u001b[1;32m   1322\u001b[0m \u001b[43m    \u001b[49m\u001b[43manswer\u001b[49m\u001b[43m,\u001b[49m\u001b[43m \u001b[49m\u001b[38;5;28;43mself\u001b[39;49m\u001b[38;5;241;43m.\u001b[39;49m\u001b[43mgateway_client\u001b[49m\u001b[43m,\u001b[49m\u001b[43m \u001b[49m\u001b[38;5;28;43mself\u001b[39;49m\u001b[38;5;241;43m.\u001b[39;49m\u001b[43mtarget_id\u001b[49m\u001b[43m,\u001b[49m\u001b[43m \u001b[49m\u001b[38;5;28;43mself\u001b[39;49m\u001b[38;5;241;43m.\u001b[39;49m\u001b[43mname\u001b[49m\u001b[43m)\u001b[49m\n\u001b[1;32m   1324\u001b[0m \u001b[38;5;28;01mfor\u001b[39;00m temp_arg \u001b[38;5;129;01min\u001b[39;00m temp_args:\n\u001b[1;32m   1325\u001b[0m     temp_arg\u001b[38;5;241m.\u001b[39m_detach()\n",
      "File \u001b[0;32m/usr/local/spark/python/pyspark/sql/utils.py:196\u001b[0m, in \u001b[0;36mcapture_sql_exception.<locals>.deco\u001b[0;34m(*a, **kw)\u001b[0m\n\u001b[1;32m    192\u001b[0m converted \u001b[38;5;241m=\u001b[39m convert_exception(e\u001b[38;5;241m.\u001b[39mjava_exception)\n\u001b[1;32m    193\u001b[0m \u001b[38;5;28;01mif\u001b[39;00m \u001b[38;5;129;01mnot\u001b[39;00m \u001b[38;5;28misinstance\u001b[39m(converted, UnknownException):\n\u001b[1;32m    194\u001b[0m     \u001b[38;5;66;03m# Hide where the exception came from that shows a non-Pythonic\u001b[39;00m\n\u001b[1;32m    195\u001b[0m     \u001b[38;5;66;03m# JVM exception message.\u001b[39;00m\n\u001b[0;32m--> 196\u001b[0m     \u001b[38;5;28;01mraise\u001b[39;00m converted \u001b[38;5;28;01mfrom\u001b[39;00m \u001b[38;5;28mNone\u001b[39m\n\u001b[1;32m    197\u001b[0m \u001b[38;5;28;01melse\u001b[39;00m:\n\u001b[1;32m    198\u001b[0m     \u001b[38;5;28;01mraise\u001b[39;00m\n",
      "\u001b[0;31mParseException\u001b[0m: \nSyntax error at or near 'do'(line 4, pos 31)\n\n== SQL ==\n\nSELECT\n     YEAR(vra.chegada_real) AS Ano,\n     cia.endereco_sede AS Nome do Aeroporto,\n-------------------------------^^^\n     vra.icao_empresa_aere AS \"ICAO do Aeroporto\",\n     cia.razao_social AS \"Razão social da Companhia Aérea\",\n     COUNT(vra.icao_aerodromo_origem) AS \"Quantidade Origem\",\n     COUNT(vra.icao_aerodromo_destino) AS \"Quantidade destino\",\n     (COUNT(vra.icao_aerodromo_origem) + COUNT(vra.icao_aerodromo_destino)) AS \"Quantidade Total\"\nFROM\n    vra\nLEFT JOIN cia_aerea cia ON vra.icao_empresa_aere = cia.icao\nWHERE\n   vra.situacao_voo = 'REALIZADO'\nGROUP BY \n    YEAR(vra.chegada_real),\n    cia.endereço_sede,\n    vra.icao_empresa_aere,\n    cia.razão_social\nORDER BY\n    YEAR(vra.chegada_real)\n"
     ]
    }
   ],
   "source": [
    "spark.sql(\"\"\"\n",
    "SELECT\n",
    "     YEAR(vra.chegada_real) AS Ano,\n",
    "     cia.endereco_sede AS Nome_do_Aeroporto,\n",
    "     vra.icao_empresa_aere AS ICAO_do_Aeroporto,\n",
    "     cia.razao_social AS \"Razão social da Companhia_Aerea,\n",
    "     COUNT(vra.icao_aerodromo_origem) AS Quantidade_Origem,\n",
    "     COUNT(vra.icao_aerodromo_destino) AS Quantidade_estino\",\n",
    "     (COUNT(vra.icao_aerodromo_origem) + COUNT(vra.icao_aerodromo_destino)) AS \"Quantidade Total\"\n",
    "FROM\n",
    "    vra\n",
    "LEFT JOIN cia_aerea cia ON vra.icao_empresa_aere = cia.icao\n",
    "WHERE\n",
    "   vra.situacao_voo = 'REALIZADO'\n",
    "GROUP BY \n",
    "    YEAR(vra.chegada_real),\n",
    "    cia.endereço_sede,\n",
    "    vra.icao_empresa_aere,\n",
    "    cia.razão_social\n",
    "ORDER BY\n",
    "    YEAR(vra.chegada_real)\n",
    "\"\"\").show()"
   ]
  }
 ],
 "metadata": {
  "kernelspec": {
   "display_name": "Python 3 (ipykernel)",
   "language": "python",
   "name": "python3"
  },
  "language_info": {
   "codemirror_mode": {
    "name": "ipython",
    "version": 3
   },
   "file_extension": ".py",
   "mimetype": "text/x-python",
   "name": "python",
   "nbconvert_exporter": "python",
   "pygments_lexer": "ipython3",
   "version": "3.10.10"
  }
 },
 "nbformat": 4,
 "nbformat_minor": 5
}

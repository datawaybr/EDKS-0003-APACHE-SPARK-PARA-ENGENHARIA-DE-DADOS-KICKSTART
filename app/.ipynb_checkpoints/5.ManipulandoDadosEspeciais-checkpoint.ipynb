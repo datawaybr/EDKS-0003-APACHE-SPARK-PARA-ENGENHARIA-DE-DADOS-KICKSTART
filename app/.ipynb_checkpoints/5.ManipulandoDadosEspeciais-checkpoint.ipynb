{
 "cells": [
  {
   "cell_type": "markdown",
   "metadata": {},
   "source": [
    "# Manipulação de Tipos de Dados Complexos no Apache Spark\n",
    "\n",
    "O Apache Spark oferece uma variedade de funções para manipular tipos de dados complexos, como arrays, mapas e estruturas, em DataFrames. Essas funções são úteis para realizar operações de consulta, transformações e exploração de dados estruturados.\n",
    "\n",
    "## Funções de Manipulação de Arrays\n",
    "\n",
    "As funções a seguir são usadas para manipular arrays em DataFrames:\n",
    "\n",
    "| Função                       | Descrição                                                   | Exemplo de Caso de Uso                   |\n",
    "|------------------------------|-------------------------------------------------------------|-----------------------------------------|\n",
    "| `array(col1, col2, ...)`     | Cria um array a partir de colunas específicas              | Unir colunas em um array.               |\n",
    "| `size(col)`                  | Retorna o tamanho de um array                               | Contar o número de elementos em um array. |\n",
    "| `array_contains(col, value)` | Verifica se um array contém um valor específico            | Filtrar registros que contenham um valor. |\n",
    "| `explode(col)`               | Gera uma nova linha para cada elemento em um array          | Expandir arrays em múltiplas linhas.     |\n",
    "| `concat_ws(sep, col1, col2, ...)` | Concatena elementos de um array com um separador     | Unir elementos de um array em uma string. |\n",
    "| `collect_list(col)`          | Coleta elementos de uma coluna em uma lista                | Agregar dados em uma lista.             |\n",
    "| `collect_set(col)`           | Coleta elementos únicos de uma coluna em um conjunto      | Agregar dados em um conjunto único.     |\n",
    "\n",
    "## Funções de Manipulação de Mapas\n",
    "\n",
    "As funções a seguir são usadas para manipular mapas em DataFrames:\n",
    "\n",
    "| Função                       | Descrição                                                   | Exemplo de Caso de Uso                   |\n",
    "|------------------------------|-------------------------------------------------------------|-----------------------------------------|\n",
    "| `map(col1, col2, ...)`       | Cria um mapa a partir de pares chave-valor                    | Combinar várias colunas em um mapa.      |\n",
    "| `map_keys(col)`              | Retorna as chaves de um mapa                                 | Extrair as chaves de um mapa.             |\n",
    "| `map_values(col)`            | Retorna os valores de um mapa                                | Extrair os valores de um mapa.           |\n",
    "| `map_concat(col1, col2)`     | Concatena dois mapas em um novo mapa                         | Combinar dois mapas em um único mapa.    |\n",
    "| `map_from_arrays(keys, values)` | Cria um mapa a partir de dois arrays                   | Construir um mapa a partir de colunas separadas. |\n",
    "| `map_from_entries(col)`       | Cria um mapa a partir de entradas (chave, valor)           | Construir um mapa a partir de colunas de chave e valor. |\n",
    "\n",
    "## Funções de Manipulação de Estruturas\n",
    "\n",
    "As funções a seguir são usadas para manipular estruturas em DataFrames:\n",
    "\n",
    "| Função                           | Descrição                                                 | Exemplo de Caso de Uso                         |\n",
    "|----------------------------------|-----------------------------------------------------------|-----------------------------------------------|\n",
    "| `struct(col1, col2, ...)`        | Cria uma estrutura a partir de colunas específicas       | Combinar várias colunas em uma estrutura.      |\n",
    "| `struct_fields(col)`             | Retorna os campos de uma estrutura                        | Extrair os campos de uma estrutura.             |\n",
    "| `named_struct(fields)`           | Cria uma estrutura nomeada com campos especificados      | Criar uma estrutura com campos nomeados.        |\n",
    "| `getField(col, fieldName)`       | Retorna o valor de um campo em uma estrutura              | Acessar valores de campos em uma estrutura.     |\n"
   ]
  },
  {
   "cell_type": "code",
   "execution_count": null,
   "metadata": {},
   "outputs": [],
   "source": []
  }
 ],
 "metadata": {
  "language_info": {
   "name": "python"
  }
 },
 "nbformat": 4,
 "nbformat_minor": 2
}

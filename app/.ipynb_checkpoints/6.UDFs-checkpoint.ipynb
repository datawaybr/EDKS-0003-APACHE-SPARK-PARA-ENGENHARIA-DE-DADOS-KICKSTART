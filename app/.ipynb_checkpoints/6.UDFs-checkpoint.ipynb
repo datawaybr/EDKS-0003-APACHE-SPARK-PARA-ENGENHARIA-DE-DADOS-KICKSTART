{
 "cells": [
  {
   "cell_type": "markdown",
   "metadata": {},
   "source": [
    "# UDF\n",
    "\n",
    "As UDFs (User-Defined Functions) no PySpark são funções personalizadas que você pode criar para aplicar operações complexas a colunas em um DataFrame. Elas permitem estender a funcionalidade do PySpark para realizar transformações de dados personalizadas.\n",
    "\n",
    "Aqui está um exemplo de como criar e usar uma UDF no PySpark:\n",
    "\n",
    "```python\n",
    "from pyspark.sql import SparkSession\n",
    "from pyspark.sql.functions import udf\n",
    "from pyspark.sql.types import IntegerType\n",
    "\n",
    "# Inicialize uma sessão Spark\n",
    "spark = SparkSession.builder.appName(\"ExemploUDF\").getOrCreate()\n",
    "\n",
    "# Crie um DataFrame de exemplo\n",
    "data = [(\"Alice\", 25), (\"Bob\", 30), (\"Charlie\", 35)]\n",
    "df = spark.createDataFrame(data, [\"Nome\", \"Idade\"])\n",
    "\n",
    "# Defina uma função Python que será usada como UDF\n",
    "def dobrar_idade(idade):\n",
    "    return idade * 2\n",
    "\n",
    "# Registre a função Python como uma UDF\n",
    "dobrar_idade_udf = udf(dobrar_idade, IntegerType())\n",
    "\n",
    "# Aplique a UDF à coluna 'Idade' e crie uma nova coluna 'IdadeDobrada'\n",
    "df = df.withColumn(\"IdadeDobrada\", dobrar_idade_udf(df[\"Idade\"]))\n",
    "\n",
    "# Mostre o DataFrame resultante\n",
    "df.show()\n",
    "```"
   ]
  },
  {
   "cell_type": "markdown",
   "metadata": {},
   "source": [
    "# Vamos estar fazendo todo o processamento da tabela air_cia e estaremos utilizando UDfs em partes dela"
   ]
  },
  {
   "cell_type": "code",
   "execution_count": 1,
   "metadata": {
    "tags": []
   },
   "outputs": [],
   "source": [
    "from pyspark.sql import SparkSession\n",
    "\n",
    "spark = SparkSession.builder.appName(\"Exemplo\").config(\"spark.jars.packages\", \"org.postgresql:postgresql:42.2.24\").getOrCreate()"
   ]
  },
  {
   "cell_type": "code",
   "execution_count": 7,
   "metadata": {
    "tags": []
   },
   "outputs": [
    {
     "name": "stdout",
     "output_type": "stream",
     "text": [
      "Collecting unidecode\n",
      "  Downloading Unidecode-1.3.7-py3-none-any.whl (235 kB)\n",
      "\u001b[2K     \u001b[90m━━━━━━━━━━━━━━━━━━━━━━━━━━━━━━━━━━━━━━━\u001b[0m \u001b[32m235.5/235.5 kB\u001b[0m \u001b[31m4.9 MB/s\u001b[0m eta \u001b[36m0:00:00\u001b[0ma \u001b[36m0:00:01\u001b[0m\n",
      "\u001b[?25hInstalling collected packages: unidecode\n",
      "Successfully installed unidecode-1.3.7\n"
     ]
    }
   ],
   "source": [
    "%%sh\n",
    "pip install unidecode"
   ]
  },
  {
   "cell_type": "code",
   "execution_count": 13,
   "metadata": {
    "tags": []
   },
   "outputs": [
    {
     "name": "stdout",
     "output_type": "stream",
     "text": [
      "root\n",
      " |-- razao_social: string (nullable = true)\n",
      " |-- icao_iata: string (nullable = true)\n",
      " |-- cnpj: string (nullable = true)\n",
      " |-- atividades_aereas: string (nullable = true)\n",
      " |-- endereco_sede: string (nullable = true)\n",
      " |-- telefone: string (nullable = true)\n",
      " |-- email: string (nullable = true)\n",
      " |-- decisao_operacional: string (nullable = true)\n",
      " |-- data_decisao_operacional: string (nullable = true)\n",
      " |-- validade_operacional: string (nullable = true)\n",
      "\n"
     ]
    }
   ],
   "source": [
    "from unidecode import unidecode\n",
    "\n",
    "air_cia_snake = (\n",
    "    df\n",
    "    .toDF(*[unidecode(str(a).replace('-','').replace(' _','_').replace(' ','_').lower()) for a in df.columns])\n",
    ")\n",
    "\n",
    "air_cia_snake.printSchema()"
   ]
  },
  {
   "cell_type": "code",
   "execution_count": null,
   "metadata": {},
   "outputs": [],
   "source": [
    " def remove_caracters_special(string):\n",
    "    if string:\n",
    "        return unidecode(string)\n",
    "    else:\n",
    "        None"
   ]
  },
  {
   "cell_type": "code",
   "execution_count": null,
   "metadata": {},
   "outputs": [],
   "source": [
    "from pyspark.sql.functions import udf\n",
    "\n",
    "convert_name_udf = udf(remove_caracters_special, StringType())"
   ]
  },
  {
   "cell_type": "markdown",
   "metadata": {
    "jp-MarkdownHeadingCollapsed": true,
    "tags": []
   },
   "source": [
    "# Udf com decorator"
   ]
  },
  {
   "cell_type": "code",
   "execution_count": null,
   "metadata": {},
   "outputs": [],
   "source": [
    "@udf (returnType = StringType())\n",
    "def cnpj_transforming(string):\n",
    "    if string:\n",
    "        return string.replace('.','').replace('/','').replace('-','')\n",
    "    else:\n",
    "        return None\n",
    "\n",
    "@udf (returnType = StringType())\n",
    "def telefone_transforming(string):\n",
    "    if string:\n",
    "        return string.replace('(','').replace(')','').replace(' ','').replace('-','').replace(\"|Fax:\",\"/\")\n",
    "    else:\n",
    "        return None\n",
    "\n",
    "air_cia_snake_type_final =(\n",
    "    air_cia_snake_type\n",
    "    .withColumn(\"icao\", split(col(\"icao_iata\"), \" \")[0])\n",
    "    .withColumn(\"iata\", split(col(\"icao_iata\"), \" \")[1])\n",
    "    .drop(col(\"icao_iata\"))\n",
    "    .withColumn(\"cnpj\", cnpj_transforming(col(\"cnpj\")))\n",
    "    .withColumn(\"telefone\", split(telefone_transforming(col('telefone')),\"/\"))\n",
    "    #.withColumn(\"decisao_operacional\", regexp_replace('decisao_operacional',\"DECISÃO Nº \",'').cast(\"int\"))\n",
    "    .withColumn(\"data_decisao_operacional\" , to_date(col('data_decisao_operacional'),'dd/MM/yyyy'))\n",
    "    .withColumn(\"validade_operacional\" , to_date(col('validade_operacional'),'dd/MM/yyyy'))\n",
    "    .withColumn(\"atividades_aereas\", split(\"atividades_aereas\", \",\"))\n",
    "    .drop_duplicates()\n",
    ")\n",
    "air_cia_snake_type_final.show(30, truncate=False)"
   ]
  },
  {
   "cell_type": "code",
   "execution_count": null,
   "metadata": {},
   "outputs": [],
   "source": []
  }
 ],
 "metadata": {
  "kernelspec": {
   "display_name": "Python 3 (ipykernel)",
   "language": "python",
   "name": "python3"
  },
  "language_info": {
   "codemirror_mode": {
    "name": "ipython",
    "version": 3
   },
   "file_extension": ".py",
   "mimetype": "text/x-python",
   "name": "python",
   "nbconvert_exporter": "python",
   "pygments_lexer": "ipython3",
   "version": "3.10.10"
  }
 },
 "nbformat": 4,
 "nbformat_minor": 4
}

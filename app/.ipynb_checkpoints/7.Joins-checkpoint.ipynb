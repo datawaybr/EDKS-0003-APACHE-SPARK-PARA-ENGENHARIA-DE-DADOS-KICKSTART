{
 "cells": [
  {
   "cell_type": "markdown",
   "metadata": {},
   "source": [
    "# Join, Concat e Pivot no Apache Spark\n",
    "\n",
    "O Apache Spark fornece operações poderosas para unir, concatenar e pivotar DataFrames, permitindo a combinação de dados de várias fontes, a concatenação de DataFrames e a transformação de dados para análises mais avançadas.\n",
    "\n",
    "## Operações de Join\n",
    "\n",
    "As operações de join permitem combinar dois ou mais DataFrames com base em uma ou mais colunas de chave:\n",
    "\n",
    "| Operação       | Descrição                                              | Exemplo de Caso de Uso                          |\n",
    "|----------------|--------------------------------------------------------|-----------------------------------------------|\n",
    "| `join`         | Combina DataFrames usando uma ou mais colunas de chave | Mesclar dados de tabelas relacionadas.         |\n",
    "| `crossJoin`    | Realiza um join cruzado (cada linha com cada linha)    | Gerar todas as combinações possíveis.          |\n",
    "| `leftJoin`     | Executa um join esquerdo (mantém todas as linhas do DataFrame esquerdo) | Unir dados de forma hierárquica.     |\n",
    "| `rightJoin`    | Executa um join direito (mantém todas as linhas do DataFrame direito) | Unir dados de forma hierárquica.     |\n",
    "| `fullOuterJoin` | Executa um join externo completo (mantém todas as linhas de ambos os DataFrames) | Unir dados preservando todos os registros. |\n",
    "\n",
    "## Estratégias de Join no Apache Spark\n",
    "\n",
    "| Estratégia        | Descrição                                                | Quando Usar                  | Desempenho        |\n",
    "|-------------------|----------------------------------------------------------|------------------------------|-------------------|\n",
    "| Shuffle Join      | Redistribuição de dados para realizar a junção           | Grandes DataFrames          | Custo e Tempo     |\n",
    "| Broadcast Join    | Transmissão de um DataFrame pequeno para todos os nós   | Um DataFrame é pequeno     | Eficiente         |\n",
    "| Sort-Merge Join   | Ordenação e fusão de DataFrames                          | DataFrames ordenados        | Eficiente         |\n",
    "| Bucketed Join     | Otimização para DataFrames divididos em buckets         | Chave de junção frequente   | Melhora o desempenho |\n",
    "| Broadcast Hash Join | Transmissão da tabela menor para todos os nós        | Uma tabela é pequena        | Melhora o desempenho |\n",
    "\n",
    "\n",
    "## Operações de Concatenação\n",
    "\n",
    "As operações de concatenação permitem combinar DataFrames verticalmente (por linhas) ou horizontalmente (por colunas):\n",
    "\n",
    "| Operação      | Descrição                                              | Exemplo de Caso de Uso                              |\n",
    "|---------------|--------------------------------------------------------|---------------------------------------------------|\n",
    "| `union`       | Concatena dois DataFrames verticalmente (por linhas)  | Combinar dados de DataFrames semelhantes.          |\n",
    "| `unionAll`    | Concatena dois DataFrames verticalmente (por linhas)  | Combinar dados de DataFrames semelhantes.          |\n",
    "| `unionByName` | Concatena dois DataFrames alinhando colunas pelo nome | Combinar dados de DataFrames com colunas renomeadas. |\n",
    "\n",
    "## Operações de Pivot\n",
    "\n",
    "As operações de pivot permitem transformar DataFrames reorganizando as informações:\n",
    "\n",
    "| Operação     | Descrição                                              | Exemplo de Caso de Uso                     |\n",
    "|--------------|--------------------------------------------------------|------------------------------------------|\n",
    "| `pivot`      | Transforma linhas em colunas com base em uma chave    | Resumir dados em uma tabela dinâmica.    |\n",
    "| `pivotBy`    | Transforma linhas em colunas com base em expressões   | Agregar dados com critérios personalizados. |\n",
    "| `pivotByExpr` | Transforma linhas em colunas com base em expressões   | Agregar dados com critérios personalizados. |\n"
   ]
  },
  {
   "cell_type": "markdown",
   "metadata": {},
   "source": [
    "# A primeira ação é construirmos os dados de air_CIA para fazermos os joins"
   ]
  },
  {
   "cell_type": "code",
   "execution_count": 2,
   "metadata": {
    "tags": []
   },
   "outputs": [],
   "source": [
    "from pyspark.sql import SparkSession\n",
    "\n",
    "spark = SparkSession.builder.appName(\"Exemplo\").config(\"spark.jars.packages\", \"org.postgresql:postgresql:42.2.24\").getOrCreate()"
   ]
  },
  {
   "cell_type": "code",
   "execution_count": 7,
   "metadata": {
    "tags": []
   },
   "outputs": [
    {
     "name": "stdout",
     "output_type": "stream",
     "text": [
      "root\n",
      " |-- razão_social: string (nullable = true)\n",
      " |-- icao_iata: string (nullable = true)\n",
      " |-- cnpj: string (nullable = true)\n",
      " |-- atividades_aéreas: string (nullable = true)\n",
      " |-- endereço_sede: string (nullable = true)\n",
      " |-- telefone: string (nullable = true)\n",
      " |-- e-mail: string (nullable = true)\n",
      " |-- decisão_operacional: string (nullable = true)\n",
      " |-- data_decisão_operacional: string (nullable = true)\n",
      " |-- validade_operacional: string (nullable = true)\n",
      " |-- icao: string (nullable = true)\n",
      " |-- iata: string (nullable = true)\n",
      "\n"
     ]
    }
   ],
   "source": [
    "df_air_cia = (\n",
    "    spark\n",
    "    .read\n",
    "    .format(\"parquet\")\n",
    "    .load(\"/home/app/data/1.bronze/air_cia/\")\n",
    ")\n",
    "\n",
    "df_air_cia.printSchema()"
   ]
  },
  {
   "cell_type": "code",
   "execution_count": 8,
   "metadata": {
    "tags": []
   },
   "outputs": [
    {
     "name": "stdout",
     "output_type": "stream",
     "text": [
      "root\n",
      " |-- icao_empresa_aerea: string (nullable = true)\n",
      " |-- numero_voo: string (nullable = true)\n",
      " |-- codigo_di: string (nullable = true)\n",
      " |-- codigo_tipo_linha: string (nullable = true)\n",
      " |-- icao_aerodromo_origem: string (nullable = true)\n",
      " |-- icao_aerodromo_destino: string (nullable = true)\n",
      " |-- partida_prevista: string (nullable = true)\n",
      " |-- partida_real: string (nullable = true)\n",
      " |-- chegada_prevista: string (nullable = true)\n",
      " |-- chegada_real: string (nullable = true)\n",
      " |-- situacao_voo: string (nullable = true)\n",
      " |-- codigo_justificativa: string (nullable = true)\n",
      "\n"
     ]
    }
   ],
   "source": [
    "df_vra = (\n",
    "    spark\n",
    "    .read\n",
    "    .format(\"parquet\")\n",
    "    .load(\"/home/app/data/1.bronze/vra/\")\n",
    ")\n",
    "\n",
    "df_vra.printSchema()"
   ]
  },
  {
   "cell_type": "markdown",
   "metadata": {},
   "source": [
    "# joins"
   ]
  },
  {
   "cell_type": "markdown",
   "metadata": {},
   "source": [
    "# Concat"
   ]
  },
  {
   "cell_type": "markdown",
   "metadata": {
    "tags": []
   },
   "source": [
    "# Pivot"
   ]
  }
 ],
 "metadata": {
  "kernelspec": {
   "display_name": "Python 3 (ipykernel)",
   "language": "python",
   "name": "python3"
  },
  "language_info": {
   "codemirror_mode": {
    "name": "ipython",
    "version": 3
   },
   "file_extension": ".py",
   "mimetype": "text/x-python",
   "name": "python",
   "nbconvert_exporter": "python",
   "pygments_lexer": "ipython3",
   "version": "3.10.10"
  }
 },
 "nbformat": 4,
 "nbformat_minor": 4
}

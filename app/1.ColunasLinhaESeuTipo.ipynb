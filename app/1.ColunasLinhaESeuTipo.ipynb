{
 "cells": [
  {
   "cell_type": "markdown",
   "metadata": {},
   "source": [
    "# Colunas e Linhas no Apache Spark\n",
    "\n",
    "O Apache Spark oferece recursos robustos para trabalhar com colunas e linhas de dados. As colunas são componentes essenciais para selecionar e transformar dados, enquanto as linhas representam entradas individuais em um DataFrame.\n",
    "\n",
    "## Colunas\n",
    "\n",
    "As colunas são objetos que representam uma única coluna em um DataFrame. Elas possuem vários métodos e funcionalidades para transformação e manipulação de dados.\n",
    "\n",
    "| Recurso                                      | Descrição                                                                                          |\n",
    "|---------------------------------------------|----------------------------------------------------------------------------------------------------|\n",
    "| Seleção de Coluna                           | Você pode selecionar uma coluna usando notação de ponto, como `df.coluna`, ou `df[\"coluna\"]`.       |\n",
    "| Operações Matemáticas                       | As colunas suportam operações matemáticas, como soma, subtração, multiplicação e divisão.        |\n",
    "| Funções de Agregação                        | Você pode aplicar funções de agregação, como `count`, `sum`, `avg`, `max` e `min`, a uma coluna. |\n",
    "| Alias (Apelidos)                            | É possível renomear colunas usando o método `.alias(\"novo_nome\")`.                                |\n",
    "| Operações de String                         | Realize operações de string em colunas usando funções como `.substr`, `.lower`, `.replace`, etc. |\n",
    "\n",
    "## Linhas\n",
    "\n",
    "As linhas representam entradas individuais em um DataFrame. Elas contêm os valores para cada coluna em um determinado registro.\n",
    "\n",
    "| Recurso                                      | Descrição                                                                                      |\n",
    "|---------------------------------------------|------------------------------------------------------------------------------------------------|\n",
    "| Acesso a Dados                              | Você pode acessar os dados de uma linha usando notação de ponto ou índices, como `linha.coluna` ou `linha[índice]`. |\n",
    "| Conversão para Dicionário                   | Converta uma linha em um dicionário para fácil manipulação usando o método `.asDict()`.    |\n",
    "| Comparação de Linhas                        | Compare linhas para verificar igualdade ou ordem usando operadores de comparação.         |\n",
    "| Construção de Linhas                        | Crie linhas usando o construtor `Row`. Isso é útil para criar novas linhas em operações de transformação de dados. |\n",
    "\n",
    "## Exemplo de Uso\n",
    "\n",
    "Aqui está um exemplo que demonstra a seleção de colunas e o acesso a dados de linhas em um DataFrame:\n",
    "\n",
    "```python\n",
    "# Importe os módulos necessários\n",
    "from pyspark.sql import SparkSession, Row\n",
    "\n",
    "# Crie um DataFrame de exemplo\n",
    "data = [Row(nome=\"Alice\", idade=30), Row(nome=\"Bob\", idade=35)]\n",
    "df = spark.createDataFrame(data)\n",
    "\n",
    "# Selecione uma coluna\n",
    "nomes = df.select(\"nome\")\n",
    "\n",
    "# Acesse dados da linha\n",
    "primeira_linha = df.first()\n",
    "nome_da_primeira_linha = primeira_linha.nome\n",
    "```"
   ]
  },
  {
   "cell_type": "code",
   "execution_count": null,
   "metadata": {
    "vscode": {
     "languageId": "plaintext"
    }
   },
   "outputs": [],
   "source": []
  },
  {
   "cell_type": "markdown",
   "metadata": {},
   "source": [
    "# Tipos de Dados no Apache Spark\n",
    "\n",
    "O Apache Spark oferece uma variedade de tipos de dados que podem ser usados para representar informações em DataFrames. Cada tipo de dado tem características específicas que o tornam adequado para diferentes cenários.\n",
    "\n",
    "## Tipos de Dados Primitivos\n",
    "\n",
    "Os tipos de dados primitivos são os blocos de construção fundamentais para representar informações em Spark:\n",
    "\n",
    "| Tipo de Dado   | Descrição                                      | Exemplo de Caso de Uso                     |\n",
    "|-----------------|------------------------------------------------|------------------------------------------|\n",
    "| IntegerType     | Números inteiros de 32 bits                     | Idades, quantidades, índices.             |\n",
    "| LongType        | Números inteiros de 64 bits                     | IDs exclusivos, contagens extensas.      |\n",
    "| FloatType       | Números de ponto flutuante de 32 bits           | Medidas com decimais, preços.             |\n",
    "| DoubleType      | Números de ponto flutuante de 64 bits           | Valores de alta precisão, coordenadas.    |\n",
    "| StringType      | Sequências de caracteres                        | Nomes, descrições, textos.                |\n",
    "| BooleanType     | Valores booleanos (True/False)                 | Marcadores de verdadeiro ou falso.        |\n",
    "| DateType        | Datas                                        | Datas de eventos, vencimentos.            |\n",
    "| TimestampType   | Data e hora                                 | Registro de eventos com horários.        |\n",
    "| BinaryType      | Dados binários                                | Imagens, arquivos binários.               |\n",
    "| NullType        | Valor nulo (ausência de valor)                | Registros incompletos ou ausentes.        |\n",
    "\n",
    "## Tipos de Dados Complexos\n",
    "\n",
    "Os tipos de dados complexos permitem representar informações mais estruturadas:\n",
    "\n",
    "| Tipo de Dado        | Descrição                                    | Exemplo de Caso de Uso                  |\n",
    "|---------------------|----------------------------------------------|---------------------------------------|\n",
    "| ArrayType           | Lista ordenada de elementos                  | Lista de produtos em um pedido.      |\n",
    "| MapType             | Coleção de pares chave-valor                  | Dicionário de configurações.          |\n",
    "| StructType          | Estrutura de dados com campos nomeados       | Registro de funcionário com nome e idade. |\n",
    "| StructField         | Campo dentro de um StructType                | Colunas em um DataFrame.              |\n"
   ]
  }
 ],
 "metadata": {
  "kernelspec": {
   "display_name": "Python 3 (ipykernel)",
   "language": "python",
   "name": "python3"
  },
  "language_info": {
   "codemirror_mode": {
    "name": "ipython",
    "version": 3
   },
   "file_extension": ".py",
   "mimetype": "text/x-python",
   "name": "python",
   "nbconvert_exporter": "python",
   "pygments_lexer": "ipython3",
   "version": "3.10.10"
  }
 },
 "nbformat": 4,
 "nbformat_minor": 4
}

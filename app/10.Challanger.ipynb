{
 "cells": [
  {
   "cell_type": "markdown",
   "id": "214ec1be-3d4a-47c1-81c8-bede77505ebe",
   "metadata": {},
   "source": [
    "# Nosso desafio\n",
    "\n",
    "- Para cada aeroporto trazer as top10 **companhias aéreas com maior atuação no ano** com as seguintes informações:\n",
    "    - Razão social da Companhia Aérea\n",
    "    - ICAO do Aeroporto\n",
    "    - Quantidade de Rotas à partir daquele aeroporto\n",
    "    - Quantidade de Rotas com destino àquele aeroporto\n",
    "    - Quantidade total de pousos e decolagens naquele aeroporto"
   ]
  },
  {
   "cell_type": "markdown",
   "id": "d991bf71-ff49-4791-bd4b-3b98c12ba3e3",
   "metadata": {
    "tags": []
   },
   "source": [
    "# Solving"
   ]
  },
  {
   "cell_type": "code",
   "execution_count": 1,
   "id": "48528197-51d6-44ba-b0df-663dc469c40c",
   "metadata": {
    "tags": []
   },
   "outputs": [],
   "source": [
    "from pyspark.sql import SparkSession\n",
    "import pyspark.sql.functions as F\n",
    "\n",
    "spark = SparkSession.builder.appName(\"Exemplo\").config(\"spark.jars.packages\", \"org.postgresql:postgresql:42.2.24\").getOrCreate()"
   ]
  },
  {
   "cell_type": "code",
   "execution_count": 36,
   "id": "cc6dc05e-3d51-4e27-b3a2-95e1ead35433",
   "metadata": {
    "tags": []
   },
   "outputs": [
    {
     "name": "stdout",
     "output_type": "stream",
     "text": [
      "-RECORD 0----------------------------------\n",
      " icao_empresa_aerea     | AAL              \n",
      " numero_voo             | 904              \n",
      " codigo_di              | 0                \n",
      " codigo_tipo_linha      | I                \n",
      " icao_aerodromo_origem  | SBGL             \n",
      " icao_aerodromo_destino | KMIA             \n",
      " partida_prevista       | 01/06/2022 23:00 \n",
      " partida_real           | 01/06/2022 22:57 \n",
      " chegada_prevista       | 02/06/2022 07:45 \n",
      " chegada_real           | 02/06/2022 07:17 \n",
      " situacao_voo           | REALIZADO        \n",
      " codigo_justificativa   | null             \n",
      "only showing top 1 row\n",
      "\n",
      "-RECORD 0----------------------------------------\n",
      " razao_social             | ABSA - AEROLINHAS... \n",
      " icao_iata                | LTG M3               \n",
      " cnpj                     | 00074635000133       \n",
      " atividades_aereas        | TRANSPORTE AÉREO ... \n",
      " endereco_sede            | AEROPORTO INTERNA... \n",
      " telefone                 | 1155828055           \n",
      " e-mail                   | gar@tam.com.br       \n",
      " decisao_operacional      | DECISÃO Nº 41        \n",
      " data_decisao_operacional | 22/04/2015           \n",
      " validade_operacional     | 23/04/2025           \n",
      " icao                     | LTG                  \n",
      " iata                     | M3                   \n",
      "only showing top 1 row\n",
      "\n"
     ]
    }
   ],
   "source": [
    "df_vra = (\n",
    "    spark\n",
    "    .read\n",
    "    .format(\"parquet\")\n",
    "    .load(\"/home/app/data/1.bronze/vra/\")\n",
    ")\n",
    "\n",
    "df_vra.show(1, vertical=True)\n",
    "\n",
    "df_aircia  = (\n",
    "    spark\n",
    "    .read\n",
    "    .format(\"parquet\")\n",
    "    .load(\"/home/app/data/1.bronze/air_cia/\")\n",
    ")\n",
    "\n",
    "df_aircia.show(1, vertical=True)"
   ]
  },
  {
   "cell_type": "code",
   "execution_count": 4,
   "id": "8062078c-9b32-47c3-814f-b22ef0ec90bc",
   "metadata": {
    "tags": []
   },
   "outputs": [],
   "source": [
    "df_aircia.createOrReplaceTempView(\"cia_aerea\")\n",
    "df_vra.createOrReplaceTempView(\"vra\")"
   ]
  },
  {
   "cell_type": "code",
   "execution_count": 5,
   "id": "11e24c9d-80a3-4b2e-989a-f5fc13c5e0de",
   "metadata": {
    "tags": []
   },
   "outputs": [
    {
     "name": "stdout",
     "output_type": "stream",
     "text": [
      "+------------------+----------+---------+-----------------+---------------------+----------------------+----------------+----------------+----------------+----------------+------------+--------------------+\n",
      "|icao_empresa_aerea|numero_voo|codigo_di|codigo_tipo_linha|icao_aerodromo_origem|icao_aerodromo_destino|partida_prevista|    partida_real|chegada_prevista|    chegada_real|situacao_voo|codigo_justificativa|\n",
      "+------------------+----------+---------+-----------------+---------------------+----------------------+----------------+----------------+----------------+----------------+------------+--------------------+\n",
      "|               AAL|       904|        0|                I|                 SBGL|                  KMIA|01/06/2022 23:00|01/06/2022 22:57|02/06/2022 07:45|02/06/2022 07:17|   REALIZADO|                null|\n",
      "|               AAL|       905|        0|                I|                 KMIA|                  SBGL|01/06/2022 21:00|01/06/2022 21:55|02/06/2022 05:10|02/06/2022 06:07|   REALIZADO|                null|\n",
      "|               AAL|       906|        0|                I|                 SBGR|                  KMIA|01/06/2022 23:15|01/06/2022 23:13|02/06/2022 07:45|02/06/2022 07:36|   REALIZADO|                null|\n",
      "|               AAL|       929|        0|                I|                 KMIA|                  SBGR|01/06/2022 21:00|01/06/2022 23:36|02/06/2022 05:15|02/06/2022 07:41|   REALIZADO|                null|\n",
      "|               AAL|       930|        0|                I|                 SBGR|                  KMIA|01/06/2022 21:25|01/06/2022 21:19|02/06/2022 06:00|02/06/2022 05:27|   REALIZADO|                null|\n",
      "|               AAL|       950|        0|                I|                 SBGR|                  KJFK|01/06/2022 21:40|01/06/2022 21:38|02/06/2022 07:30|02/06/2022 06:56|   REALIZADO|                null|\n",
      "|               AAL|       951|        0|                I|                 KJFK|                  SBGR|01/06/2022 22:50|01/06/2022 23:57|02/06/2022 08:20|02/06/2022 11:08|   REALIZADO|                null|\n",
      "|               AAL|       962|        0|                I|                 SBGR|                  KDFW|01/06/2022 22:25|01/06/2022 22:16|02/06/2022 08:50|02/06/2022 08:54|   REALIZADO|                null|\n",
      "|               AAL|       963|        0|                I|                 KDFW|                  SBGR|01/06/2022 21:30|01/06/2022 23:54|02/06/2022 07:30|02/06/2022 09:47|   REALIZADO|                null|\n",
      "|               AAL|       991|        2|                X|                 KMIA|                  SBGR|            null|02/06/2022 10:00|            null|02/06/2022 18:08|   REALIZADO|                null|\n",
      "+------------------+----------+---------+-----------------+---------------------+----------------------+----------------+----------------+----------------+----------------+------------+--------------------+\n",
      "\n"
     ]
    }
   ],
   "source": [
    "spark.sql(\"select * from vra limit 10\").show()"
   ]
  },
  {
   "cell_type": "code",
   "execution_count": 6,
   "id": "967cfd1d-b808-47b4-8f42-4b9ea632cdbb",
   "metadata": {
    "tags": []
   },
   "outputs": [
    {
     "name": "stdout",
     "output_type": "stream",
     "text": [
      "+--------------------+---------+--------------+--------------------+--------------------+--------------------+--------------------+--------------------+------------------------+--------------------+----+----+\n",
      "|        razao_social|icao_iata|          cnpj|   atividades_aereas|       endereco_sede|            telefone|              e-mail| decisao_operacional|data_decisao_operacional|validade_operacional|icao|iata|\n",
      "+--------------------+---------+--------------+--------------------+--------------------+--------------------+--------------------+--------------------+------------------------+--------------------+----+----+\n",
      "|ABSA - AEROLINHAS...|   LTG M3|00074635000133|TRANSPORTE AÉREO ...|AEROPORTO INTERNA...|          1155828055|      gar@tam.com.br|       DECISÃO Nº 41|              22/04/2015|          23/04/2025| LTG|  M3|\n",
      "|AEROSUL TÁXI AÉRE...|   ASO 2S|27315694000102|SERVIÇOS AÉREOS P...|RODOVIA PR 218, K...|          4331764030|operacoes@aerosul...|      DECISÃO Nº 282|              10/02/2021|                null| ASO|  2S|\n",
      "|ASTA LINHAS AÉREA...|   SUL 0A|12703737000150|SERVIÇOS AÉREOS P...|AV GOVERNADOR JOÃ...|65361426841821041000|                null|      DECISÃO Nº 115|              31/07/2019|          02/08/2024| SUL|  0A|\n",
      "|ATA - AEROTÁXI AB...|      ABJ|14674451000119|TÁXI-AÉREO, TRANS...| PÇA. GAGO COUTIN...|71346296007199664...|guilherme@abaete....|       DECISÃO Nº 36|              05/03/2020|                null| ABJ|null|\n",
      "|AZUL CONECTA LTDA...|   ACN 2F|04263318000116|TRANSPORTE AÉREO ...|AVENIDA EMILIO AN...|11458223551198743...|                null|Decisão nº 14, de...|              25/01/2018|          29/01/2028| ACN|  2F|\n",
      "|AZUL LINHAS AÉREA...|   AZU AD|09296295000160|TRANSPORTE AÉREO ...|AV. MARCOS PENTEA...|55114134988755114...|vanessa.reis@voea...|      Decisão nº 178|              20/11/2018|          21/11/2028| AZU|  AD|\n",
      "|GOL LINHAS AÉREAS...|   GLO G3|07575651000159|TRANSPORTE AÉREO ...|PRAÇA SENADOR SAL...|11509829901150987872|rddfonseca@voegol...|      DECISÃO Nº 156|              05/11/2019|                null| GLO|  G3|\n",
      "|MAP TRANSPORTES A...|   PAM 7M|10483635000140|TRANSPORTE AÉREO ...|AVENIDA SANTOS DU...|          9236521620|contabil@voemap.c...|       DECISÃO Nº 89|              14/08/2012|          17/08/2022| PAM|  7M|\n",
      "|MODERN TRANSPORTE...|   MWM WD|03887831000115|TRANSPORTE AÉREO ...|AVENIDA PREFEITO ...|21227292721131096750|juridico@modern.c...|       DECISÃO Nº 79|              31/05/2017|          02/06/2027| MWM|  WD|\n",
      "|PASSAREDO TRANSPO...|   PTB 2Z|00512777000135|TRANSPORTE AÉREO ...|SETOR DE HANGARES...|16351471271635147126|juridico@voepass....|      DECISÃO Nº 105|              09/06/2020|                null| PTB|  2Z|\n",
      "+--------------------+---------+--------------+--------------------+--------------------+--------------------+--------------------+--------------------+------------------------+--------------------+----+----+\n",
      "\n"
     ]
    }
   ],
   "source": [
    "spark.sql(\"select * from cia_aerea limit 10\").show()"
   ]
  },
  {
   "cell_type": "code",
   "execution_count": 10,
   "id": "bd5a6f71-806a-4cb5-95fd-ca710ae9cc3f",
   "metadata": {
    "tags": []
   },
   "outputs": [
    {
     "name": "stdout",
     "output_type": "stream",
     "text": [
      "+----+--------------------+-----------------+-----------------+------------------+----------------+\n",
      "| Ano|    Razao_social_CIA|ICAO_do_Aeroporto|Quantidade_Origem|Quantidade_Destino|Quantidade_Total|\n",
      "+----+--------------------+-----------------+-----------------+------------------+----------------+\n",
      "|null|AZUL LINHAS AÉREA...|              AZU|           293534|            286809|          580343|\n",
      "|null|TAM LINHAS AÉREAS...|              TAM|           250372|            245447|          495819|\n",
      "|null|GOL LINHAS AÉREAS...|              GLO|           230594|            222394|          452988|\n",
      "|null|AZUL CONECTA LTDA...|              ACN|            18904|             16711|           35615|\n",
      "|null|PASSAREDO TRANSPO...|              PTB|            16313|             15076|           31389|\n",
      "|null|SIDERAL LINHAS AÉ...|              SID|            15428|             14380|           29808|\n",
      "|null|                null|              TAP|             7803|              7679|           15482|\n",
      "|null|                null|              CMP|             6955|              6902|           13857|\n",
      "|null|                null|              LAN|             6379|              6086|           12465|\n",
      "|null|                null|              ARG|             6241|              5193|           11434|\n",
      "|null|                null|              AAL|             3645|              3510|            7155|\n",
      "|null|                null|              AVA|             3281|              3273|            6554|\n",
      "|null|                null|              UAL|             3257|              3237|            6494|\n",
      "|null|MAP TRANSPORTES A...|              PAM|             3622|              2597|            6219|\n",
      "|null|ABSA - AEROLINHAS...|              LTG|             3928|              1867|            5795|\n",
      "|null|                null|              FBZ|             2642|              2495|            5137|\n",
      "|null|                null|              AFR|             2436|              2414|            4850|\n",
      "|null|TOTAL LINHAS AÉRE...|              TTL|             2518|              2103|            4621|\n",
      "|null|                null|              QTR|             2301|              2208|            4509|\n",
      "|null|                null|              LCO|             2819|              1577|            4396|\n",
      "+----+--------------------+-----------------+-----------------+------------------+----------------+\n",
      "only showing top 20 rows\n",
      "\n"
     ]
    }
   ],
   "source": [
    "spark.sql(\"\"\"\n",
    "SELECT\n",
    "     YEAR(to_date(vra.partida_real,'dd/MM/yyyy HH:mm')) AS Ano,\n",
    "     cia.razao_social AS Razao_social_CIA,\n",
    "     vra.icao_empresa_aerea AS ICAO_do_Aeroporto,\n",
    "     COUNT(vra.icao_aerodromo_origem) AS Quantidade_Origem,\n",
    "     COUNT(vra.icao_aerodromo_destino) AS Quantidade_Destino,\n",
    "     (COUNT(vra.icao_aerodromo_origem) + COUNT(vra.icao_aerodromo_destino)) AS Quantidade_Total\n",
    "FROM\n",
    "    vra\n",
    "        LEFT JOIN cia_aerea cia ON vra.icao_empresa_aerea = cia.icao\n",
    "WHERE\n",
    "   vra.situacao_voo = 'REALIZADO'\n",
    "GROUP BY \n",
    "    YEAR(to_date(vra.partida_real,'dd/MM/yyyy HH:mm')),\n",
    "    cia.razao_social,\n",
    "    vra.icao_empresa_aerea\n",
    "ORDER BY\n",
    "    YEAR(to_date(vra.partida_real,'dd/MM/yyyy HH:mm')), \n",
    "    (COUNT(vra.icao_aerodromo_origem) + COUNT(vra.icao_aerodromo_destino))\n",
    "DESC\n",
    "\"\"\").show()"
   ]
  },
  {
   "cell_type": "code",
   "execution_count": 12,
   "id": "13ee431a-38a5-474d-9382-925d5cdac4bc",
   "metadata": {
    "tags": []
   },
   "outputs": [
    {
     "name": "stdout",
     "output_type": "stream",
     "text": [
      "+--------+\n",
      "|count(1)|\n",
      "+--------+\n",
      "| 2473226|\n",
      "+--------+\n",
      "\n"
     ]
    }
   ],
   "source": [
    "spark.sql(\"\"\"\n",
    "with vra_clean as (\n",
    "select\n",
    "    YEAR(to_date(partida_prevista,'dd/MM/yyyy HH:mm')) AS Ano,\n",
    "    *\n",
    "from \n",
    "    vra\n",
    "where\n",
    "    vra.situacao_voo = ('REALIZADO')\n",
    ")\n",
    "select count(*)\n",
    "from vra_clean\n",
    "where ano in ('2022', '2021', '2023', '2020')\n",
    "\"\"\").show()"
   ]
  },
  {
   "cell_type": "code",
   "execution_count": 14,
   "id": "a18d11d0-4bfe-4da9-a1d3-f8b0800b573a",
   "metadata": {
    "tags": []
   },
   "outputs": [
    {
     "name": "stdout",
     "output_type": "stream",
     "text": [
      "+--------+\n",
      "|count(1)|\n",
      "+--------+\n",
      "| 2494954|\n",
      "+--------+\n",
      "\n"
     ]
    }
   ],
   "source": [
    "spark.sql(\"select count(*) from vra where situacao_voo = ('REALIZADO')\").show()"
   ]
  },
  {
   "cell_type": "code",
   "execution_count": 15,
   "id": "34f75534-c6f7-4bef-9013-632335203bf2",
   "metadata": {
    "jupyter": {
     "source_hidden": true
    },
    "tags": []
   },
   "outputs": [
    {
     "data": {
      "text/plain": [
       "21728"
      ]
     },
     "execution_count": 15,
     "metadata": {},
     "output_type": "execute_result"
    }
   ],
   "source": [
    "2494954 - 2473226 "
   ]
  },
  {
   "cell_type": "code",
   "execution_count": 25,
   "id": "f393fd9b-3831-4121-b937-708c89a72ca5",
   "metadata": {
    "tags": []
   },
   "outputs": [
    {
     "name": "stdout",
     "output_type": "stream",
     "text": [
      "+----+--------------------+-----------------+---------------------+----------------------+-----------------+------------------+----------------+\n",
      "| Ano|    Razao_social_CIA|ICAO_do_Aeroporto|icao_aerodromo_origem|icao_aerodromo_destino|Quantidade_Origem|Quantidade_Destino|Quantidade_Total|\n",
      "+----+--------------------+-----------------+---------------------+----------------------+-----------------+------------------+----------------+\n",
      "|2020|AZUL LINHAS AÉREA...|              AZU|                 SBKP|                  SBKP|            28930|             44550|           73480|\n",
      "|2020|AZUL LINHAS AÉREA...|              AZU|                 SBKP|                  SBKP|            28930|             39523|           68453|\n",
      "|2020|TAM LINHAS AÉREAS...|              TAM|                 SBGR|                  SBGR|            28941|             37158|           66099|\n",
      "|2020|TAM LINHAS AÉREAS...|              TAM|                 SBGR|                  SBGR|            28941|             34801|           63742|\n",
      "|2020|AZUL LINHAS AÉREA...|              AZU|                 SBCF|                  SBKP|            14689|             44550|           59239|\n",
      "|2020|AZUL LINHAS AÉREA...|              AZU|                 SBRF|                  SBKP|            12467|             44550|           57017|\n",
      "|2020|AZUL LINHAS AÉREA...|              AZU|                 SBCF|                  SBKP|            14689|             39523|           54212|\n",
      "|2020|TAM LINHAS AÉREAS...|              TAM|                 SBGR|                  SBSP|            28941|             24368|           53309|\n",
      "|2020|TAM LINHAS AÉREAS...|              TAM|                 SBGR|                  SBGR|            28941|             24091|           53032|\n",
      "|2020|AZUL LINHAS AÉREA...|              AZU|                 SBKP|                  SBKP|            28930|             23760|           52690|\n",
      "|2020|AZUL LINHAS AÉREA...|              AZU|                 SBRF|                  SBKP|            12467|             39523|           51990|\n",
      "|2020|AZUL LINHAS AÉREA...|              AZU|                 SBKP|                  SBCF|            28930|             23022|           51952|\n",
      "|2020|AZUL LINHAS AÉREA...|              AZU|                 SBKP|                  SBRF|            28930|             22483|           51413|\n",
      "|2020|GOL LINHAS AÉREAS...|              GLO|                 SBGR|                  SBGR|            23898|             26722|           50620|\n",
      "|2020|TAM LINHAS AÉREAS...|              TAM|                 SBBR|                  SBGR|            13144|             37158|           50302|\n",
      "|2020|AZUL LINHAS AÉREA...|              AZU|                 SBKP|                  SBCF|            28930|             21002|           49932|\n",
      "|2020|TAM LINHAS AÉREAS...|              TAM|                 SBSP|                  SBGR|            12585|             37158|           49743|\n",
      "|2020|TAM LINHAS AÉREAS...|              TAM|                 SBBR|                  SBGR|            13144|             34801|           47945|\n",
      "|2020|TAM LINHAS AÉREAS...|              TAM|                 SBSP|                  SBGR|            12585|             34801|           47386|\n",
      "|2020|GOL LINHAS AÉREAS...|              GLO|                 SBGR|                  SBGR|            23898|             23462|           47360|\n",
      "|2020|TAM LINHAS AÉREAS...|              TAM|                 SBGR|                  SBBR|            28941|             18327|           47268|\n",
      "|2020|AZUL LINHAS AÉREA...|              AZU|                 SBKP|                  SBRF|            28930|             17517|           46447|\n",
      "|2020|TAM LINHAS AÉREAS...|              TAM|                 SBGR|                  SBSP|            28941|             17282|           46223|\n",
      "|2020|TAM LINHAS AÉREAS...|              TAM|                 SBGR|                  SBBR|            28941|             16664|           45605|\n",
      "|2020|GOL LINHAS AÉREAS...|              GLO|                 SBGR|                  SBSP|            23898|             20519|           44417|\n",
      "|2020|GOL LINHAS AÉREAS...|              GLO|                 SBGR|                  SBGR|            23898|             19598|           43496|\n",
      "|2020|AZUL LINHAS AÉREA...|              AZU|                 SBKP|                  SBRJ|            28930|             13030|           41960|\n",
      "|2020|AZUL LINHAS AÉREA...|              AZU|                 SBKP|                  SBCF|            28930|             12568|           41498|\n",
      "|2020|AZUL LINHAS AÉREA...|              AZU|                 SBKP|                  SBRJ|            28930|             11803|           40733|\n",
      "|2020|TAM LINHAS AÉREAS...|              TAM|                 SBGR|                  SBSP|            28941|             11470|           40411|\n",
      "|2020|TAM LINHAS AÉREAS...|              TAM|                 SBGR|                  SBBR|            28941|             10624|           39565|\n",
      "|2020|AZUL LINHAS AÉREA...|              AZU|                 SBKP|                  SBRF|            28930|             10450|           39380|\n",
      "|2020|GOL LINHAS AÉREAS...|              GLO|                 SBSP|                  SBGR|            12055|             26722|           38777|\n",
      "|2020|GOL LINHAS AÉREAS...|              GLO|                 SBBR|                  SBGR|            12030|             26722|           38752|\n",
      "|2020|AZUL LINHAS AÉREA...|              AZU|                 SBCF|                  SBKP|            14689|             23760|           38449|\n",
      "|2020|GOL LINHAS AÉREAS...|              GLO|                 SBGR|                  SBBR|            23898|             14024|           37922|\n",
      "|2020|AZUL LINHAS AÉREA...|              AZU|                 SBCF|                  SBCF|            14689|             23022|           37711|\n",
      "|2020|TAM LINHAS AÉREAS...|              TAM|                 SBBR|                  SBSP|            13144|             24368|           37512|\n",
      "|2020|GOL LINHAS AÉREAS...|              GLO|                 SBGR|                  SBBR|            23898|             13403|           37301|\n",
      "|2020|TAM LINHAS AÉREAS...|              TAM|                 SBBR|                  SBGR|            13144|             24091|           37235|\n",
      "+----+--------------------+-----------------+---------------------+----------------------+-----------------+------------------+----------------+\n",
      "only showing top 40 rows\n",
      "\n"
     ]
    }
   ],
   "source": [
    "spark.sql(\"\"\"\n",
    "with vra_clean as (\n",
    "select\n",
    "    YEAR(to_date(partida_prevista,'dd/MM/yyyy HH:mm')) AS Ano,\n",
    "    *\n",
    "from \n",
    "    vra\n",
    "where\n",
    "    vra.situacao_voo = ('REALIZADO')\n",
    "    and YEAR(to_date(partida_prevista,'dd/MM/yyyy HH:mm')) in ('2022', '2021', '2023', '2020')\n",
    "),\n",
    "count_origem as (\n",
    "select\n",
    "    vra.Ano,\n",
    "    cia.razao_social AS Razao_social_CIA,\n",
    "    vra.icao_empresa_aerea AS ICAO_do_Aeroporto,\n",
    "    vra.icao_aerodromo_origem,\n",
    "    COUNT(*) AS Quantidade_Origem,\n",
    "    rank() OVER (PARTITION BY vra.Ano ORDER BY COUNT(*) DESC) AS rank\n",
    "from \n",
    "    vra_clean as vra LEFT JOIN cia_aerea cia ON vra.icao_empresa_aerea = cia.icao\n",
    "group by\n",
    "    vra.Ano,\n",
    "    cia.razao_social,\n",
    "    vra.icao_empresa_aerea,\n",
    "    vra.icao_aerodromo_origem\n",
    "order by \n",
    "    vra.Ano,\n",
    "    Quantidade_Origem\n",
    "DESC\n",
    "),\n",
    "count_destino as (\n",
    "select\n",
    "    vra.Ano,\n",
    "    cia.razao_social AS Razao_social_CIA,\n",
    "    vra.icao_empresa_aerea AS ICAO_do_Aeroporto,\n",
    "    vra.icao_aerodromo_destino,\n",
    "    COUNT(*) AS Quantidade_Destino,\n",
    "    rank() OVER (PARTITION BY vra.Ano ORDER BY COUNT(*) DESC) AS rank\n",
    "from \n",
    "    vra_clean as vra LEFT JOIN cia_aerea cia ON vra.icao_empresa_aerea = cia.icao\n",
    "group by\n",
    "    vra.Ano,\n",
    "    cia.razao_social,\n",
    "    vra.icao_empresa_aerea,\n",
    "    vra.icao_aerodromo_destino\n",
    "order by \n",
    "    vra.Ano,\n",
    "    Quantidade_Destino\n",
    "DESC\n",
    ")\n",
    "select \n",
    "    o.Ano,\n",
    "    o.Razao_social_CIA,\n",
    "    o.ICAO_do_Aeroporto,\n",
    "    o.icao_aerodromo_origem,\n",
    "    d.icao_aerodromo_destino,\n",
    "    o.Quantidade_Origem,\n",
    "    d.Quantidade_Destino,\n",
    "    (o.Quantidade_Origem + d.Quantidade_Destino) as Quantidade_Total\n",
    "from\n",
    "    count_origem o inner join count_destino d \n",
    "    on o.ICAO_do_Aeroporto = d.ICAO_do_Aeroporto\n",
    "    and o.icao_aerodromo_origem = d.icao_aerodromo_destino\n",
    "    and o.rank <=10 and d.rank <=10\n",
    "order by\n",
    "    o.Ano,\n",
    "    (o.Quantidade_Origem + d.Quantidade_Destino)\n",
    "DESC\n",
    "\"\"\").show(40)"
   ]
  },
  {
   "cell_type": "code",
   "execution_count": 29,
   "id": "331d6667-db3f-49b5-b7b8-e320ec03afd1",
   "metadata": {
    "tags": []
   },
   "outputs": [],
   "source": [
    "from pyspark.sql.window import Window"
   ]
  },
  {
   "cell_type": "code",
   "execution_count": 72,
   "id": "a87ad532-9ce7-4120-8388-812aba541435",
   "metadata": {
    "tags": []
   },
   "outputs": [],
   "source": [
    "w1 = Window.partitionBy(\"Ano\").orderBy(F.desc(\"Quantidade_Destino\"))\n",
    "w2 = Window.partitionBy(\"Ano\").orderBy(F.desc(\"Quantidade_Origem\"))"
   ]
  },
  {
   "cell_type": "code",
   "execution_count": 73,
   "id": "98ffbf83-351b-4d4a-bb48-d24906913adb",
   "metadata": {
    "tags": []
   },
   "outputs": [],
   "source": [
    "df_vra_clean = (\n",
    "    df_vra\n",
    "    .withColumn(\"Ano\", F.year(F.to_date(F.col(\"partida_prevista\"), 'dd/MM/yyyy HH:mm')))\n",
    "    .filter(F.col(\"Ano\").isin(['2022', '2021', '2023', '2020']))\n",
    ")\n",
    "\n",
    "count_destino = (\n",
    "    df_vra_clean\n",
    "    .join(df_aircia,df_vra_clean.icao_empresa_aerea == df_aircia.icao ,\"left\")\n",
    "    .withColumn(\"icao_aerodromo_destino\", F.regexp_extract(F.col(\"icao_aerodromo_destino\"), \"([a-zA-Z]{4})\", 1))\n",
    "    .groupBy(\n",
    "        \"Ano\",\n",
    "        \"razao_social\",\n",
    "        \"icao_empresa_aerea\",\n",
    "        \"icao_aerodromo_destino\"\n",
    "    )\n",
    "    .agg(\n",
    "        F.count(F.col(\"icao_aerodromo_destino\")).alias(\"Quantidade_Destino\")\n",
    "    )\n",
    "    .orderBy(\"Quantidade_Destino\", Ascending=False)\n",
    ")\n",
    "\n",
    "count_destino_final = (\n",
    "    count_destino\n",
    "    .withColumn(\"rank\", F.rank().over(w1))\n",
    ")\n",
    "\n",
    "count_origem = (\n",
    "    df_vra_clean\n",
    "    .join(df_aircia,df_vra_clean.icao_empresa_aerea == df_aircia.icao ,\"left\")\n",
    "    .groupBy(\n",
    "        \"Ano\",\n",
    "        \"razao_social\",\n",
    "        \"icao_empresa_aerea\",\n",
    "        \"icao_aerodromo_origem\"\n",
    "    )\n",
    "    .agg(\n",
    "        F.count(\"icao_aerodromo_origem\").alias(\"Quantidade_Origem\")\n",
    "    )\n",
    "    .withColumn(\"rank\", F.rank().over(w2))\n",
    ")"
   ]
  },
  {
   "cell_type": "code",
   "execution_count": 38,
   "id": "19182634-89d3-4dcf-866c-cefc744c66cc",
   "metadata": {
    "tags": []
   },
   "outputs": [
    {
     "name": "stdout",
     "output_type": "stream",
     "text": [
      "+------------------+----------+---------+-----------------+---------------------+----------------------+----------------+----------------+----------------+----------------+------------+--------------------+----+\n",
      "|icao_empresa_aerea|numero_voo|codigo_di|codigo_tipo_linha|icao_aerodromo_origem|icao_aerodromo_destino|partida_prevista|    partida_real|chegada_prevista|    chegada_real|situacao_voo|codigo_justificativa| Ano|\n",
      "+------------------+----------+---------+-----------------+---------------------+----------------------+----------------+----------------+----------------+----------------+------------+--------------------+----+\n",
      "|               AAL|       904|        0|                I|                 SBGL|                  KMIA|01/06/2022 23:00|01/06/2022 22:57|02/06/2022 07:45|02/06/2022 07:17|   REALIZADO|                null|2022|\n",
      "|               AAL|       905|        0|                I|                 KMIA|                  SBGL|01/06/2022 21:00|01/06/2022 21:55|02/06/2022 05:10|02/06/2022 06:07|   REALIZADO|                null|2022|\n",
      "|               AAL|       906|        0|                I|                 SBGR|                  KMIA|01/06/2022 23:15|01/06/2022 23:13|02/06/2022 07:45|02/06/2022 07:36|   REALIZADO|                null|2022|\n",
      "|               AAL|       929|        0|                I|                 KMIA|                  SBGR|01/06/2022 21:00|01/06/2022 23:36|02/06/2022 05:15|02/06/2022 07:41|   REALIZADO|                null|2022|\n",
      "|               AAL|       930|        0|                I|                 SBGR|                  KMIA|01/06/2022 21:25|01/06/2022 21:19|02/06/2022 06:00|02/06/2022 05:27|   REALIZADO|                null|2022|\n",
      "|               AAL|       950|        0|                I|                 SBGR|                  KJFK|01/06/2022 21:40|01/06/2022 21:38|02/06/2022 07:30|02/06/2022 06:56|   REALIZADO|                null|2022|\n",
      "|               AAL|       951|        0|                I|                 KJFK|                  SBGR|01/06/2022 22:50|01/06/2022 23:57|02/06/2022 08:20|02/06/2022 11:08|   REALIZADO|                null|2022|\n",
      "|               AAL|       962|        0|                I|                 SBGR|                  KDFW|01/06/2022 22:25|01/06/2022 22:16|02/06/2022 08:50|02/06/2022 08:54|   REALIZADO|                null|2022|\n",
      "|               AAL|       963|        0|                I|                 KDFW|                  SBGR|01/06/2022 21:30|01/06/2022 23:54|02/06/2022 07:30|02/06/2022 09:47|   REALIZADO|                null|2022|\n",
      "|               AAL|       995|        0|                I|                 KMIA|                  SBGR|01/06/2022 01:05|01/06/2022 01:02|01/06/2022 09:15|01/06/2022 08:58|   REALIZADO|                null|2022|\n",
      "|               AAL|       995|        0|                I|                 KMIA|                  SBGR|02/06/2022 23:55|            null|03/06/2022 08:20|            null|   CANCELADO|                null|2022|\n",
      "|               AAL|       995|        0|                I|                 KMIA|                  SBGR|02/06/2022 01:05|            null|02/06/2022 09:15|            null|   CANCELADO|                null|2022|\n",
      "|               AAL|       906|        0|                I|                 SBGR|                  KMIA|03/06/2022 23:15|            null|04/06/2022 07:45|            null|   CANCELADO|                null|2022|\n",
      "|               AAL|       995|        0|                I|                 KMIA|                  SBGR|03/06/2022 23:55|04/06/2022 00:06|04/06/2022 08:20|04/06/2022 08:10|   REALIZADO|                null|2022|\n",
      "|               AAL|       906|        0|                I|                 SBGR|                  KMIA|04/06/2022 23:15|04/06/2022 23:11|05/06/2022 07:45|05/06/2022 07:23|   REALIZADO|                null|2022|\n",
      "|               AAL|       995|        0|                I|                 KMIA|                  SBGR|04/06/2022 23:55|05/06/2022 00:04|05/06/2022 08:20|05/06/2022 08:09|   REALIZADO|                null|2022|\n",
      "|               AAL|       906|        0|                I|                 SBGR|                  KMIA|05/06/2022 23:15|05/06/2022 23:13|06/06/2022 07:45|06/06/2022 07:03|   REALIZADO|                null|2022|\n",
      "|               AAL|       995|        0|                I|                 KMIA|                  SBGR|05/06/2022 23:55|06/06/2022 00:10|06/06/2022 08:20|06/06/2022 08:17|   REALIZADO|                null|2022|\n",
      "|               AAL|       904|        0|                I|                 SBGL|                  KMIA|06/06/2022 23:00|06/06/2022 22:57|07/06/2022 07:40|07/06/2022 07:23|   REALIZADO|                null|2022|\n",
      "|               AAL|       906|        0|                I|                 SBGR|                  KMIA|06/06/2022 23:15|06/06/2022 23:09|07/06/2022 07:45|07/06/2022 07:25|   REALIZADO|                null|2022|\n",
      "+------------------+----------+---------+-----------------+---------------------+----------------------+----------------+----------------+----------------+----------------+------------+--------------------+----+\n",
      "only showing top 20 rows\n",
      "\n"
     ]
    }
   ],
   "source": [
    "df_vra_clean.show()"
   ]
  },
  {
   "cell_type": "code",
   "execution_count": 70,
   "id": "4d08bc1f-d225-4638-b1aa-a421a6993c71",
   "metadata": {
    "tags": []
   },
   "outputs": [
    {
     "name": "stdout",
     "output_type": "stream",
     "text": [
      "+----+--------------------+------------------+----------------------+------------------+----+\n",
      "| Ano|        razao_social|icao_empresa_aerea|icao_aerodromo_destino|Quantidade_Destino|rank|\n",
      "+----+--------------------+------------------+----------------------+------------------+----+\n",
      "|2020|TAM LINHAS AÉREAS...|               TAM|                  SBGR|             24545|   1|\n",
      "|2020|AZUL LINHAS AÉREA...|               AZU|                  SBKP|             24534|   2|\n",
      "|2020|AZUL LINHAS AÉREA...|               AZU|                      |             22247|   3|\n",
      "|2020|GOL LINHAS AÉREAS...|               GLO|                  SBGR|             20073|   4|\n",
      "|2020|GOL LINHAS AÉREAS...|               GLO|                      |             19199|   5|\n",
      "|2020|TAM LINHAS AÉREAS...|               TAM|                      |             16091|   6|\n",
      "|2020|AZUL LINHAS AÉREA...|               AZU|                  SBCF|             12845|   7|\n",
      "|2020|TAM LINHAS AÉREAS...|               TAM|                  SBSP|             11817|   8|\n",
      "|2020|GOL LINHAS AÉREAS...|               GLO|                  SBSP|             11551|   9|\n",
      "|2020|TAM LINHAS AÉREAS...|               TAM|                  SBBR|             10744|  10|\n",
      "|2020|AZUL LINHAS AÉREA...|               AZU|                  SBRF|             10656|  11|\n",
      "|2020|GOL LINHAS AÉREAS...|               GLO|                  SBBR|             10188|  12|\n",
      "|2020|GOL LINHAS AÉREAS...|               GLO|                  SBGL|              8515|  13|\n",
      "|2020|GOL LINHAS AÉREAS...|               GLO|                  SBRJ|              6593|  14|\n",
      "|2020|TAM LINHAS AÉREAS...|               TAM|                  SBRJ|              6556|  15|\n",
      "|2020|AZUL LINHAS AÉREA...|               AZU|                  SBRJ|              6410|  16|\n",
      "|2020|AZUL LINHAS AÉREA...|               AZU|                  SBGR|              6154|  17|\n",
      "|2020|AZUL LINHAS AÉREA...|               AZU|                  SBPA|              4818|  18|\n",
      "|2020|GOL LINHAS AÉREAS...|               GLO|                  SBSV|              4743|  19|\n",
      "|2020|AZUL LINHAS AÉREA...|               AZU|                  SBCT|              4506|  20|\n",
      "|2020|AZUL LINHAS AÉREA...|               AZU|                  SBCY|              3855|  21|\n",
      "|2020|GOL LINHAS AÉREAS...|               GLO|                  SBPA|              3782|  22|\n",
      "|2020|GOL LINHAS AÉREAS...|               GLO|                  SBFZ|              3583|  23|\n",
      "|2020|AZUL LINHAS AÉREA...|               AZU|                  SBSV|              3576|  24|\n",
      "|2020|GOL LINHAS AÉREAS...|               GLO|                  SBRF|              3446|  25|\n",
      "|2020|AZUL LINHAS AÉREA...|               AZU|                  SBBE|              3401|  26|\n",
      "|2020|TAM LINHAS AÉREAS...|               TAM|                  SBPA|              3298|  27|\n",
      "|2020|TAM LINHAS AÉREAS...|               TAM|                  SBFZ|              3118|  28|\n",
      "|2020|AZUL LINHAS AÉREA...|               AZU|                  SBSP|              3069|  29|\n",
      "|2020|TAM LINHAS AÉREAS...|               TAM|                  SBSV|              2965|  30|\n",
      "|2020|GOL LINHAS AÉREAS...|               GLO|                  SBCF|              2945|  31|\n",
      "|2020|AZUL LINHAS AÉREA...|               AZU|                  SBBR|              2847|  32|\n",
      "|2020|TAM LINHAS AÉREAS...|               TAM|                  SBCF|              2829|  33|\n",
      "|2020|TAM LINHAS AÉREAS...|               TAM|                  SBCT|              2726|  34|\n",
      "|2020|GOL LINHAS AÉREAS...|               GLO|                  SBCT|              2562|  35|\n",
      "|2020|AZUL LINHAS AÉREA...|               AZU|                  SBEG|              2272|  36|\n",
      "|2020|AZUL LINHAS AÉREA...|               AZU|                  SBGO|              2189|  37|\n",
      "|2020|SIDERAL LINHAS AÉ...|               SID|                  SBGR|              2158|  38|\n",
      "|2020|GOL LINHAS AÉREAS...|               GLO|                  SBFL|              2091|  39|\n",
      "|2020|AZUL LINHAS AÉREA...|               AZU|                  SBFL|              2007|  40|\n",
      "+----+--------------------+------------------+----------------------+------------------+----+\n",
      "only showing top 40 rows\n",
      "\n"
     ]
    }
   ],
   "source": [
    "count_destino_final.show(40)"
   ]
  },
  {
   "cell_type": "code",
   "execution_count": 74,
   "id": "ddc5bb21-8cbc-45db-9b49-e518b55f1ba9",
   "metadata": {
    "tags": []
   },
   "outputs": [
    {
     "name": "stdout",
     "output_type": "stream",
     "text": [
      "+----+--------------------+------------------+---------------------+-----------------+----+\n",
      "| Ano|        razao_social|icao_empresa_aerea|icao_aerodromo_origem|Quantidade_Origem|rank|\n",
      "+----+--------------------+------------------+---------------------+-----------------+----+\n",
      "|2020|AZUL LINHAS AÉREA...|               AZU|                 SBKP|            29584|   1|\n",
      "|2020|TAM LINHAS AÉREAS...|               TAM|                 SBGR|            29278|   2|\n",
      "|2020|GOL LINHAS AÉREAS...|               GLO|                 SBGR|            24302|   3|\n",
      "|2020|AZUL LINHAS AÉREA...|               AZU|                 SBCF|            14949|   4|\n",
      "|2020|TAM LINHAS AÉREAS...|               TAM|                 SBBR|            13273|   5|\n",
      "|2020|TAM LINHAS AÉREAS...|               TAM|                 SBSP|            12858|   6|\n",
      "|2020|AZUL LINHAS AÉREA...|               AZU|                 SBRF|            12660|   7|\n",
      "|2020|GOL LINHAS AÉREAS...|               GLO|                 SBSP|            12511|   8|\n",
      "|2020|GOL LINHAS AÉREAS...|               GLO|                 SBBR|            12319|   9|\n",
      "|2020|GOL LINHAS AÉREAS...|               GLO|                 SBGL|             9902|  10|\n",
      "|2020|GOL LINHAS AÉREAS...|               GLO|                 SBRJ|             7775|  11|\n",
      "|2020|AZUL LINHAS AÉREA...|               AZU|                 SBRJ|             7689|  12|\n",
      "|2020|TAM LINHAS AÉREAS...|               TAM|                 SBRJ|             7608|  13|\n",
      "|2020|AZUL LINHAS AÉREA...|               AZU|                 SBGR|             6863|  14|\n",
      "|2020|GOL LINHAS AÉREAS...|               GLO|                 SBSV|             5657|  15|\n",
      "|2020|AZUL LINHAS AÉREA...|               AZU|                 SBPA|             5474|  16|\n",
      "|2020|AZUL LINHAS AÉREA...|               AZU|                 SBCT|             5080|  17|\n",
      "|2020|AZUL LINHAS AÉREA...|               AZU|                 SBCY|             4545|  18|\n",
      "|2020|GOL LINHAS AÉREAS...|               GLO|                 SBFZ|             4377|  19|\n",
      "|2020|GOL LINHAS AÉREAS...|               GLO|                 SBPA|             4339|  20|\n",
      "|2020|AZUL LINHAS AÉREA...|               AZU|                 SBBE|             4222|  21|\n",
      "|2020|GOL LINHAS AÉREAS...|               GLO|                 SBRF|             4143|  22|\n",
      "|2020|AZUL LINHAS AÉREA...|               AZU|                 SBSV|             4027|  23|\n",
      "|2020|TAM LINHAS AÉREAS...|               TAM|                 SBPA|             3819|  24|\n",
      "|2020|AZUL LINHAS AÉREA...|               AZU|                 SBSP|             3671|  25|\n",
      "|2020|TAM LINHAS AÉREAS...|               TAM|                 SBFZ|             3506|  26|\n",
      "|2020|GOL LINHAS AÉREAS...|               GLO|                 SBCF|             3464|  27|\n",
      "|2020|TAM LINHAS AÉREAS...|               TAM|                 SBSV|             3439|  28|\n",
      "|2020|AZUL LINHAS AÉREA...|               AZU|                 SBBR|             3336|  29|\n",
      "|2020|TAM LINHAS AÉREAS...|               TAM|                 SBCF|             3216|  30|\n",
      "|2020|TAM LINHAS AÉREAS...|               TAM|                 SBCT|             3068|  31|\n",
      "|2020|GOL LINHAS AÉREAS...|               GLO|                 SBCT|             3014|  32|\n",
      "|2020|SIDERAL LINHAS AÉ...|               SID|                 SBGR|             2792|  33|\n",
      "|2020|AZUL LINHAS AÉREA...|               AZU|                 SBEG|             2774|  34|\n",
      "|2020|AZUL LINHAS AÉREA...|               AZU|                 SBGO|             2520|  35|\n",
      "|2020|GOL LINHAS AÉREAS...|               GLO|                 SBFL|             2441|  36|\n",
      "|2020|AZUL LINHAS AÉREA...|               AZU|                 SBVT|             2422|  37|\n",
      "|2020|AZUL LINHAS AÉREA...|               AZU|                 SBFL|             2317|  38|\n",
      "|2020|GOL LINHAS AÉREAS...|               GLO|                 SBBE|             2210|  39|\n",
      "|2020|AZUL LINHAS AÉREA...|               AZU|                 SBFZ|             2141|  40|\n",
      "+----+--------------------+------------------+---------------------+-----------------+----+\n",
      "only showing top 40 rows\n",
      "\n"
     ]
    }
   ],
   "source": [
    "count_origem.show(40)"
   ]
  }
 ],
 "metadata": {
  "kernelspec": {
   "display_name": "Python 3 (ipykernel)",
   "language": "python",
   "name": "python3"
  },
  "language_info": {
   "codemirror_mode": {
    "name": "ipython",
    "version": 3
   },
   "file_extension": ".py",
   "mimetype": "text/x-python",
   "name": "python",
   "nbconvert_exporter": "python",
   "pygments_lexer": "ipython3",
   "version": "3.10.10"
  }
 },
 "nbformat": 4,
 "nbformat_minor": 5
}

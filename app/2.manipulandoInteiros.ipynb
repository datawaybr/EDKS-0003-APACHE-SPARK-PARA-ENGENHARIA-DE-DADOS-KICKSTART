{
 "cells": [
  {
   "cell_type": "markdown",
   "metadata": {},
   "source": [
    "# Manipulação de valores numericos no Apache Spark\n",
    "\n",
    "O Apache Spark fornece uma variedade de funções matemáticas para manipular valores inteiros e de ponto flutuante em DataFrames. Essas funções podem ser usadas para realizar operações aritméticas, agregações e transformações de dados.\n",
    "\n",
    "\n",
    "| Função               | Descrição                                                        | Exemplo de Caso de Uso                |\n",
    "|----------------------|------------------------------------------------------------------|---------------------------------------|\n",
    "| `abs(col)`           | Valor absoluto de uma coluna                                    | Calcular distância, diferença de valores. |\n",
    "| `ceil(col)`          | Teto (arredondamento para cima) de uma coluna                    | Arredondar para a próxima unidade superior. |\n",
    "| `floor(col)`         | Piso (arredondamento para baixo) de uma coluna                    | Arredondar para a próxima unidade inferior. |\n",
    "| `round(col, scale)`  | Arredondamento de uma coluna com precisão específica             | Arredondar para um número específico de casas decimais. |\n",
    "| `greatest(col1, col2, ...)` | O maior valor entre as colunas                     | Encontrar o maior valor em várias colunas. |\n",
    "| `least(col1, col2, ...)`   | O menor valor entre as colunas                      | Encontrar o menor valor em várias colunas. |\n",
    "| `sqrt(col)`          | Raiz quadrada de uma coluna                                      | Calcular magnitude, desvio padrão.       |\n",
    "| `cbrt(col)`          | Raiz cúbica de uma coluna                                         | Calcular volume de um cubo.              |\n",
    "| `exp(col)`           | Exponencial de uma coluna                                         | Modelagem de crescimento exponencial.    |\n",
    "| `log(col, base)`     | Logaritmo de uma coluna em uma base específica                   | Análise de dados em escala logarítmica.  |\n",
    "| `log10(col)`         | Logaritmo base 10 de uma coluna                                   | Análise de dados em escala logarítmica.  |\n",
    "| `pow(col, exponent)` | Eleva uma coluna à potência especificada                        | Cálculos complexos de potência.          |\n"
   ]
  },
  {
   "cell_type": "code",
   "execution_count": 1,
   "metadata": {
    "tags": []
   },
   "outputs": [],
   "source": [
    "from pyspark.sql import SparkSession, Row\n",
    "\n",
    "spark = SparkSession.builder.appName(\"Exemplo\").getOrCreate()"
   ]
  },
  {
   "cell_type": "code",
   "execution_count": 2,
   "metadata": {
    "tags": []
   },
   "outputs": [],
   "source": [
    "df = (\n",
    "    spark\n",
    "    .read\n",
    "    .format(\"parquet\")\n",
    "    .load(\"/home/app/data/1.bronze/vra/\")\n",
    ")\n"
   ]
  },
  {
   "cell_type": "code",
   "execution_count": 3,
   "metadata": {
    "tags": []
   },
   "outputs": [
    {
     "name": "stdout",
     "output_type": "stream",
     "text": [
      "+------------------+----------+---------+-----------------+---------------------+----------------------+----------------+----------------+----------------+----------------+------------+--------------------+\n",
      "|icao_empresa_aerea|numero_voo|codigo_di|codigo_tipo_linha|icao_aerodromo_origem|icao_aerodromo_destino|partida_prevista|    partida_real|chegada_prevista|    chegada_real|situacao_voo|codigo_justificativa|\n",
      "+------------------+----------+---------+-----------------+---------------------+----------------------+----------------+----------------+----------------+----------------+------------+--------------------+\n",
      "|               TAM|      9458|        0|                I|                 SBGR|                  SCEL|01/01/2020 06:30|01/01/2020 06:30|01/01/2020 10:40|01/01/2020 10:40|   REALIZADO|                null|\n",
      "|               TAM|      9201|        0|                N|                 SBSG|                  SBGL|01/01/2020 02:00|01/01/2020 02:00|01/01/2020 05:10|01/01/2020 05:10|   REALIZADO|                null|\n",
      "|               TAM|      9200|        0|                N|                 SBGL|                  SBSG|01/01/2020 22:10|01/01/2020 22:10|02/01/2020 01:15|02/01/2020 01:15|   REALIZADO|                null|\n",
      "|               TAM|      9046|        0|                N|                 SBGR|                  SBBR|01/01/2020 05:50|01/01/2020 05:50|01/01/2020 07:40|01/01/2020 07:40|   REALIZADO|                null|\n",
      "|               TAM|      9010|        0|                N|                 SBMO|                  SBGR|01/01/2020 19:50|01/01/2020 19:50|01/01/2020 23:00|01/01/2020 23:00|   REALIZADO|                null|\n",
      "|               TAM|      9009|        0|                N|                 SBGR|                  SBMO|01/01/2020 15:05|01/01/2020 15:05|01/01/2020 18:00|01/01/2020 18:00|   REALIZADO|                null|\n",
      "|               TAM|      9008|        0|                N|                 SBSG|                  SBGR|01/01/2020 10:20|01/01/2020 10:20|01/01/2020 13:50|01/01/2020 13:50|   REALIZADO|                null|\n",
      "|               TAM|      9007|        0|                N|                 SBGR|                  SBSG|01/01/2020 06:20|01/01/2020 06:20|01/01/2020 09:40|01/01/2020 09:40|   REALIZADO|                null|\n",
      "|               TAM|      9006|        0|                N|                 SBJP|                  SBBR|01/01/2020 19:00|01/01/2020 19:00|01/01/2020 21:45|01/01/2020 21:45|   REALIZADO|                null|\n",
      "|               TAM|      9005|        0|                N|                 SBBR|                  SBSG|01/01/2020 08:20|01/01/2020 08:20|01/01/2020 11:00|01/01/2020 11:00|   REALIZADO|                null|\n",
      "|               TAM|      9004|        0|                N|                 SBSG|                  SBBR|01/01/2020 11:35|01/01/2020 11:35|01/01/2020 14:20|01/01/2020 14:20|   REALIZADO|                null|\n",
      "|               TAM|      9003|        0|                N|                 SBBR|                  SBJP|01/01/2020 15:00|01/01/2020 15:00|01/01/2020 17:35|01/01/2020 17:35|   REALIZADO|                null|\n",
      "|               TAM|      8211|        0|                I|                 EGYP|                  SBGR|01/01/2020 16:50|01/01/2020 16:50|01/01/2020 21:35|01/01/2020 21:35|   REALIZADO|                null|\n",
      "|               TAM|      8210|        0|                I|                 SBGR|                  EGYP|01/01/2020 09:30|01/01/2020 09:30|01/01/2020 14:35|01/01/2020 14:35|   REALIZADO|                null|\n",
      "|               TAM|      8195|        0|                I|                 KMIA|                  SBGR|01/01/2020 10:05|01/01/2020 10:05|01/01/2020 18:25|01/01/2020 18:25|   REALIZADO|                null|\n",
      "|               TAM|      8194|        0|                I|                 SBGR|                  KMIA|01/01/2020 10:45|01/01/2020 10:45|01/01/2020 18:55|01/01/2020 18:55|   REALIZADO|                null|\n",
      "|               TAM|      8191|        0|                I|                 KMIA|                  SBGR|01/01/2020 21:10|01/01/2020 21:10|02/01/2020 05:30|02/01/2020 05:30|   REALIZADO|                null|\n",
      "|               TAM|      8190|        0|                I|                 SBGR|                  KMIA|01/01/2020 23:05|01/01/2020 23:05|02/01/2020 07:15|02/01/2020 07:15|   REALIZADO|                null|\n",
      "|               TAM|      8189|        0|                I|                 KMIA|                  SBFZ|01/01/2020 18:20|01/01/2020 18:20|02/01/2020 01:25|02/01/2020 01:25|   REALIZADO|                null|\n",
      "|               TAM|      8188|        0|                I|                 SBFZ|                  KMIA|01/01/2020 02:40|01/01/2020 02:40|01/01/2020 10:20|01/01/2020 10:20|   REALIZADO|                null|\n",
      "+------------------+----------+---------+-----------------+---------------------+----------------------+----------------+----------------+----------------+----------------+------------+--------------------+\n",
      "only showing top 20 rows\n",
      "\n"
     ]
    }
   ],
   "source": [
    "df.show()"
   ]
  },
  {
   "cell_type": "markdown",
   "metadata": {},
   "source": [
    "# Primeiramente vamos criar valores representando o valor do preço dos voos e o tanto de combustivel utilizado em cada rota"
   ]
  },
  {
   "cell_type": "code",
   "execution_count": 4,
   "metadata": {
    "tags": [],
    "vscode": {
     "languageId": "plaintext"
    }
   },
   "outputs": [],
   "source": [
    "from pyspark.sql.functions import rand \n",
    "\n",
    "valorMaximo1 = 7499.87\n",
    "valorMinimo1 = 433.47\n",
    "\n",
    "valorMaximo2 = 20000.00\n",
    "valorMinimo2 = 11499.67\n",
    "\n",
    "df_com_coluna_variavel = (\n",
    "    df\n",
    "    .withColumn(\"preco_passagem\", (rand() * (valorMaximo1 - valorMinimo1) + valorMinimo1).cast(\"float\"))\n",
    "    .withColumn(\"preco_combustivel\", (rand() * (valorMaximo2 - valorMinimo2) + valorMinimo2).cast(\"double\"))\n",
    ")"
   ]
  },
  {
   "cell_type": "code",
   "execution_count": 5,
   "metadata": {
    "tags": []
   },
   "outputs": [
    {
     "name": "stdout",
     "output_type": "stream",
     "text": [
      "+------------------+----------+---------+-----------------+---------------------+----------------------+----------------+----------------+----------------+----------------+------------+--------------------+--------------+------------------+\n",
      "|icao_empresa_aerea|numero_voo|codigo_di|codigo_tipo_linha|icao_aerodromo_origem|icao_aerodromo_destino|partida_prevista|    partida_real|chegada_prevista|    chegada_real|situacao_voo|codigo_justificativa|preco_passagem| preco_combustivel|\n",
      "+------------------+----------+---------+-----------------+---------------------+----------------------+----------------+----------------+----------------+----------------+------------+--------------------+--------------+------------------+\n",
      "|               TAM|      9458|        0|                I|                 SBGR|                  SCEL|01/01/2020 06:30|01/01/2020 06:30|01/01/2020 10:40|01/01/2020 10:40|   REALIZADO|                null|      485.1993|16359.611879427888|\n",
      "|               TAM|      9201|        0|                N|                 SBSG|                  SBGL|01/01/2020 02:00|01/01/2020 02:00|01/01/2020 05:10|01/01/2020 05:10|   REALIZADO|                null|     3578.3142| 17838.36002268482|\n",
      "|               TAM|      9200|        0|                N|                 SBGL|                  SBSG|01/01/2020 22:10|01/01/2020 22:10|02/01/2020 01:15|02/01/2020 01:15|   REALIZADO|                null|      814.9517|11712.296458165669|\n",
      "|               TAM|      9046|        0|                N|                 SBGR|                  SBBR|01/01/2020 05:50|01/01/2020 05:50|01/01/2020 07:40|01/01/2020 07:40|   REALIZADO|                null|      3125.884|18978.612132832353|\n",
      "|               TAM|      9010|        0|                N|                 SBMO|                  SBGR|01/01/2020 19:50|01/01/2020 19:50|01/01/2020 23:00|01/01/2020 23:00|   REALIZADO|                null|     2596.9507|18351.634858457946|\n",
      "|               TAM|      9009|        0|                N|                 SBGR|                  SBMO|01/01/2020 15:05|01/01/2020 15:05|01/01/2020 18:00|01/01/2020 18:00|   REALIZADO|                null|     3414.3005|12501.745894452191|\n",
      "|               TAM|      9008|        0|                N|                 SBSG|                  SBGR|01/01/2020 10:20|01/01/2020 10:20|01/01/2020 13:50|01/01/2020 13:50|   REALIZADO|                null|     3110.7393|12714.373886958429|\n",
      "|               TAM|      9007|        0|                N|                 SBGR|                  SBSG|01/01/2020 06:20|01/01/2020 06:20|01/01/2020 09:40|01/01/2020 09:40|   REALIZADO|                null|     1130.5459|18904.281833435653|\n",
      "|               TAM|      9006|        0|                N|                 SBJP|                  SBBR|01/01/2020 19:00|01/01/2020 19:00|01/01/2020 21:45|01/01/2020 21:45|   REALIZADO|                null|     2748.7856|11895.754696512646|\n",
      "|               TAM|      9005|        0|                N|                 SBBR|                  SBSG|01/01/2020 08:20|01/01/2020 08:20|01/01/2020 11:00|01/01/2020 11:00|   REALIZADO|                null|      976.4418|14509.555674651494|\n",
      "|               TAM|      9004|        0|                N|                 SBSG|                  SBBR|01/01/2020 11:35|01/01/2020 11:35|01/01/2020 14:20|01/01/2020 14:20|   REALIZADO|                null|     4129.8403|14140.001632451711|\n",
      "|               TAM|      9003|        0|                N|                 SBBR|                  SBJP|01/01/2020 15:00|01/01/2020 15:00|01/01/2020 17:35|01/01/2020 17:35|   REALIZADO|                null|      5721.002|18991.511943059853|\n",
      "|               TAM|      8211|        0|                I|                 EGYP|                  SBGR|01/01/2020 16:50|01/01/2020 16:50|01/01/2020 21:35|01/01/2020 21:35|   REALIZADO|                null|     1287.9474| 13608.91004122688|\n",
      "|               TAM|      8210|        0|                I|                 SBGR|                  EGYP|01/01/2020 09:30|01/01/2020 09:30|01/01/2020 14:35|01/01/2020 14:35|   REALIZADO|                null|     2523.2258|12570.835207785178|\n",
      "|               TAM|      8195|        0|                I|                 KMIA|                  SBGR|01/01/2020 10:05|01/01/2020 10:05|01/01/2020 18:25|01/01/2020 18:25|   REALIZADO|                null|     2633.0637|  17700.8349379322|\n",
      "|               TAM|      8194|        0|                I|                 SBGR|                  KMIA|01/01/2020 10:45|01/01/2020 10:45|01/01/2020 18:55|01/01/2020 18:55|   REALIZADO|                null|     885.05194|18995.036493810356|\n",
      "|               TAM|      8191|        0|                I|                 KMIA|                  SBGR|01/01/2020 21:10|01/01/2020 21:10|02/01/2020 05:30|02/01/2020 05:30|   REALIZADO|                null|     6129.5576|19917.717615504167|\n",
      "|               TAM|      8190|        0|                I|                 SBGR|                  KMIA|01/01/2020 23:05|01/01/2020 23:05|02/01/2020 07:15|02/01/2020 07:15|   REALIZADO|                null|     6013.7505|  12960.2190428088|\n",
      "|               TAM|      8189|        0|                I|                 KMIA|                  SBFZ|01/01/2020 18:20|01/01/2020 18:20|02/01/2020 01:25|02/01/2020 01:25|   REALIZADO|                null|       2866.89|17470.970987525398|\n",
      "|               TAM|      8188|        0|                I|                 SBFZ|                  KMIA|01/01/2020 02:40|01/01/2020 02:40|01/01/2020 10:20|01/01/2020 10:20|   REALIZADO|                null|      7202.087|12468.034734434712|\n",
      "+------------------+----------+---------+-----------------+---------------------+----------------------+----------------+----------------+----------------+----------------+------------+--------------------+--------------+------------------+\n",
      "only showing top 20 rows\n",
      "\n"
     ]
    }
   ],
   "source": [
    "df_com_coluna_variavel.show()"
   ]
  },
  {
   "cell_type": "code",
   "execution_count": 19,
   "metadata": {
    "tags": []
   },
   "outputs": [
    {
     "name": "stdout",
     "output_type": "stream",
     "text": [
      "+--------------+--------------+----------+-----------+-----------+--------------------+----------------------+\n",
      "|valor_unitario|preco_passagem|ceil_preço|floor_preço|round_preço|           pow_preço|somatori_squares_preço|\n",
      "+--------------+--------------+----------+-----------+-----------+--------------------+----------------------+\n",
      "|             1|      485.1993|       486|        485|      485.2| 1.142248311050879E8|    29.885144300593787|\n",
      "|             1|     3578.3142|      3579|       3578|     3578.3|4.581792520120428E10|     75.11436462798598|\n",
      "|             1|      814.9517|       815|        814|      815.0| 5.412471767238849E8|     37.88801345531599|\n",
      "|             1|      3125.884|      3126|       3125|     3125.9|3.054348486263903...|     70.53107310147381|\n",
      "|             1|     2596.9507|      2597|       2596|     2597.0|1.751423236190595...|     64.70559625736264|\n",
      "|             1|     3414.3005|      3415|       3414|     3414.3|3.980203150617813E10|     73.49001484443045|\n",
      "|             1|     3110.7393|      3111|       3110|     3110.7|3.010168662573356...|     70.37181711874686|\n",
      "|             1|     1130.5459|      1131|       1130|     1130.5|1.4449891835445147E9|     44.04107277779758|\n",
      "|             1|     2748.7856|      2749|       2748|     2748.8|2.076933647445041E10|      66.4369968292489|\n",
      "|             1|      976.4418|       977|        976|      976.4|   9.3097721305446E8|     41.16891601917606|\n",
      "|             1|     4129.8403|      4130|       4129|     4129.8|7.043682699413634E10|     80.30777591931223|\n",
      "|             1|      5721.002|      5722|       5721|     5721.0|1.872476121374776E11|     93.52237754135425|\n",
      "|             1|     1287.9474|      1288|       1287|     1287.9| 2.136458040094055E9|     46.76807939327699|\n",
      "|             1|     2523.2258|      2524|       2523|     2523.2|1.606454263675877...|     63.84570968169855|\n",
      "|             1|     2633.0637|      2634|       2633|     2633.1|1.825509543652567E10|     65.12211898925253|\n",
      "|             1|     885.05194|       886|        885|      885.1| 6.932761764393839E8|     39.35096512603202|\n",
      "|             1|     6129.5576|      6130|       6129|     6129.6|2.302965304747622...|     96.59255692464043|\n",
      "|             1|     6013.7505|      6014|       6013|     6013.8|2.174884587009648...|     95.73345176210653|\n",
      "|             1|       2866.89|      2867|       2866|     2866.9|2.356313332098092E10|     67.74929775629657|\n",
      "|             1|      7202.087|      7203|       7202|     7202.1|3.735726509566315...|     104.1767632643747|\n",
      "+--------------+--------------+----------+-----------+-----------+--------------------+----------------------+\n",
      "only showing top 20 rows\n",
      "\n"
     ]
    }
   ],
   "source": [
    "from pyspark.sql.functions import *\n",
    "import pyspark.sql.functions as F\n",
    "\n",
    "(\n",
    "    df_com_coluna_variavel\n",
    "    .withColumn(\"ceil_preço\", ceil(df_com_coluna_variavel[\"preco_passagem\"]))\n",
    "    .withColumn(\"floor_preço\", floor(df_com_coluna_variavel[\"preco_passagem\"]))\n",
    "    .withColumn(\"round_preço\", round(df_com_coluna_variavel[\"preco_passagem\"],1))\n",
    "    .withColumn(\"somatori_squares_preço\", cbrt(df_com_coluna_variavel[\"preco_passagem\"])+sqrt(df_com_coluna_variavel[\"preco_passagem\"]))\n",
    "    .withColumn(\"pow_preço\", pow(df_com_coluna_variavel[\"preco_passagem\"],3))\n",
    "    .withColumn(\"valor_unitario\", lit(1))\n",
    "    .select(\"valor_unitario\",\"preco_passagem\",\"ceil_preço\",\"floor_preço\",\"round_preço\",\"pow_preço\",\"somatori_squares_preço\",)\n",
    "    .show()\n",
    ")"
   ]
  }
 ],
 "metadata": {
  "kernelspec": {
   "display_name": "Python 3 (ipykernel)",
   "language": "python",
   "name": "python3"
  },
  "language_info": {
   "codemirror_mode": {
    "name": "ipython",
    "version": 3
   },
   "file_extension": ".py",
   "mimetype": "text/x-python",
   "name": "python",
   "nbconvert_exporter": "python",
   "pygments_lexer": "ipython3",
   "version": "3.10.10"
  }
 },
 "nbformat": 4,
 "nbformat_minor": 4
}

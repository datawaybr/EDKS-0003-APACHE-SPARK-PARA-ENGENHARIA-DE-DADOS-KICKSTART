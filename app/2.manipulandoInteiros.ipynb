{
 "cells": [
  {
   "cell_type": "markdown",
   "metadata": {},
   "source": [
    "# Manipulação de valores numericos no Apache Spark\n",
    "\n",
    "O Apache Spark fornece uma variedade de funções matemáticas para manipular valores inteiros e de ponto flutuante em DataFrames. Essas funções podem ser usadas para realizar operações aritméticas, agregações e transformações de dados.\n",
    "\n",
    "\n",
    "| Função               | Descrição                                                        | Exemplo de Caso de Uso                |\n",
    "|----------------------|------------------------------------------------------------------|---------------------------------------|\n",
    "| `abs(col)`           | Valor absoluto de uma coluna                                    | Calcular distância, diferença de valores. |\n",
    "| `ceil(col)`          | Teto (arredondamento para cima) de uma coluna                    | Arredondar para a próxima unidade superior. |\n",
    "| `floor(col)`         | Piso (arredondamento para baixo) de uma coluna                    | Arredondar para a próxima unidade inferior. |\n",
    "| `round(col, scale)`  | Arredondamento de uma coluna com precisão específica             | Arredondar para um número específico de casas decimais. |\n",
    "| `greatest(col1, col2, ...)` | O maior valor entre as colunas                     | Encontrar o maior valor em várias colunas. |\n",
    "| `least(col1, col2, ...)`   | O menor valor entre as colunas                      | Encontrar o menor valor em várias colunas. |\n",
    "| `sqrt(col)`          | Raiz quadrada de uma coluna                                      | Calcular magnitude, desvio padrão.       |\n",
    "| `cbrt(col)`          | Raiz cúbica de uma coluna                                         | Calcular volume de um cubo.              |\n",
    "| `exp(col)`           | Exponencial de uma coluna                                         | Modelagem de crescimento exponencial.    |\n",
    "| `log(col, base)`     | Logaritmo de uma coluna em uma base específica                   | Análise de dados em escala logarítmica.  |\n",
    "| `log10(col)`         | Logaritmo base 10 de uma coluna                                   | Análise de dados em escala logarítmica.  |\n",
    "| `pow(col, exponent)` | Eleva uma coluna à potência especificada                        | Cálculos complexos de potência.          |\n"
   ]
  },
  {
   "cell_type": "markdown",
   "metadata": {},
   "source": [
    "# Primeiramente vamos criar valores representando o valor do preço dos voos e o tanto de combustivel utilizado em cada rota"
   ]
  },
  {
   "cell_type": "code",
   "execution_count": null,
   "metadata": {
    "vscode": {
     "languageId": "plaintext"
    }
   },
   "outputs": [],
   "source": [
    "df_com_coluna_variavel = (\n",
    "    df\n",
    "    .withColumn(\"preco\", (rand() * (valorMaximo - valorMinimo) + valorMinimo).cast(\"int\"))\n",
    "    .withColumn(\"combustivel\", (rand() * (valorMaximo - valorMinimo) + valorMinimo).cast(\"int\"))\n",
    ")"
   ]
  }
 ],
 "metadata": {
  "kernelspec": {
   "display_name": "Python 3 (ipykernel)",
   "language": "python",
   "name": "python3"
  },
  "language_info": {
   "codemirror_mode": {
    "name": "ipython",
    "version": 3
   },
   "file_extension": ".py",
   "mimetype": "text/x-python",
   "name": "python",
   "nbconvert_exporter": "python",
   "pygments_lexer": "ipython3",
   "version": "3.10.10"
  }
 },
 "nbformat": 4,
 "nbformat_minor": 4
}

{
 "cells": [
  {
   "cell_type": "markdown",
   "metadata": {},
   "source": [
    "# Manipulação de Strings no Apache Spark\n",
    "\n",
    "O Apache Spark fornece uma variedade de funções para manipular strings em DataFrames. Essas funções são úteis para realizar tarefas como limpeza, formatação, extração e transformação de dados de texto.\n",
    "\n",
    "## Funções de Manipulação de Strings\n",
    "\n",
    "As funções a seguir são comumente usadas para manipulação de strings:\n",
    "\n",
    "| Função                       | Descrição                                                    | Exemplo de Caso de Uso                  |\n",
    "|------------------------------|--------------------------------------------------------------|---------------------------------------|\n",
    "| `concat(str1, str2, ...)`    | Concatena strings juntas                                     | Unir nomes em um único campo.          |\n",
    "| `substring(str, pos, len)`   | Extrai uma parte da string a partir de uma posição e comprimento específicos | Obter prefixos, sufixos ou substrings. |\n",
    "| `length(str)`                | Retorna o comprimento da string                              | Verificar a validade de identificadores. |\n",
    "| `trim(str)`                  | Remove espaços em branco do início e do final da string     | Limpeza de dados de texto.             |\n",
    "| `lower(str)`                 | Converte todos os caracteres para minúsculas                | Padronização de maiúsculas e minúsculas. |\n",
    "| `upper(str)`                 | Converte todos os caracteres para maiúsculas                | Padronização de maiúsculas e minúsculas. |\n",
    "| `initcap(str)`               | Converte a primeira letra de cada palavra para maiúscula    | Formatação de nomes.                   |\n",
    "| `replace(str, target, replacement)` | Substitui uma sequência por outra                    | Correção de erros de digitação.         |\n",
    "| `regexp_replace(str, pattern, replacement)` | Substitui padrões regulares por outra sequência | Extração e correção de informações.    |\n",
    "| `split(str, pattern)`        | Divide a string com base em um padrão                       | Separar valores em uma lista.           |\n",
    "| `instr(str, substr)`         | Encontra a posição da primeira ocorrência de uma subtring  | Validação de presença de informações.  |\n",
    "| `substring_index(str, delimiter, count)` | Divide a string com base em um delimitador e recupera a subtring em uma posição específica | Separar e recuperar informações.  |\n"
   ]
  },
  {
   "cell_type": "code",
   "execution_count": 1,
   "metadata": {
    "tags": []
   },
   "outputs": [],
   "source": [
    "from pyspark.sql import SparkSession\n",
    "\n",
    "spark = SparkSession.builder.appName(\"Exemplo\").config(\"spark.jars.packages\", \"org.postgresql:postgresql:42.2.24\").getOrCreate()"
   ]
  },
  {
   "cell_type": "code",
   "execution_count": 2,
   "metadata": {
    "tags": []
   },
   "outputs": [
    {
     "name": "stdout",
     "output_type": "stream",
     "text": [
      "root\n",
      " |-- Razão Social: string (nullable = true)\n",
      " |-- ICAO IATA: string (nullable = true)\n",
      " |-- CNPJ: string (nullable = true)\n",
      " |-- Atividades Aéreas: string (nullable = true)\n",
      " |-- Endereço Sede: string (nullable = true)\n",
      " |-- Telefone: string (nullable = true)\n",
      " |-- E-Mail: string (nullable = true)\n",
      " |-- Decisão Operacional: string (nullable = true)\n",
      " |-- Data Decisão Operacional: string (nullable = true)\n",
      " |-- Validade Operacional: string (nullable = true)\n",
      "\n"
     ]
    }
   ],
   "source": [
    "df = (\n",
    "    spark\n",
    "    .read\n",
    "    .format(\"csv\")\n",
    "    .option(\"inferSchema\",\"true\")\n",
    "    .option(\"encoding\",\"utf-8\")\n",
    "    .option(\"delimiter\",\";\") #ou sep\n",
    "    .option(\"header\", \"true\")\n",
    "    .load(\"data/landing/air_cia/\")\n",
    ")\n",
    "df.printSchema()"
   ]
  },
  {
   "cell_type": "code",
   "execution_count": 3,
   "metadata": {
    "tags": []
   },
   "outputs": [
    {
     "name": "stdout",
     "output_type": "stream",
     "text": [
      "-RECORD 0------------------------------------------------------------------------------------------------------------------------------------------------\n",
      " Razão Social             | ABSA - AEROLINHAS BRASILEIRAS S.A.                                                                                           \n",
      " ICAO IATA                | LTG M3                                                                                                                       \n",
      " CNPJ                     | 00.074.635/0001-33                                                                                                           \n",
      " Atividades Aéreas        | TRANSPORTE AÉREO REGULAR                                                                                                     \n",
      " Endereço Sede            | AEROPORTO INTERNACIONAL DE VIRACOPOS, RODOVIA SANTOS DUMONT, KM 66, SISTEMA VIÁRIO PRINCIPAL, S/ Nº, 13.052-970, CAMPINAS-SP \n",
      " Telefone                 | (11) 5582-8055                                                                                                               \n",
      " E-Mail                   | gar@tam.com.br                                                                                                               \n",
      " Decisão Operacional      | DECISÃO Nº 41                                                                                                                \n",
      " Data Decisão Operacional | 22/04/2015                                                                                                                   \n",
      " Validade Operacional     | 23/04/2025                                                                                                                   \n",
      "only showing top 1 row\n",
      "\n"
     ]
    }
   ],
   "source": [
    "df.show(1, vertical=True, truncate=False)"
   ]
  },
  {
   "cell_type": "code",
   "execution_count": 4,
   "metadata": {
    "tags": []
   },
   "outputs": [
    {
     "name": "stdout",
     "output_type": "stream",
     "text": [
      "root\n",
      " |-- razão_social: string (nullable = true)\n",
      " |-- icao_iata: string (nullable = true)\n",
      " |-- cnpj: string (nullable = true)\n",
      " |-- atividades_aéreas: string (nullable = true)\n",
      " |-- endereço_sede: string (nullable = true)\n",
      " |-- telefone: string (nullable = true)\n",
      " |-- e-mail: string (nullable = true)\n",
      " |-- decisão_operacional: string (nullable = true)\n",
      " |-- data_decisão_operacional: string (nullable = true)\n",
      " |-- validade_operacional: string (nullable = true)\n",
      "\n"
     ]
    }
   ],
   "source": [
    "df = df.toDF(*[col.lower().replace(\" \",\"_\") for col in df.columns])\n",
    "df.printSchema()"
   ]
  },
  {
   "cell_type": "code",
   "execution_count": 5,
   "metadata": {
    "tags": []
   },
   "outputs": [],
   "source": [
    "import pyspark.sql.functions as F\n",
    "\n",
    "# A expressão regular [\\./-] significa que qualquer ponto '.', barra '/' ou hífen '-' será substituído\n",
    "df = (\n",
    "    df\n",
    "    .withColumn(\"cnpj\", F.regexp_replace(\"cnpj\",\"[\\./-]\", \"\"))\n",
    "    .withColumn(\"telefone\", F.regexp_replace(\"telefone\",\"[^0-9]\", \"\"))\n",
    "    .withColumn(\"icao\",F.split(\"icao_iata\",\" \")[0])\n",
    "    .withColumn(\"iata\",F.split(\"icao_iata\",\" \")[1])\n",
    "    .withColumn(\"atividades_aéreas\",F.upper(\"atividades_aéreas\"))               \n",
    ")"
   ]
  },
  {
   "cell_type": "code",
   "execution_count": 6,
   "metadata": {
    "tags": []
   },
   "outputs": [],
   "source": [
    "(\n",
    "    df\n",
    "    .write\n",
    "    .format(\"parquet\")\n",
    "    .mode(\"overwrite\")\n",
    "    .save(\"/home/app/data/1.bronze/air_cia/\")\n",
    ")"
   ]
  }
 ],
 "metadata": {
  "kernelspec": {
   "display_name": "Python 3 (ipykernel)",
   "language": "python",
   "name": "python3"
  },
  "language_info": {
   "codemirror_mode": {
    "name": "ipython",
    "version": 3
   },
   "file_extension": ".py",
   "mimetype": "text/x-python",
   "name": "python",
   "nbconvert_exporter": "python",
   "pygments_lexer": "ipython3",
   "version": "3.10.10"
  }
 },
 "nbformat": 4,
 "nbformat_minor": 4
}

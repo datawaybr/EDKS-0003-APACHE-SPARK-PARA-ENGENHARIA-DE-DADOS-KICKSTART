{
 "cells": [
  {
   "cell_type": "markdown",
   "metadata": {},
   "source": [
    "# Manipulação de Datas e Timestamps no Apache Spark\n",
    "\n",
    "O Apache Spark oferece uma variedade de funções para manipular datas e timestamps em DataFrames. Essas funções são úteis para realizar operações de formatação, cálculos de diferença de tempo, extração de componentes de datas e muito mais.\n",
    "\n",
    "## Funções de Manipulação de Datas e Timestamps\n",
    "\n",
    "As funções a seguir são comumente usadas para manipulação de datas e timestamps:\n",
    "\n",
    "| Função                            | Descrição                                                      | Exemplo de Caso de Uso                            |\n",
    "|-----------------------------------|----------------------------------------------------------------|---------------------------------------------------|\n",
    "| `current_date()`                  | Retorna a data atual                                           | Marcar datas de registro.                         |\n",
    "| `current_timestamp()`             | Retorna a data e hora atual                                    | Registrar timestamps de eventos.                  |\n",
    "| `date_add(start_date, days)`      | Adiciona um número de dias a uma data                           | Prever datas futuras com base em eventos passados. |\n",
    "| `date_sub(start_date, days)`      | Subtrai um número de dias de uma data                           | Calcular datas retroativas.                       |\n",
    "| `datediff(end_date, start_date)`  | Calcula o número de dias entre duas datas                      | Medir a diferença entre datas.                     |\n",
    "| `months_between(end_date, start_date, roundOff)` | Calcula o número de meses entre duas datas | Análise de tendências e sazonalidade. |\n",
    "| `year(date)`                      | Extrai o ano de uma data ou timestamp                          | Agrupar dados por ano.                            |\n",
    "| `quarter(date)`                   | Extrai o trimestre de uma data ou timestamp                    | Agrupar dados por trimestre.                      |\n",
    "| `month(date)`                     | Extrai o mês de uma data ou timestamp                          | Agrupar dados por mês.                            |\n",
    "| `dayofmonth(date)`                | Extrai o dia do mês de uma data ou timestamp                   | Analisar padrões de comportamento mensal.          |\n",
    "| `dayofweek(date)`                 | Extrai o dia da semana de uma data ou timestamp                 | Analisar padrões semanais.                         |\n",
    "| `hour(timestamp)`                 | Extrai a hora de um timestamp                                   | Analisar padrões de atividade por hora.             |\n",
    "| `minute(timestamp)`               | Extrai os minutos de um timestamp                              | Analisar padrões de atividade por minuto.           |\n",
    "| `second(timestamp)`               | Extrai os segundos de um timestamp                              | Analisar padrões de atividade por segundo.          |\n"
   ]
  },
  {
   "cell_type": "code",
   "execution_count": null,
   "metadata": {},
   "outputs": [],
   "source": []
  }
 ],
 "metadata": {
  "kernelspec": {
   "display_name": "Python 3 (ipykernel)",
   "language": "python",
   "name": "python3"
  },
  "language_info": {
   "codemirror_mode": {
    "name": "ipython",
    "version": 3
   },
   "file_extension": ".py",
   "mimetype": "text/x-python",
   "name": "python",
   "nbconvert_exporter": "python",
   "pygments_lexer": "ipython3",
   "version": "3.10.10"
  }
 },
 "nbformat": 4,
 "nbformat_minor": 4
}

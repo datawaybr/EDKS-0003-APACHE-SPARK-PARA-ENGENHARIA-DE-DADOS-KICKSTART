{
 "cells": [
  {
   "cell_type": "markdown",
   "metadata": {
    "tags": []
   },
   "source": [
    "# Manipulação de Tipos de Dados Complexos no Apache Spark\n",
    "\n",
    "O Apache Spark oferece uma variedade de funções para manipular tipos de dados complexos, como arrays, mapas e estruturas, em DataFrames. Essas funções são úteis para realizar operações de consulta, transformações e exploração de dados estruturados.\n",
    "\n",
    "## Funções de Manipulação de Arrays\n",
    "\n",
    "As funções a seguir são usadas para manipular arrays em DataFrames:\n",
    "\n",
    "| Função                       | Descrição                                                   | Exemplo de Caso de Uso                   |\n",
    "|------------------------------|-------------------------------------------------------------|-----------------------------------------|\n",
    "| `array(col1, col2, ...)`     | Cria um array a partir de colunas específicas              | Unir colunas em um array.               |\n",
    "| `size(col)`                  | Retorna o tamanho de um array                               | Contar o número de elementos em um array. |\n",
    "| `array_contains(col, value)` | Verifica se um array contém um valor específico            | Filtrar registros que contenham um valor. |\n",
    "| `explode(col)`               | Gera uma nova linha para cada elemento em um array          | Expandir arrays em múltiplas linhas.     |\n",
    "| `concat_ws(sep, col1, col2, ...)` | Concatena elementos de um array com um separador     | Unir elementos de um array em uma string. |\n",
    "| `collect_list(col)`          | Coleta elementos de uma coluna em uma lista                | Agregar dados em uma lista.             |\n",
    "| `collect_set(col)`           | Coleta elementos únicos de uma coluna em um conjunto      | Agregar dados em um conjunto único.     |\n"
   ]
  },
  {
   "cell_type": "code",
   "execution_count": 1,
   "metadata": {
    "tags": []
   },
   "outputs": [],
   "source": [
    "from pyspark.sql import SparkSession\n",
    "import pyspark.sql.functions as F\n",
    "\n",
    "spark = SparkSession.builder.appName(\"Exemplo\").config(\"spark.jars.packages\", \"org.postgresql:postgresql:42.2.24\").getOrCreate()"
   ]
  },
  {
   "cell_type": "code",
   "execution_count": 2,
   "metadata": {
    "tags": []
   },
   "outputs": [
    {
     "name": "stdout",
     "output_type": "stream",
     "text": [
      "root\n",
      " |-- razão_social: string (nullable = true)\n",
      " |-- icao_iata: string (nullable = true)\n",
      " |-- cnpj: string (nullable = true)\n",
      " |-- atividades_aéreas: string (nullable = true)\n",
      " |-- endereço_sede: string (nullable = true)\n",
      " |-- telefone: string (nullable = true)\n",
      " |-- e-mail: string (nullable = true)\n",
      " |-- decisão_operacional: string (nullable = true)\n",
      " |-- data_decisão_operacional: string (nullable = true)\n",
      " |-- validade_operacional: string (nullable = true)\n",
      " |-- icao: string (nullable = true)\n",
      " |-- iata: string (nullable = true)\n",
      "\n"
     ]
    }
   ],
   "source": [
    "df = (\n",
    "    spark\n",
    "    .read\n",
    "    .format(\"parquet\")\n",
    "    .load(\"/home/app/data/1.bronze/air_cia/\")\n",
    ")\n",
    "\n",
    "df.printSchema()"
   ]
  },
  {
   "cell_type": "code",
   "execution_count": 3,
   "metadata": {
    "tags": []
   },
   "outputs": [
    {
     "name": "stdout",
     "output_type": "stream",
     "text": [
      "+--------------------------------------------------------------------------------------------------------------------------------------------------------------------+\n",
      "|endereço_sede                                                                                                                                                       |\n",
      "+--------------------------------------------------------------------------------------------------------------------------------------------------------------------+\n",
      "|AEROPORTO INTERNACIONAL DE VIRACOPOS, RODOVIA SANTOS DUMONT, KM 66, SISTEMA VIÁRIO PRINCIPAL, S/ Nº, 13.052-970, CAMPINAS-SP                                        |\n",
      "|RODOVIA PR 218, KM 7, JARDIM UNIVERSITÁRIO, AEROPORTO MUNICIPAL ALBERTO BERTELLI , 86.702-670, ARAPONGAS-PR                                                         |\n",
      "|AV GOVERNADOR JOÃO PONCE DE ARRUDA, S/N, HANGAR AMÉRICA DO SUL ANEXO AO AEROP. MAL RONDON. CAIXA POSTAL N° 156, NO BAIRRO CENTRO-NORTE, 78.110-900, VÁRZEA GRANDE-MT|\n",
      "| PÇA. GAGO COUTINHO, S/N, AEROPORTO INTERNACIONAL DE SALVADOR DEPUTADO LUÍS EDUARDO MAGALHÃES - HANGAR - AEROPORTO, 41.510-045, SALVADOR-BA                         |\n",
      "|AVENIDA EMILIO ANTONON, 901, BAIRRO CHÁCARA AEROPORTO, 13.212-010, JUNDIAÍ-SP                                                                                       |\n",
      "|AV. MARCOS PENTEADO ULHÔA RODRIGUES,N°939, 9° ANDAR TORRE JATOBÁ, COND. CASTELO BRANCO OFFICE PARK - TAMBORÉ, 06.460-040, BARUERI-SP                                |\n",
      "|PRAÇA SENADOR SALGADO FILHO, S/N°, AEROPORTO SANTOS DUMONT, TÉRREO, ÁREA PÚBLICA, ENTRE OS EIXOS 46-48/0-P, 20.021-340, RIO DE JANEIRO-RJ                           |\n",
      "|AVENIDA SANTOS DUMONT, Nº 1350, AEROPORTO INTERNACIONAL DE MANAUS EDUARDO GOMES - SAGUÃO DE EMBARQUE DO TPS I - HANGAR I, BAIRRO TARUMÃ, 69.041-000, MANAUS-AM      |\n",
      "|AVENIDA PREFEITO LUIZ LATORRE, Nº 9450, CONDOMINIO MASTER BUSINESS PARK, GALPÃO 17, SALA 1, VILA DAS HORTÊNCIAS, 13.209-430, JUNDIAÍ-SP                             |\n",
      "|SETOR DE HANGARES. ENTRADA PELA AV. THOMAZ ALBERTO WHATELY S/Nº, LOTES 14,16,20 E 22 AEROPORTO LEITE LOPES - JARDIM AEROPORTO, 14.078-550, RIBEIRÃO PRETO-SP        |\n",
      "|RODOVIA CONTORNO LESTE BR-116, Nº 9.119, 3º ANDAR, SALA 01, BAIRRO COSTEIRA. CAIXA POSTAL Nº 1054, 83.015-162, SÃO JOSÉ DOS PINHAIS-PR                              |\n",
      "|RUA ÁTICA , N° 673, 6ª ANDAR, SALA 62, JARDIM BRASIL, 04.634-042, SÃO PAULO-SP                                                                                      |\n",
      "|AV. SENADOR SALGADO FILHO, 5397 SALA D - BAIRRO UBERABA, 81.580-000, CURITIBA-PR                                                                                    |\n",
      "|RODOVIA PR 218, KM 7, JARDIM UNIVERSITÁRIO, AEROPORTO MUNICIPAL ALBERTO BERTELLI , 86.702-670, ARAPONGAS-PR                                                         |\n",
      "| PÇA. GAGO COUTINHO, S/N, AEROPORTO INTERNACIONAL DE SALVADOR DEPUTADO LUÍS EDUARDO MAGALHÃES - HANGAR - AEROPORTO, 41.510-045, SALVADOR-BA                         |\n",
      "|AV. AYRTON SENNA, 2541 RUA F1 LOTE 40 - AEROPORTO DE JACAREPAGUÁ - BARRA DA TIJUCA, 22.775-002, RIO DE JANEIRO-RJ                                                   |\n",
      "|AL. RIO NEGRO, 585 - BLOCO A - CJ.95 - SALA E, 06.454-000, BARUERI-SP                                                                                               |\n",
      "|RODOVIA CONTORNO LESTE BR-116, Nº 9.119, 3º ANDAR, SALA 01, BAIRRO COSTEIRA. CAIXA POSTAL Nº 1054, 83.015-162, SÃO JOSÉ DOS PINHAIS-PR                              |\n",
      "|AV. LAURO SODRÉ, Nº 6490 - AEROPORTO INTERNACIONAL DE PORTO VELHO - LOJA 04, 76.803-260, PORTO VELHO-RO                                                             |\n",
      "|PRAÇA EDUARDO GOMES, S/Nº, TERMINAL DE AVIAÇÃO GERAL, SALA 013 - BAIRRO VILA UNIÃO, 60.422-721, FORTALEZA-CE                                                        |\n",
      "+--------------------------------------------------------------------------------------------------------------------------------------------------------------------+\n",
      "\n"
     ]
    }
   ],
   "source": [
    "df.select(\"endereço_sede\").show(truncate=False)"
   ]
  },
  {
   "cell_type": "code",
   "execution_count": 13,
   "metadata": {
    "tags": []
   },
   "outputs": [
    {
     "name": "stdout",
     "output_type": "stream",
     "text": [
      "root\n",
      " |-- razão_social: string (nullable = true)\n",
      " |-- icao_iata: string (nullable = true)\n",
      " |-- cnpj: string (nullable = true)\n",
      " |-- atividades_aéreas: string (nullable = true)\n",
      " |-- endereço_sede: string (nullable = true)\n",
      " |-- telefone: string (nullable = true)\n",
      " |-- e-mail: string (nullable = true)\n",
      " |-- decisão_operacional: string (nullable = true)\n",
      " |-- data_decisão_operacional: string (nullable = true)\n",
      " |-- validade_operacional: string (nullable = true)\n",
      " |-- icao: string (nullable = true)\n",
      " |-- iata: string (nullable = true)\n",
      " |-- endereco_array: array (nullable = true)\n",
      " |    |-- element: string (containsNull = false)\n",
      " |-- len_array: integer (nullable = false)\n",
      " |-- contem: boolean (nullable = true)\n",
      " |-- elemente1: string (nullable = true)\n",
      "\n",
      "+----------------------------------------------------------------------------------------------------------------------------------------------------------------------+---------------------------------------------------------------+---------+\n",
      "|endereco_array                                                                                                                                                        |elemente1                                                      |len_array|\n",
      "+----------------------------------------------------------------------------------------------------------------------------------------------------------------------+---------------------------------------------------------------+---------+\n",
      "|[AEROPORTO INTERNACIONAL DE VIRACOPOS, RODOVIA SANTOS DUMONT, KM 66, SISTEMA VIÁRIO PRINCIPAL, S/ Nº, 13.052-970, CAMPINAS-SP]                                        |AEROPORTO INTERNACIONAL DE VIRACOPOS                           |7        |\n",
      "|[RODOVIA PR 218, KM 7, JARDIM UNIVERSITÁRIO, AEROPORTO MUNICIPAL ALBERTO BERTELLI , 86.702-670, ARAPONGAS-PR]                                                         |RODOVIA PR 218                                                 |6        |\n",
      "|[AV GOVERNADOR JOÃO PONCE DE ARRUDA, S/N, HANGAR AMÉRICA DO SUL ANEXO AO AEROP. MAL RONDON. CAIXA POSTAL N° 156, NO BAIRRO CENTRO-NORTE, 78.110-900, VÁRZEA GRANDE-MT]|AV GOVERNADOR JOÃO PONCE DE ARRUDA                             |6        |\n",
      "|[ PÇA. GAGO COUTINHO, S/N, AEROPORTO INTERNACIONAL DE SALVADOR DEPUTADO LUÍS EDUARDO MAGALHÃES - HANGAR - AEROPORTO, 41.510-045, SALVADOR-BA]                         | PÇA. GAGO COUTINHO                                            |5        |\n",
      "|[AVENIDA EMILIO ANTONON, 901, BAIRRO CHÁCARA AEROPORTO, 13.212-010, JUNDIAÍ-SP]                                                                                       |AVENIDA EMILIO ANTONON                                         |5        |\n",
      "|[AV. MARCOS PENTEADO ULHÔA RODRIGUES,N°939, 9° ANDAR TORRE JATOBÁ, COND. CASTELO BRANCO OFFICE PARK - TAMBORÉ, 06.460-040, BARUERI-SP]                                |AV. MARCOS PENTEADO ULHÔA RODRIGUES,N°939                      |5        |\n",
      "|[PRAÇA SENADOR SALGADO FILHO, S/N°, AEROPORTO SANTOS DUMONT, TÉRREO, ÁREA PÚBLICA, ENTRE OS EIXOS 46-48/0-P, 20.021-340, RIO DE JANEIRO-RJ]                           |PRAÇA SENADOR SALGADO FILHO                                    |8        |\n",
      "|[AVENIDA SANTOS DUMONT, Nº 1350, AEROPORTO INTERNACIONAL DE MANAUS EDUARDO GOMES - SAGUÃO DE EMBARQUE DO TPS I - HANGAR I, BAIRRO TARUMÃ, 69.041-000, MANAUS-AM]      |AVENIDA SANTOS DUMONT                                          |6        |\n",
      "|[AVENIDA PREFEITO LUIZ LATORRE, Nº 9450, CONDOMINIO MASTER BUSINESS PARK, GALPÃO 17, SALA 1, VILA DAS HORTÊNCIAS, 13.209-430, JUNDIAÍ-SP]                             |AVENIDA PREFEITO LUIZ LATORRE                                  |8        |\n",
      "|[SETOR DE HANGARES. ENTRADA PELA AV. THOMAZ ALBERTO WHATELY S/Nº, LOTES 14,16,20 E 22 AEROPORTO LEITE LOPES - JARDIM AEROPORTO, 14.078-550, RIBEIRÃO PRETO-SP]        |SETOR DE HANGARES. ENTRADA PELA AV. THOMAZ ALBERTO WHATELY S/Nº|4        |\n",
      "|[RODOVIA CONTORNO LESTE BR-116, Nº 9.119, 3º ANDAR, SALA 01, BAIRRO COSTEIRA. CAIXA POSTAL Nº 1054, 83.015-162, SÃO JOSÉ DOS PINHAIS-PR]                              |RODOVIA CONTORNO LESTE BR-116                                  |7        |\n",
      "|[RUA ÁTICA , N° 673, 6ª ANDAR, SALA 62, JARDIM BRASIL, 04.634-042, SÃO PAULO-SP]                                                                                      |RUA ÁTICA                                                      |7        |\n",
      "|[AV. SENADOR SALGADO FILHO, 5397 SALA D - BAIRRO UBERABA, 81.580-000, CURITIBA-PR]                                                                                    |AV. SENADOR SALGADO FILHO                                      |4        |\n",
      "|[RODOVIA PR 218, KM 7, JARDIM UNIVERSITÁRIO, AEROPORTO MUNICIPAL ALBERTO BERTELLI , 86.702-670, ARAPONGAS-PR]                                                         |RODOVIA PR 218                                                 |6        |\n",
      "|[ PÇA. GAGO COUTINHO, S/N, AEROPORTO INTERNACIONAL DE SALVADOR DEPUTADO LUÍS EDUARDO MAGALHÃES - HANGAR - AEROPORTO, 41.510-045, SALVADOR-BA]                         | PÇA. GAGO COUTINHO                                            |5        |\n",
      "|[AV. AYRTON SENNA, 2541 RUA F1 LOTE 40 - AEROPORTO DE JACAREPAGUÁ - BARRA DA TIJUCA, 22.775-002, RIO DE JANEIRO-RJ]                                                   |AV. AYRTON SENNA                                               |4        |\n",
      "|[AL. RIO NEGRO, 585 - BLOCO A - CJ.95 - SALA E, 06.454-000, BARUERI-SP]                                                                                               |AL. RIO NEGRO                                                  |4        |\n",
      "|[RODOVIA CONTORNO LESTE BR-116, Nº 9.119, 3º ANDAR, SALA 01, BAIRRO COSTEIRA. CAIXA POSTAL Nº 1054, 83.015-162, SÃO JOSÉ DOS PINHAIS-PR]                              |RODOVIA CONTORNO LESTE BR-116                                  |7        |\n",
      "|[AV. LAURO SODRÉ, Nº 6490 - AEROPORTO INTERNACIONAL DE PORTO VELHO - LOJA 04, 76.803-260, PORTO VELHO-RO]                                                             |AV. LAURO SODRÉ                                                |4        |\n",
      "|[PRAÇA EDUARDO GOMES, S/Nº, TERMINAL DE AVIAÇÃO GERAL, SALA 013 - BAIRRO VILA UNIÃO, 60.422-721, FORTALEZA-CE]                                                        |PRAÇA EDUARDO GOMES                                            |6        |\n",
      "+----------------------------------------------------------------------------------------------------------------------------------------------------------------------+---------------------------------------------------------------+---------+\n",
      "\n"
     ]
    }
   ],
   "source": [
    "df_array = (\n",
    "    df\n",
    "    .withColumn(\"endereco_array\", F.split(df[\"endereço_sede\"], \", \"))\n",
    "    .withColumn(\"len_array\", F.size(F.col(\"endereco_array\")))\n",
    "    #.withColumn(\"explode\", F.explode(F.col(\"endereco_array\")))\n",
    "    .withColumn(\"contem\", F.array_contains(F.col(\"endereco_array\"), \"SÃO JOSÉ DOS PINHAIS-PR\"))\n",
    "    .withColumn(\"elemente1\", F.col(\"endereco_array\")[0])\n",
    ")\n",
    "\n",
    "df_array.printSchema()\n",
    "\n",
    "# Mostrar o resultado\n",
    "df_array.select(\"endereco_array\",\"elemente1\",\"len_array\").show(truncate=False)"
   ]
  },
  {
   "cell_type": "markdown",
   "metadata": {},
   "source": [
    "\n",
    "# Funções de Manipulação de Mapas\n",
    "\n",
    "As funções a seguir são usadas para manipular mapas em DataFrames:\n",
    "\n",
    "| Função                       | Descrição                                                   | Exemplo de Caso de Uso                   |\n",
    "|------------------------------|-------------------------------------------------------------|-----------------------------------------|\n",
    "| `map(col1, col2, ...)`       | Cria um mapa a partir de pares chave-valor                    | Combinar várias colunas em um mapa.      |\n",
    "| `map_keys(col)`              | Retorna as chaves de um mapa                                 | Extrair as chaves de um mapa.             |\n",
    "| `map_values(col)`            | Retorna os valores de um mapa                                | Extrair os valores de um mapa.           |\n",
    "| `map_concat(col1, col2)`     | Concatena dois mapas em um novo mapa                         | Combinar dois mapas em um único mapa.    |\n",
    "| `map_from_arrays(keys, values)` | Cria um mapa a partir de dois arrays                   | Construir um mapa a partir de colunas separadas. |\n",
    "| `map_from_entries(col)`       | Cria um mapa a partir de entradas (chave, valor)           | Construir um mapa a partir de colunas de chave e valor. |"
   ]
  },
  {
   "cell_type": "code",
   "execution_count": 19,
   "metadata": {
    "tags": []
   },
   "outputs": [
    {
     "name": "stdout",
     "output_type": "stream",
     "text": [
      "root\n",
      " |-- razão_social: string (nullable = true)\n",
      " |-- icao_iata: string (nullable = true)\n",
      " |-- cnpj: string (nullable = true)\n",
      " |-- atividades_aéreas: string (nullable = true)\n",
      " |-- endereço_sede: string (nullable = true)\n",
      " |-- telefone: string (nullable = true)\n",
      " |-- e-mail: string (nullable = true)\n",
      " |-- decisão_operacional: string (nullable = true)\n",
      " |-- data_decisão_operacional: string (nullable = true)\n",
      " |-- validade_operacional: string (nullable = true)\n",
      " |-- icao: string (nullable = true)\n",
      " |-- iata: string (nullable = true)\n",
      " |-- map_id: map (nullable = false)\n",
      " |    |-- key: string\n",
      " |    |-- value: string (valueContainsNull = true)\n",
      " |-- map_keys: array (nullable = false)\n",
      " |    |-- element: string (containsNull = true)\n",
      "\n",
      "+----------------------------+------------+----+\n",
      "|map_id                      |map_keys    |keys|\n",
      "+----------------------------+------------+----+\n",
      "|{icao -> LTG, iata -> M3}   |[LTG, M3]   |null|\n",
      "|{icao -> ASO, iata -> 2S}   |[ASO, 2S]   |null|\n",
      "|{icao -> SUL, iata -> 0A}   |[SUL, 0A]   |null|\n",
      "|{icao -> ABJ, iata -> null} |[ABJ, null] |null|\n",
      "|{icao -> ACN, iata -> 2F}   |[ACN, 2F]   |null|\n",
      "|{icao -> AZU, iata -> AD}   |[AZU, AD]   |null|\n",
      "|{icao -> GLO, iata -> G3}   |[GLO, G3]   |null|\n",
      "|{icao -> PAM, iata -> 7M}   |[PAM, 7M]   |null|\n",
      "|{icao -> MWM, iata -> WD}   |[MWM, WD]   |null|\n",
      "|{icao -> PTB, iata -> 2Z}   |[PTB, 2Z]   |null|\n",
      "|{icao -> SID, iata -> 0S}   |[SID, 0S]   |null|\n",
      "|{icao -> TAM, iata -> JJ}   |[TAM, JJ]   |null|\n",
      "|{icao -> TTL, iata -> L1}   |[TTL, L1]   |null|\n",
      "|{icao -> ASO, iata -> 2S}   |[ASO, 2S]   |null|\n",
      "|{icao -> ABJ, iata -> null} |[ABJ, null] |null|\n",
      "|{icao -> OMI, iata -> O1}   |[OMI, O1]   |null|\n",
      "|{icao -> null, iata -> null}|[null, null]|null|\n",
      "|{icao -> SID, iata -> 0S}   |[SID, 0S]   |null|\n",
      "|{icao -> RIM, iata -> 0R}   |[RIM, 0R]   |null|\n",
      "|{icao -> CKP, iata -> null} |[CKP, null] |null|\n",
      "+----------------------------+------------+----+\n",
      "\n"
     ]
    }
   ],
   "source": [
    "df_map = (\n",
    "    df\n",
    "    .withColumn(\"map_id\",  F.create_map(F.lit(\"icao\"), F.col(\"icao\"), F.lit(\"iata\"), F.col(\"iata\")))\n",
    "    .withColumn(\"map_keys\",  F.map_values(\"map_id\"))\n",
    ")\n",
    "\n",
    "df_map.printSchema()\n",
    "\n",
    "df_map.select(\"map_id\",\"map_keys\",\"map_id.keys\").show(truncate=False)"
   ]
  },
  {
   "cell_type": "markdown",
   "metadata": {
    "tags": []
   },
   "source": [
    "# Funções de Manipulação de Estruturas\n",
    "\n",
    "As funções a seguir são usadas para manipular estruturas em DataFrames:\n",
    "\n",
    "| Função                           | Descrição                                                 | Exemplo de Caso de Uso                         |\n",
    "|----------------------------------|-----------------------------------------------------------|-----------------------------------------------|\n",
    "| `struct(col1, col2, ...)`        | Cria uma estrutura a partir de colunas específicas       | Combinar várias colunas em uma estrutura.      |\n",
    "| `struct_fields(col)`             | Retorna os campos de uma estrutura                        | Extrair os campos de uma estrutura.             |\n",
    "| `named_struct(fields)`           | Cria uma estrutura nomeada com campos especificados      | Criar uma estrutura com campos nomeados.        |\n",
    "| `getField(col, fieldName)`       | Retorna o valor de um campo em uma estrutura              | Acessar valores de campos em uma estrutura.     |"
   ]
  },
  {
   "cell_type": "code",
   "execution_count": 26,
   "metadata": {
    "tags": []
   },
   "outputs": [
    {
     "name": "stdout",
     "output_type": "stream",
     "text": [
      "root\n",
      " |-- razão_social: string (nullable = true)\n",
      " |-- icao_iata: string (nullable = true)\n",
      " |-- cnpj: string (nullable = true)\n",
      " |-- atividades_aéreas: string (nullable = true)\n",
      " |-- endereço_sede: string (nullable = true)\n",
      " |-- telefone: string (nullable = true)\n",
      " |-- e-mail: string (nullable = true)\n",
      " |-- decisão_operacional: string (nullable = true)\n",
      " |-- data_decisão_operacional: string (nullable = true)\n",
      " |-- validade_operacional: string (nullable = true)\n",
      " |-- icao: string (nullable = true)\n",
      " |-- iata: string (nullable = true)\n",
      " |-- struct_info: struct (nullable = false)\n",
      " |    |-- atividades_aéreas: string (nullable = true)\n",
      " |    |-- cnpj: string (nullable = true)\n",
      " |    |-- telefone: string (nullable = true)\n",
      " |-- column_struct: string (nullable = true)\n",
      "\n",
      "+------------------------------------------------------------------------------------------------+------------------------------------------------------------------------------------------------+\n",
      "|column_struct                                                                                   |column_struct                                                                                   |\n",
      "+------------------------------------------------------------------------------------------------+------------------------------------------------------------------------------------------------+\n",
      "|TRANSPORTE AÉREO REGULAR                                                                        |TRANSPORTE AÉREO REGULAR                                                                        |\n",
      "|SERVIÇOS AÉREOS PÚBLICOS, TÁXI-AÉREO, TRANSPORTE AÉREO NÃO REGULAR, TRANSPORTE AÉREO REGULAR    |SERVIÇOS AÉREOS PÚBLICOS, TÁXI-AÉREO, TRANSPORTE AÉREO NÃO REGULAR, TRANSPORTE AÉREO REGULAR    |\n",
      "|SERVIÇOS AÉREOS PÚBLICOS, TRANSPORTE AÉREO REGULAR                                              |SERVIÇOS AÉREOS PÚBLICOS, TRANSPORTE AÉREO REGULAR                                              |\n",
      "|TÁXI-AÉREO, TRANSPORTE AÉREO NÃO REGULAR, TRANSPORTE AÉREO REGULAR                              |TÁXI-AÉREO, TRANSPORTE AÉREO NÃO REGULAR, TRANSPORTE AÉREO REGULAR                              |\n",
      "|TRANSPORTE AÉREO REGULAR                                                                        |TRANSPORTE AÉREO REGULAR                                                                        |\n",
      "|TRANSPORTE AÉREO REGULAR                                                                        |TRANSPORTE AÉREO REGULAR                                                                        |\n",
      "|TRANSPORTE AÉREO REGULAR                                                                        |TRANSPORTE AÉREO REGULAR                                                                        |\n",
      "|TRANSPORTE AÉREO REGULAR                                                                        |TRANSPORTE AÉREO REGULAR                                                                        |\n",
      "|TRANSPORTE AÉREO REGULAR                                                                        |TRANSPORTE AÉREO REGULAR                                                                        |\n",
      "|TRANSPORTE AÉREO REGULAR                                                                        |TRANSPORTE AÉREO REGULAR                                                                        |\n",
      "|TRANSPORTE AÉREO NÃO REGULAR, TRANSPORTE AÉREO REGULAR                                          |TRANSPORTE AÉREO NÃO REGULAR, TRANSPORTE AÉREO REGULAR                                          |\n",
      "|TRANSPORTE AÉREO REGULAR                                                                        |TRANSPORTE AÉREO REGULAR                                                                        |\n",
      "|SERVIÇOS AÉREOS PÚBLICOS, TRANSPORTE AÉREO REGULAR                                              |SERVIÇOS AÉREOS PÚBLICOS, TRANSPORTE AÉREO REGULAR                                              |\n",
      "|SERVIÇOS AÉREOS PÚBLICOS, TÁXI-AÉREO, TRANSPORTE AÉREO NÃO REGULAR, TRANSPORTE AÉREO REGULAR    |SERVIÇOS AÉREOS PÚBLICOS, TÁXI-AÉREO, TRANSPORTE AÉREO NÃO REGULAR, TRANSPORTE AÉREO REGULAR    |\n",
      "|TÁXI-AÉREO, TRANSPORTE AÉREO NÃO REGULAR, TRANSPORTE AÉREO REGULAR                              |TÁXI-AÉREO, TRANSPORTE AÉREO NÃO REGULAR, TRANSPORTE AÉREO REGULAR                              |\n",
      "|AEROFOTOGRAFIA, AEROINSPEÇÃO, SERVIÇOS AÉREOS PÚBLICOS, TÁXI-AÉREO, TRANSPORTE AÉREO NÃO REGULAR|AEROFOTOGRAFIA, AEROINSPEÇÃO, SERVIÇOS AÉREOS PÚBLICOS, TÁXI-AÉREO, TRANSPORTE AÉREO NÃO REGULAR|\n",
      "|TÁXI-AÉREO, TRANSPORTE AÉREO NÃO REGULAR, SERVIÇOS AÉREOS PÚBLICOS                              |TÁXI-AÉREO, TRANSPORTE AÉREO NÃO REGULAR, SERVIÇOS AÉREOS PÚBLICOS                              |\n",
      "|TRANSPORTE AÉREO NÃO REGULAR, TRANSPORTE AÉREO REGULAR                                          |TRANSPORTE AÉREO NÃO REGULAR, TRANSPORTE AÉREO REGULAR                                          |\n",
      "|LIGAÇÃO AÉREA SISTEMÁTICA REGULAR, TÁXI-AÉREO                                                   |LIGAÇÃO AÉREA SISTEMÁTICA REGULAR, TÁXI-AÉREO                                                   |\n",
      "|LIGAÇÃO AÉREA SISTEMÁTICA REGULAR, SERVIÇOS AÉREOS PÚBLICOS, TÁXI-AÉREO                         |LIGAÇÃO AÉREA SISTEMÁTICA REGULAR, SERVIÇOS AÉREOS PÚBLICOS, TÁXI-AÉREO                         |\n",
      "+------------------------------------------------------------------------------------------------+------------------------------------------------------------------------------------------------+\n",
      "\n"
     ]
    }
   ],
   "source": [
    "df_map = (\n",
    "    df\n",
    "    .withColumn(\"struct_info\",  F.struct(\"atividades_aéreas\",\"cnpj\",\"telefone\"))\n",
    "    .withColumn(\"column_struct\", F.col(\"struct_info\")[\"atividades_aéreas\"])\n",
    ")\n",
    "\n",
    "df_map.printSchema()\n",
    "\n",
    "df_map.select(\"column_struct\",\"column_struct\").show(truncate=False)"
   ]
  }
 ],
 "metadata": {
  "kernelspec": {
   "display_name": "Python 3 (ipykernel)",
   "language": "python",
   "name": "python3"
  },
  "language_info": {
   "codemirror_mode": {
    "name": "ipython",
    "version": 3
   },
   "file_extension": ".py",
   "mimetype": "text/x-python",
   "name": "python",
   "nbconvert_exporter": "python",
   "pygments_lexer": "ipython3",
   "version": "3.10.10"
  }
 },
 "nbformat": 4,
 "nbformat_minor": 4
}

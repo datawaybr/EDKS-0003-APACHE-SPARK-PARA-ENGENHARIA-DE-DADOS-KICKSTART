{
 "cells": [
  {
   "cell_type": "markdown",
   "metadata": {},
   "source": [
    "# UDF\n",
    "\n",
    "As UDFs (User-Defined Functions) no PySpark são funções personalizadas que você pode criar para aplicar operações complexas a colunas em um DataFrame. Elas permitem estender a funcionalidade do PySpark para realizar transformações de dados personalizadas.\n",
    "\n",
    "Aqui está um exemplo de como criar e usar uma UDF no PySpark:\n",
    "\n",
    "```python\n",
    "from pyspark.sql import SparkSession\n",
    "from pyspark.sql.functions import udf\n",
    "from pyspark.sql.types import IntegerType\n",
    "\n",
    "# Inicialize uma sessão Spark\n",
    "spark = SparkSession.builder.appName(\"ExemploUDF\").getOrCreate()\n",
    "\n",
    "# Crie um DataFrame de exemplo\n",
    "data = [(\"Alice\", 25), (\"Bob\", 30), (\"Charlie\", 35)]\n",
    "df = spark.createDataFrame(data, [\"Nome\", \"Idade\"])\n",
    "\n",
    "# Defina uma função Python que será usada como UDF\n",
    "def dobrar_idade(idade):\n",
    "    return idade * 2\n",
    "\n",
    "# Registre a função Python como uma UDF\n",
    "dobrar_idade_udf = udf(dobrar_idade, IntegerType())\n",
    "\n",
    "# Aplique a UDF à coluna 'Idade' e crie uma nova coluna 'IdadeDobrada'\n",
    "df = df.withColumn(\"IdadeDobrada\", dobrar_idade_udf(df[\"Idade\"]))\n",
    "\n",
    "# Mostre o DataFrame resultante\n",
    "df.show()\n",
    "```"
   ]
  },
  {
   "cell_type": "code",
   "execution_count": 1,
   "metadata": {
    "tags": []
   },
   "outputs": [],
   "source": [
    "from pyspark.sql import SparkSession\n",
    "import pyspark.sql.functions as F\n",
    "\n",
    "spark = SparkSession.builder.appName(\"Exemplo\").config(\"spark.jars.packages\", \"org.postgresql:postgresql:42.2.24\").getOrCreate()"
   ]
  },
  {
   "cell_type": "code",
   "execution_count": 2,
   "metadata": {
    "tags": []
   },
   "outputs": [
    {
     "name": "stdout",
     "output_type": "stream",
     "text": [
      "Requirement already satisfied: unidecode in /opt/conda/lib/python3.10/site-packages (1.3.7)\n"
     ]
    }
   ],
   "source": [
    "%%sh\n",
    "pip install unidecode"
   ]
  },
  {
   "cell_type": "code",
   "execution_count": 3,
   "metadata": {
    "tags": []
   },
   "outputs": [
    {
     "name": "stdout",
     "output_type": "stream",
     "text": [
      "root\n",
      " |-- razão_social: string (nullable = true)\n",
      " |-- icao_iata: string (nullable = true)\n",
      " |-- cnpj: string (nullable = true)\n",
      " |-- atividades_aéreas: string (nullable = true)\n",
      " |-- endereço_sede: string (nullable = true)\n",
      " |-- telefone: string (nullable = true)\n",
      " |-- e-mail: string (nullable = true)\n",
      " |-- decisão_operacional: string (nullable = true)\n",
      " |-- data_decisão_operacional: string (nullable = true)\n",
      " |-- validade_operacional: string (nullable = true)\n",
      " |-- icao: string (nullable = true)\n",
      " |-- iata: string (nullable = true)\n",
      "\n"
     ]
    }
   ],
   "source": [
    "df = (\n",
    "    spark\n",
    "    .read\n",
    "    .format(\"parquet\")\n",
    "    .load(\"/home/app/data/1.bronze/air_cia/\")\n",
    ")\n",
    "\n",
    "df.printSchema()"
   ]
  },
  {
   "cell_type": "code",
   "execution_count": 4,
   "metadata": {
    "tags": []
   },
   "outputs": [
    {
     "name": "stdout",
     "output_type": "stream",
     "text": [
      "root\n",
      " |-- razao_social: string (nullable = true)\n",
      " |-- icao_iata: string (nullable = true)\n",
      " |-- cnpj: string (nullable = true)\n",
      " |-- atividades_aereas: string (nullable = true)\n",
      " |-- endereco_sede: string (nullable = true)\n",
      " |-- telefone: string (nullable = true)\n",
      " |-- e-mail: string (nullable = true)\n",
      " |-- decisao_operacional: string (nullable = true)\n",
      " |-- data_decisao_operacional: string (nullable = true)\n",
      " |-- validade_operacional: string (nullable = true)\n",
      " |-- icao: string (nullable = true)\n",
      " |-- iata: string (nullable = true)\n",
      "\n"
     ]
    }
   ],
   "source": [
    "from unidecode import unidecode\n",
    "\n",
    "air_cia = (\n",
    "    df\n",
    "    .toDF(*[unidecode(a) for a in df.columns])\n",
    ")\n",
    "\n",
    "air_cia.printSchema()"
   ]
  },
  {
   "cell_type": "code",
   "execution_count": 5,
   "metadata": {},
   "outputs": [],
   "source": [
    " def remove_caracters_special(string):\n",
    "    if string == None:\n",
    "        return None\n",
    "    else:\n",
    "        return unidecode(string)"
   ]
  },
  {
   "cell_type": "code",
   "execution_count": 6,
   "metadata": {},
   "outputs": [],
   "source": [
    "from pyspark.sql.types import StringType\n",
    "\n",
    "convert_name_udf = F.udf(remove_caracters_special, StringType())"
   ]
  },
  {
   "cell_type": "markdown",
   "metadata": {
    "tags": []
   },
   "source": [
    "# Udf com decorator"
   ]
  },
  {
   "cell_type": "code",
   "execution_count": 9,
   "metadata": {},
   "outputs": [
    {
     "name": "stdout",
     "output_type": "stream",
     "text": [
      "-RECORD 0------------------------------------------------------------------------------------------------------------------------------------------------\n",
      " razao_social             | ABSA - AEROLINHAS BRASILEIRAS S.A.                                                                                           \n",
      " icao_iata                | LTG M3                                                                                                                       \n",
      " cnpj                     | 00074635000133                                                                                                               \n",
      " atividades_aereas        | TRANSPORTE AEREO REGULAR                                                                                                     \n",
      " endereco_sede            | AEROPORTO INTERNACIONAL DE VIRACOPOS, RODOVIA SANTOS DUMONT, KM 66, SISTEMA VIARIO PRINCIPAL, S/ No, 13.052-970, CAMPINAS-SP \n",
      " telefone                 | [1155828055]                                                                                                                 \n",
      " e-mail                   | gar@tam.com.br                                                                                                               \n",
      " decisao_operacional      | DECISAO No 41                                                                                                                \n",
      " data_decisao_operacional | 22/04/2015                                                                                                                   \n",
      " validade_operacional     | 23/04/2025                                                                                                                   \n",
      " icao                     | LTG                                                                                                                          \n",
      " iata                     | M3                                                                                                                           \n",
      "only showing top 1 row\n",
      "\n"
     ]
    }
   ],
   "source": [
    "from pyspark.sql.functions import *\n",
    "\n",
    "@F.udf (returnType = StringType())\n",
    "def cnpj_transforming(string):\n",
    "    if string:\n",
    "        return string.replace('.','').replace('/','').replace('-','')\n",
    "    else:\n",
    "        return None\n",
    "\n",
    "@udf (returnType = StringType())\n",
    "def telefone_transforming(string):\n",
    "    if string:\n",
    "        return string.replace('(','').replace(')','').replace(' ','').replace('-','').replace(\"|Fax:\",\"/\")\n",
    "    else:\n",
    "        return None\n",
    "\n",
    "air_cia_final =(\n",
    "    air_cia\n",
    "    .withColumn(\"cnpj\", cnpj_transforming(F.col(\"cnpj\")))\n",
    "    .withColumn(\"telefone\", F.split(telefone_transforming(F.col('telefone')),\"/\"))\n",
    "    .withColumn(\"endereco_sede\", convert_name_udf(F.col('endereco_sede')))\n",
    "    .withColumn(\"decisao_operacional\", convert_name_udf(F.col('decisao_operacional')))\n",
    "    .withColumn(\"atividades_aereas\", convert_name_udf(F.col('atividades_aereas')))\n",
    ")\n",
    "air_cia_final.show(1, vertical=True, truncate=False)"
   ]
  },
  {
   "cell_type": "code",
   "execution_count": 10,
   "metadata": {},
   "outputs": [],
   "source": [
    "air_cia_final = air_cia_final.drop_duplicates([\"razao_social\",\"icao_iata\",\"cnpj\"])\n",
    "air_cia_final = air_cia_final.dropna()"
   ]
  },
  {
   "cell_type": "code",
   "execution_count": 11,
   "metadata": {
    "tags": []
   },
   "outputs": [
    {
     "data": {
      "text/plain": [
       "[('razao_social', 'string'),\n",
       " ('icao_iata', 'string'),\n",
       " ('cnpj', 'string'),\n",
       " ('atividades_aereas', 'string'),\n",
       " ('endereco_sede', 'string'),\n",
       " ('telefone', 'array<string>'),\n",
       " ('e-mail', 'string'),\n",
       " ('decisao_operacional', 'string'),\n",
       " ('data_decisao_operacional', 'string'),\n",
       " ('validade_operacional', 'string'),\n",
       " ('icao', 'string'),\n",
       " ('iata', 'string')]"
      ]
     },
     "execution_count": 11,
     "metadata": {},
     "output_type": "execute_result"
    }
   ],
   "source": [
    "air_cia_final.dtypes"
   ]
  },
  {
   "cell_type": "code",
   "execution_count": 15,
   "metadata": {
    "tags": []
   },
   "outputs": [
    {
     "name": "stdout",
     "output_type": "stream",
     "text": [
      "+--------------------+---------+--------------+--------------------+--------------------+------------+--------------+-------------------+------------------------+--------------------+----+----+\n",
      "|        razao_social|icao_iata|          cnpj|   atividades_aereas|       endereco_sede|    telefone|        e-mail|decisao_operacional|data_decisao_operacional|validade_operacional|icao|iata|\n",
      "+--------------------+---------+--------------+--------------------+--------------------+------------+--------------+-------------------+------------------------+--------------------+----+----+\n",
      "|ABSA - AEROLINHAS...|   LTG M3|00074635000133|TRANSPORTE AEREO ...|AEROPORTO INTERNA...|[1155828055]|gar@tam.com.br|      DECISAO No 41|              22/04/2015|          23/04/2025| LTG|  M3|\n",
      "+--------------------+---------+--------------+--------------------+--------------------+------------+--------------+-------------------+------------------------+--------------------+----+----+\n",
      "\n"
     ]
    }
   ],
   "source": [
    "air_cia_final.where(F.col(\"data_decisao_operacional\") == '22/04/2015' ).show()"
   ]
  }
 ],
 "metadata": {
  "kernelspec": {
   "display_name": "Python 3 (ipykernel)",
   "language": "python",
   "name": "python3"
  },
  "language_info": {
   "codemirror_mode": {
    "name": "ipython",
    "version": 3
   },
   "file_extension": ".py",
   "mimetype": "text/x-python",
   "name": "python",
   "nbconvert_exporter": "python",
   "pygments_lexer": "ipython3",
   "version": "3.10.10"
  }
 },
 "nbformat": 4,
 "nbformat_minor": 4
}

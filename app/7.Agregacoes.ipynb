{
 "cells": [
  {
   "cell_type": "markdown",
   "metadata": {},
   "source": [
    "# Agregação no Apache Spark\n",
    "\n",
    "O Apache Spark fornece uma variedade de funções para realizar operações de agregação em DataFrames. Essas operações são úteis para resumir dados, calcular estatísticas e criar janelas temporais para análises avançadas.\n",
    "\n",
    "## Funções de Agregação\n",
    "\n",
    "As funções de agregação permitem realizar operações em colunas de dados:\n",
    "\n",
    "| Função                          | Descrição                                                | Exemplo de Caso de Uso                    |\n",
    "|---------------------------------|----------------------------------------------------------|-------------------------------------------|\n",
    "| `avg(col)`                      | Calcula a média dos valores em uma coluna                | Calcular a média de pontuações.           |\n",
    "| `sum(col)`                      | Calcula a soma dos valores em uma coluna                 | Calcular a soma de vendas.                |\n",
    "| `min(col)`                      | Encontra o valor mínimo em uma coluna                   | Encontrar a idade mínima dos funcionários. |\n",
    "| `max(col)`                      | Encontra o valor máximo em uma coluna                   | Encontrar a idade máxima dos funcionários. |\n",
    "| `count(col)`                    | Conta o número de registros não nulos em uma coluna      | Contar o número de vendas válidas.        |\n",
    "| `first(col, ignorenulls=False)` | Retorna o primeiro valor não nulo em uma coluna          | Obter o primeiro registro de uma coluna.  |\n",
    "| `last(col, ignorenulls=False)`  | Retorna o último valor não nulo em uma coluna            | Obter o último registro de uma coluna.    |\n",
    "\n",
    "## Funções de Janela (Window Functions)\n",
    "\n",
    "As funções de janela permitem realizar cálculos em janelas temporais de dados:\n",
    "\n",
    "| Função                          | Descrição                                                | Exemplo de Caso de Uso                    |\n",
    "|---------------------------------|----------------------------------------------------------|-------------------------------------------|\n",
    "| `row_number()`                  | Atribui um número de linha a cada registro na janela    | Atribuir uma classificação a registros.   |\n",
    "| `rank()`                        | Atribui uma classificação aos registros na janela       | Classificar registros em uma janela.      |\n",
    "| `dense_rank()`                  | Atribui uma classificação densa aos registros na janela  | Classificar registros, tratando empates.  |\n",
    "| `percent_rank()`                | Calcula a classificação percentual dos registros na janela | Determinar a posição relativa dos registros. |\n",
    "| `lead(col, offset, default)`    | Retorna o valor de uma coluna adiante na janela           | Analisar valores futuros em séries temporais. |\n",
    "| `lag(col, offset, default)`     | Retorna o valor de uma coluna anterior na janela         | Analisar valores passados em séries temporais. |\n",
    "| `first_value(col)`              | Retorna o primeiro valor de uma coluna na janela         | Obter o valor inicial em uma janela.        |\n",
    "| `last_value(col)`               | Retorna o último valor de uma coluna na janela           | Obter o valor final em uma janela.          |\n",
    "\n",
    "## Funções de Classificação (Sort Functions)\n",
    "\n",
    "As funções de classificação permitem classificar registros em ordem crescente ou decrescente com base em uma ou mais colunas:\n",
    "\n",
    "| Função                          | Descrição                                                | Exemplo de Caso de Uso                    |\n",
    "|---------------------------------|----------------------------------------------------------|-------------------------------------------|\n",
    "| `asc(col)`                      | Classifica em ordem crescente com base na coluna         | Classificar funcionários por nome.        |\n",
    "| `desc(col)`                     | Classifica em ordem decrescente com base na coluna       | Classificar vendas em ordem decrescente.   |\n",
    "\n",
    "## Funções de Agrupamento (Grouping Functions)\n",
    "\n",
    "As funções de agrupamento permitem realizar operações em grupos de dados:\n",
    "\n",
    "| Função                          | Descrição                                                | Exemplo de Caso de Uso                    |\n",
    "|---------------------------------|----------------------------------------------------------|-------------------------------------------|\n",
    "| `grouping(col)`                 | Verifica se uma coluna está em um grupo                   | Identificar colunas agregadas em uma consulta. |\n",
    "| `grouping_id()`                 | Retorna um ID que representa os grupos de agregação      | Calcular estatísticas personalizadas em grupos. |\n"
   ]
  },
  {
   "cell_type": "code",
   "execution_count": null,
   "metadata": {},
   "outputs": [],
   "source": []
  }
 ],
 "metadata": {
  "kernelspec": {
   "display_name": "Python 3 (ipykernel)",
   "language": "python",
   "name": "python3"
  },
  "language_info": {
   "codemirror_mode": {
    "name": "ipython",
    "version": 3
   },
   "file_extension": ".py",
   "mimetype": "text/x-python",
   "name": "python",
   "nbconvert_exporter": "python",
   "pygments_lexer": "ipython3",
   "version": "3.10.10"
  }
 },
 "nbformat": 4,
 "nbformat_minor": 4
}

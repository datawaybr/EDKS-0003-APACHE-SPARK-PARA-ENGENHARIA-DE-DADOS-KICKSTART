{
 "cells": [
  {
   "cell_type": "markdown",
   "metadata": {},
   "source": [
    "# Join, Concat e Pivot no Apache Spark\n",
    "\n",
    "O Apache Spark fornece operações poderosas para unir, concatenar e pivotar DataFrames, permitindo a combinação de dados de várias fontes, a concatenação de DataFrames e a transformação de dados para análises mais avançadas.\n",
    "\n",
    "## Operações de Join\n",
    "\n",
    "As operações de join permitem combinar dois ou mais DataFrames com base em uma ou mais colunas de chave:\n",
    "\n",
    "| Operação       | Descrição                                              | Exemplo de Caso de Uso                          |\n",
    "|----------------|--------------------------------------------------------|-----------------------------------------------|\n",
    "| `join`         | Combina DataFrames usando uma ou mais colunas de chave | Mesclar dados de tabelas relacionadas.         |\n",
    "| `crossJoin`    | Realiza um join cruzado (cada linha com cada linha)    | Gerar todas as combinações possíveis.          |\n",
    "| `leftJoin`     | Executa um join esquerdo (mantém todas as linhas do DataFrame esquerdo) | Unir dados de forma hierárquica.     |\n",
    "| `rightJoin`    | Executa um join direito (mantém todas as linhas do DataFrame direito) | Unir dados de forma hierárquica.     |\n",
    "| `fullOuterJoin` | Executa um join externo completo (mantém todas as linhas de ambos os DataFrames) | Unir dados preservando todos os registros. |\n",
    "\n",
    "## Estratégias de Join no Apache Spark\n",
    "\n",
    "| Estratégia        | Descrição                                                | Quando Usar                  | Desempenho        |\n",
    "|-------------------|----------------------------------------------------------|------------------------------|-------------------|\n",
    "| Shuffle Join      | Redistribuição de dados para realizar a junção           | Grandes DataFrames          | Custo e Tempo     |\n",
    "| Broadcast Join    | Transmissão de um DataFrame pequeno para todos os nós   | Um DataFrame é pequeno     | Eficiente         |\n",
    "| Sort-Merge Join   | Ordenação e fusão de DataFrames                          | DataFrames ordenados        | Eficiente         |\n",
    "| Bucketed Join     | Otimização para DataFrames divididos em buckets         | Chave de junção frequente   | Melhora o desempenho |\n",
    "| Broadcast Hash Join | Transmissão da tabela menor para todos os nós        | Uma tabela é pequena        | Melhora o desempenho |"
   ]
  },
  {
   "cell_type": "code",
   "execution_count": null,
   "metadata": {
    "tags": []
   },
   "outputs": [],
   "source": [
    "from pyspark.sql import SparkSession\n",
    "import pyspark.sql.functions as F\n",
    "\n",
    "spark = SparkSession.builder.appName(\"Exemplo\").config(\"spark.jars.packages\", \"org.postgresql:postgresql:42.2.24\").getOrCreate()"
   ]
  },
  {
   "cell_type": "code",
   "execution_count": null,
   "metadata": {
    "tags": []
   },
   "outputs": [],
   "source": [
    "df_air_cia = (\n",
    "    spark\n",
    "    .read\n",
    "    .format(\"parquet\")\n",
    "    .load(\"/home/app/data/1.bronze/air_cia/\")\n",
    ")\n",
    "\n",
    "df_air_cia.show(1, vertical=True)"
   ]
  },
  {
   "cell_type": "code",
   "execution_count": 26,
   "metadata": {
    "tags": []
   },
   "outputs": [
    {
     "name": "stdout",
     "output_type": "stream",
     "text": [
      "-RECORD 0-----------------------------------\n",
      " icao_empresa_aerea     | TAM               \n",
      " numero_voo             | 9458              \n",
      " codigo_di              | 0                 \n",
      " codigo_tipo_linha      | I                 \n",
      " icao_aerodromo_origem  | SBGR              \n",
      " icao_aerodromo_destino | SCEL              \n",
      " partida_prevista       | 01/01/2020 06:30  \n",
      " partida_real           | 01/01/2020 06:30  \n",
      " chegada_prevista       | 01/01/2020 10:40  \n",
      " chegada_real           | 01/01/2020 10:40  \n",
      " situacao_voo           | REALIZADO         \n",
      " codigo_justificativa   | null              \n",
      " preco_passagem         | 1907.3242         \n",
      " preco_combustivel      | 19443.44365734512 \n",
      "only showing top 1 row\n",
      "\n"
     ]
    }
   ],
   "source": [
    "df_vra = (\n",
    "    spark\n",
    "    .read\n",
    "    .format(\"parquet\")\n",
    "    .load(\"/home/app/data/1.bronze/vra/\")\n",
    ")\n",
    "df_vra.show(1, vertical=True)"
   ]
  },
  {
   "cell_type": "markdown",
   "metadata": {},
   "source": [
    "# inner, cross, outer, full, fullouter, full_outer, left, leftouter, left_outer, right, rightouter, right_outer, semi, leftsemi, left_semi, anti, leftanti and left_anti."
   ]
  },
  {
   "cell_type": "code",
   "execution_count": null,
   "metadata": {
    "tags": []
   },
   "outputs": [],
   "source": [
    "df_air_cia.join(df_vra.hint(\"sortMerge\"), df_vra[\"icao_empresa_aerea\"] == df_air_cia[\"icao\"],how=\"anti\").show(10,vertical=True)"
   ]
  },
  {
   "cell_type": "markdown",
   "metadata": {},
   "source": [
    "# Operações de Concatenação\n",
    "\n",
    "As operações de concatenação permitem combinar DataFrames verticalmente (por linhas) ou horizontalmente (por colunas):\n",
    "\n",
    "| Operação      | Descrição                                              | Exemplo de Caso de Uso                              |\n",
    "|---------------|--------------------------------------------------------|---------------------------------------------------|\n",
    "| `union`       | Concatena dois DataFrames verticalmente (por linhas)  | Combinar dados de DataFrames semelhantes.          |\n",
    "| `unionAll`    | Concatena dois DataFrames verticalmente (por linhas)  | Combinar dados de DataFrames semelhantes.          |\n",
    "| `unionByName` | Concatena dois DataFrames alinhando colunas pelo nome | Combinar dados de DataFrames com colunas renomeadas. |"
   ]
  },
  {
   "cell_type": "code",
   "execution_count": 7,
   "metadata": {
    "tags": []
   },
   "outputs": [
    {
     "name": "stdout",
     "output_type": "stream",
     "text": [
      "2725464\n",
      "585540\n"
     ]
    }
   ],
   "source": [
    "df_vra_1 = df_vra.filter(df_vra[\"partida_real\"] < \"2022-07-01\")\n",
    "df_vra_2 = df_vra.filter(df_vra[\"partida_real\"] >= \"2022-07-01\")\n",
    "\n",
    "print(df_vra_1.count())\n",
    "print(df_vra_2.count())"
   ]
  },
  {
   "cell_type": "code",
   "execution_count": 17,
   "metadata": {
    "tags": []
   },
   "outputs": [
    {
     "data": {
      "text/plain": [
       "True"
      ]
     },
     "execution_count": 17,
     "metadata": {},
     "output_type": "execute_result"
    }
   ],
   "source": [
    "3311004 == (2725464+585540)"
   ]
  },
  {
   "cell_type": "code",
   "execution_count": 16,
   "metadata": {
    "tags": []
   },
   "outputs": [
    {
     "data": {
      "text/plain": [
       "DataFrame[icao_empresa_aerea: string, numero_voo: string, codigo_di: string, codigo_tipo_linha: string, icao_aerodromo_origem: string, icao_aerodromo_destino: string, partida_prevista: timestamp, partida_real: timestamp, chegada_prevista: timestamp, chegada_real: timestamp, situacao_voo: string, codigo_justificativa: string, teste: int]"
      ]
     },
     "execution_count": 16,
     "metadata": {},
     "output_type": "execute_result"
    }
   ],
   "source": [
    "df_vra_1.unionByName(df_vra_2, allowMissingColumns=True)"
   ]
  },
  {
   "cell_type": "code",
   "execution_count": 14,
   "metadata": {
    "tags": []
   },
   "outputs": [],
   "source": [
    "df_vra_2 = df_vra_2.select(df_vra_2.columns[::-1]).withColumn(\"teste\", F.lit(1))"
   ]
  }
 ],
 "metadata": {
  "kernelspec": {
   "display_name": "Python 3 (ipykernel)",
   "language": "python",
   "name": "python3"
  },
  "language_info": {
   "codemirror_mode": {
    "name": "ipython",
    "version": 3
   },
   "file_extension": ".py",
   "mimetype": "text/x-python",
   "name": "python",
   "nbconvert_exporter": "python",
   "pygments_lexer": "ipython3",
   "version": "3.10.10"
  }
 },
 "nbformat": 4,
 "nbformat_minor": 4
}

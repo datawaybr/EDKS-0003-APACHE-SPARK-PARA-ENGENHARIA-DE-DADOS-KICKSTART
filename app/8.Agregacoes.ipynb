{
 "cells": [
  {
   "cell_type": "markdown",
   "metadata": {},
   "source": [
    "# Agregação no Apache Spark\n",
    "\n",
    "O Apache Spark fornece uma variedade de funções para realizar operações de agregação em DataFrames. Essas operações são úteis para resumir dados, calcular estatísticas e criar janelas temporais para análises avançadas.\n",
    "\n",
    "## Funções de Agregação\n",
    "\n",
    "As funções de agregação permitem realizar operações em colunas de dados:\n",
    "\n",
    "| Função                          | Descrição                                                | Exemplo de Caso de Uso                    |\n",
    "|---------------------------------|----------------------------------------------------------|-------------------------------------------|\n",
    "| `avg(col)`                      | Calcula a média dos valores em uma coluna                | Calcular a média de pontuações.           |\n",
    "| `sum(col)`                      | Calcula a soma dos valores em uma coluna                 | Calcular a soma de vendas.                |\n",
    "| `min(col)`                      | Encontra o valor mínimo em uma coluna                   | Encontrar a idade mínima dos funcionários. |\n",
    "| `max(col)`                      | Encontra o valor máximo em uma coluna                   | Encontrar a idade máxima dos funcionários. |\n",
    "| `count(col)`                    | Conta o número de registros não nulos em uma coluna      | Contar o número de vendas válidas.        |\n",
    "| `first(col, ignorenulls=False)` | Retorna o primeiro valor não nulo em uma coluna          | Obter o primeiro registro de uma coluna.  |\n",
    "| `last(col, ignorenulls=False)`  | Retorna o último valor não nulo em uma coluna            | Obter o último registro de uma coluna.    |\n",
    "\n",
    "## Funções de Classificação (Sort Functions)\n",
    "\n",
    "As funções de classificação permitem classificar registros em ordem crescente ou decrescente com base em uma ou mais colunas:\n",
    "\n",
    "| Função                          | Descrição                                                | Exemplo de Caso de Uso                    |\n",
    "|---------------------------------|----------------------------------------------------------|-------------------------------------------|\n",
    "| `asc(col)`                      | Classifica em ordem crescente com base na coluna         | Classificar funcionários por nome.        |\n",
    "| `desc(col)`                     | Classifica em ordem decrescente com base na coluna       | Classificar vendas em ordem decrescente.   |"
   ]
  },
  {
   "cell_type": "code",
   "execution_count": 2,
   "metadata": {},
   "outputs": [],
   "source": [
    "from pyspark.sql import SparkSession\n",
    "import pyspark.sql.functions as F\n",
    "\n",
    "spark = SparkSession.builder.appName(\"Exemplo\").config(\"spark.jars.packages\", \"org.postgresql:postgresql:42.2.24\").getOrCreate()"
   ]
  },
  {
   "cell_type": "code",
   "execution_count": 3,
   "metadata": {
    "tags": []
   },
   "outputs": [
    {
     "name": "stdout",
     "output_type": "stream",
     "text": [
      "-RECORD 0-----------------------------------\n",
      " icao_empresa_aerea     | TAM               \n",
      " numero_voo             | 9458              \n",
      " codigo_di              | 0                 \n",
      " codigo_tipo_linha      | I                 \n",
      " icao_aerodromo_origem  | SBGR              \n",
      " icao_aerodromo_destino | SCEL              \n",
      " partida_prevista       | 01/01/2020 06:30  \n",
      " partida_real           | 01/01/2020 06:30  \n",
      " chegada_prevista       | 01/01/2020 10:40  \n",
      " chegada_real           | 01/01/2020 10:40  \n",
      " situacao_voo           | REALIZADO         \n",
      " codigo_justificativa   | null              \n",
      " preco_passagem         | 1907.3242         \n",
      " preco_combustivel      | 19443.44365734512 \n",
      "only showing top 1 row\n",
      "\n"
     ]
    }
   ],
   "source": [
    "df_vra = (\n",
    "    spark\n",
    "    .read\n",
    "    .format(\"parquet\")\n",
    "    .load(\"/home/app/data/1.bronze/vra/\")\n",
    ")\n",
    "df_vra.show(1, vertical=True)"
   ]
  },
  {
   "cell_type": "markdown",
   "metadata": {
    "tags": []
   },
   "source": [
    "# Group By"
   ]
  },
  {
   "cell_type": "code",
   "execution_count": 23,
   "metadata": {
    "tags": []
   },
   "outputs": [
    {
     "name": "stdout",
     "output_type": "stream",
     "text": [
      "+---------------------+------------+------+--------------------+\n",
      "|icao_aerodromo_origem|situacao_voo| count|preco_passagem_medio|\n",
      "+---------------------+------------+------+--------------------+\n",
      "|                 SBGR|   REALIZADO|360724|             3966.31|\n",
      "|                 SBSP|   REALIZADO|202860|             3969.64|\n",
      "|                 SBKP|   REALIZADO|187684|             3962.98|\n",
      "|                 SBBR|   REALIZADO|158585|             3968.81|\n",
      "|                 SBRJ|   REALIZADO|138943|             3974.09|\n",
      "|                 SBCF|   REALIZADO|130423|             3968.89|\n",
      "|                 SBRF|   REALIZADO|112350|             3968.04|\n",
      "|                 SBPA|   REALIZADO| 81326|             3978.78|\n",
      "|                 SBSV|   REALIZADO| 80581|              3976.3|\n",
      "|                 SBCT|   REALIZADO| 67933|              3966.2|\n",
      "|                 SBGL|   REALIZADO| 65849|             3957.14|\n",
      "|                 SBFZ|   REALIZADO| 58249|             3966.62|\n",
      "|                 SBBE|   REALIZADO| 43671|             3973.37|\n",
      "|                 SBEG|   REALIZADO| 43251|             3952.25|\n",
      "|                 SBFL|   REALIZADO| 39378|             3958.51|\n",
      "|                 SBGO|   REALIZADO| 37873|             3974.62|\n",
      "|                 SBVT|   REALIZADO| 37849|             3971.84|\n",
      "|                 SBCY|   REALIZADO| 36447|             3974.99|\n",
      "|                 SBMO|   REALIZADO| 26046|             3956.03|\n",
      "|                 SBSG|   REALIZADO| 25124|             3948.47|\n",
      "+---------------------+------------+------+--------------------+\n",
      "only showing top 20 rows\n",
      "\n"
     ]
    }
   ],
   "source": [
    "(\n",
    "    df_vra\n",
    "    .where(df_vra[\"situacao_voo\"].isin([\"CANCELADO\",\"NÃO INFORMADO\",\"REALIZADO\"]))\n",
    "    .groupBy(\n",
    "        \"icao_aerodromo_origem\",\n",
    "        \"situacao_voo\"\n",
    "    )\n",
    "    .agg(\n",
    "        F.count(\"icao_aerodromo_origem\").alias(\"count\"),\n",
    "        F.round(F.avg(\"preco_passagem\"),2).alias(\"preco_passagem_medio\")\n",
    "        \n",
    "    )\n",
    "    .sort(\"count\", ascending=False)\n",
    "    .show()\n",
    ")"
   ]
  },
  {
   "cell_type": "markdown",
   "metadata": {},
   "source": [
    "# Funções de Janela (Window Functions)\n",
    "\n",
    "Para usar as funções dessa forma, devemos criar uma janela (window) da seguinte forma:\n",
    "\n",
    "```python\n",
    "from pyspark.sql.window import Window\n",
    "w = Window.partitionBy({columns}).orderBy({columns}).rowsBetween({lower}, {upper})\n",
    "```\n",
    "- `partitionBy()`: Refere-se ao agrupamento no qual os cálculos serão executados, sendo equivalente ao conceito de `groupBy()`.\n",
    "- `orderBy`: Necessária para funções como `row_number()` e `lag()`, esta instrução determina a ordem das linhas dentro do agrupamento.\n",
    "- `rowsBetween()`: Utilizado para definir janelas deslizantes, este método permite especificar um intervalo de linhas em relação à linha atual para a aplicação da função. Caso não seja especificado, as operações são aplicadas a todo o grupo, sendo especialmente útil para calcular médias móveis. Dois objetos importantes para construir esse intervalo são:\n",
    "  - `Window.currentRow`: Estabelece a linha para a qual o valor está sendo calculado como um dos limites.\n",
    "  - `Window.unboundedPreceding`: Indica a ausência de limites para as linhas anteriores à linha em que o valor está sendo calculado, considerando todas as linhas do grupo que já ocorreram. Deve ser utilizado no primeiro argumento (início).\n",
    "  - `Window.unboundedFollowing`: Sinaliza a ausência de limites para as linhas após a linha em que o valor está sendo calculado, considerando todas as linhas do grupo que ainda não ocorreram. Deve ser utilizado no segundo argumento (fim).\n",
    "\n",
    "\n",
    "\n",
    "As funções de janela permitem realizar cálculos em janelas temporais de dados:\n",
    "\n",
    "| Função                          | Descrição                                                | Exemplo de Caso de Uso                    |\n",
    "|---------------------------------|----------------------------------------------------------|-------------------------------------------|\n",
    "| `row_number()`                  | Atribui um número de linha a cada registro na janela    | Atribuir uma classificação a registros.   |\n",
    "| `rank()`                        | Atribui uma classificação aos registros na janela       | Classificar registros em uma janela.      |\n",
    "| `dense_rank()`                  | Atribui uma classificação densa aos registros na janela  | Classificar registros, tratando empates.  |\n",
    "| `percent_rank()`                | Calcula a classificação percentual dos registros na janela | Determinar a posição relativa dos registros. |\n",
    "| `lead(col, offset, default)`    | Retorna o valor de uma coluna adiante na janela           | Analisar valores futuros em séries temporais. |\n",
    "| `lag(col, offset, default)`     | Retorna o valor de uma coluna anterior na janela         | Analisar valores passados em séries temporais. |\n",
    "| `first_value(col)`              | Retorna o primeiro valor de uma coluna na janela         | Obter o valor inicial em uma janela.        |\n",
    "| `last_value(col)`               | Retorna o último valor de uma coluna na janela           | Obter o valor final em uma janela.          |"
   ]
  },
  {
   "cell_type": "code",
   "execution_count": 36,
   "metadata": {
    "tags": []
   },
   "outputs": [
    {
     "name": "stdout",
     "output_type": "stream",
     "text": [
      "-RECORD 0-----------------------------------\n",
      " icao_empresa_aerea     | TAM               \n",
      " numero_voo             | 9458              \n",
      " codigo_di              | 0                 \n",
      " codigo_tipo_linha      | I                 \n",
      " icao_aerodromo_origem  | SBGR              \n",
      " icao_aerodromo_destino | SCEL              \n",
      " partida_prevista       | 01/01/2020 06:30  \n",
      " partida_real           | 01/01/2020 06:30  \n",
      " chegada_prevista       | 01/01/2020 10:40  \n",
      " chegada_real           | 01/01/2020 10:40  \n",
      " situacao_voo           | REALIZADO         \n",
      " codigo_justificativa   | null              \n",
      " preco_passagem         | 1907.3242         \n",
      " preco_combustivel      | 19443.44365734512 \n",
      "only showing top 1 row\n",
      "\n"
     ]
    }
   ],
   "source": [
    "df_vra.show(1, vertical=True)"
   ]
  },
  {
   "cell_type": "code",
   "execution_count": 37,
   "metadata": {},
   "outputs": [],
   "source": [
    "from pyspark.sql.window import Window"
   ]
  },
  {
   "cell_type": "code",
   "execution_count": 38,
   "metadata": {},
   "outputs": [],
   "source": [
    "w = Window.partitionBy(\"icao_empresa_aerea\",\"icao_aerodromo_origem\").orderBy(F.desc('partida_prevista'))"
   ]
  },
  {
   "cell_type": "code",
   "execution_count": 45,
   "metadata": {
    "tags": []
   },
   "outputs": [
    {
     "name": "stdout",
     "output_type": "stream",
     "text": [
      "+------------------+---------------------+-------------------+---------------------+\n",
      "|icao_empresa_aerea|icao_aerodromo_origem|partida_prevista   |rank                 |\n",
      "+------------------+---------------------+-------------------+---------------------+\n",
      "|AAL               |KMIA                 |2023-09-30 23:53:00|0.0                  |\n",
      "|AAL               |KMIA                 |2023-09-30 20:33:00|3.1969309462915604E-4|\n",
      "|AAL               |KMIA                 |2023-09-30 00:10:00|6.393861892583121E-4 |\n",
      "|AAL               |KMIA                 |2023-09-29 23:56:00|9.590792838874681E-4 |\n",
      "|AAL               |KMIA                 |2023-09-29 21:36:00|0.0012787723785166241|\n",
      "|AAL               |KMIA                 |2023-09-29 00:15:00|0.00159846547314578  |\n",
      "|AAL               |KMIA                 |2023-09-28 23:55:00|0.0019181585677749361|\n",
      "|AAL               |KMIA                 |2023-09-28 20:57:00|0.002237851662404092 |\n",
      "|AAL               |KMIA                 |2023-09-28 00:14:00|0.0025575447570332483|\n",
      "|AAL               |KMIA                 |2023-09-27 23:55:00|0.002877237851662404 |\n",
      "|AAL               |KMIA                 |2023-09-27 20:47:00|0.00319693094629156  |\n",
      "|AAL               |KMIA                 |2023-09-27 01:25:00|0.003516624040920716 |\n",
      "|AAL               |KMIA                 |2023-09-26 23:54:00|0.0038363171355498722|\n",
      "|AAL               |KMIA                 |2023-09-26 21:07:00|0.0041560102301790285|\n",
      "|AAL               |KMIA                 |2023-09-26 00:09:00|0.004475703324808184 |\n",
      "|AAL               |KMIA                 |2023-09-25 20:42:00|0.00479539641943734  |\n",
      "|AAL               |KMIA                 |2023-09-25 00:16:00|0.005115089514066497 |\n",
      "|AAL               |KMIA                 |2023-09-24 23:51:00|0.005434782608695652 |\n",
      "|AAL               |KMIA                 |2023-09-24 20:42:00|0.005754475703324808 |\n",
      "|AAL               |KMIA                 |2023-09-24 00:19:00|0.006074168797953964 |\n",
      "+------------------+---------------------+-------------------+---------------------+\n",
      "only showing top 20 rows\n",
      "\n"
     ]
    }
   ],
   "source": [
    "(\n",
    "    df_vra\n",
    "    .withColumn(\"partida_prevista\", F.to_timestamp(\"partida_prevista\",'dd/MM/yyyy HH:mm'))\n",
    "    .where(df_vra[\"situacao_voo\"].isin([\"CANCELADO\",\"REALIZADO\"]))\n",
    "    .withColumn('rank', F.percent_rank().over(w))\n",
    "    .select(\"icao_empresa_aerea\",\"icao_aerodromo_origem\",'partida_prevista','rank')\n",
    "    .show(truncate=False)\n",
    ")"
   ]
  },
  {
   "cell_type": "markdown",
   "metadata": {
    "jp-MarkdownHeadingCollapsed": true,
    "tags": []
   },
   "source": [
    "# ..."
   ]
  },
  {
   "cell_type": "markdown",
   "metadata": {},
   "source": [
    "## Nosso desafio\n",
    "\n",
    "- Criar as seguintes views:\n",
    "  ##  > Vamos fazer este  \n",
    "  - Para cada companhia aérea trazer a rota mais utilizada com as seguintes informações:\n",
    "    - Razão social da companhia aérea\n",
    "    - Nome Aeroporto de Origem\n",
    "    - ICAO do aeroporto de origem\n",
    "    - Estado/UF do aeroporto de origem\n",
    "    - Nome do Aeroporto de Destino\n",
    "    - ICAO do Aeroporto de destino\n",
    "    - Estado/UF do aeroporto de destino"
   ]
  }
 ],
 "metadata": {
  "kernelspec": {
   "display_name": "Python 3 (ipykernel)",
   "language": "python",
   "name": "python3"
  },
  "language_info": {
   "codemirror_mode": {
    "name": "ipython",
    "version": 3
   },
   "file_extension": ".py",
   "mimetype": "text/x-python",
   "name": "python",
   "nbconvert_exporter": "python",
   "pygments_lexer": "ipython3",
   "version": "3.10.10"
  }
 },
 "nbformat": 4,
 "nbformat_minor": 4
}

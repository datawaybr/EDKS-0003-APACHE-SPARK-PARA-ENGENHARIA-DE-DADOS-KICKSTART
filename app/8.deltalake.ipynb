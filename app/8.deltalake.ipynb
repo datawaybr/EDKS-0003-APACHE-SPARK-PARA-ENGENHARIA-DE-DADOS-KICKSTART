{
 "cells": [
  {
   "cell_type": "markdown",
   "metadata": {},
   "source": [
    "# Delta Lake\n",
    "\n",
    "Delta Lake é uma solução de armazenamento de dados open-source da Databricks que traz transações ACID (Atomicidade, Consistência, Isolamento, Durabilidade) para o Apache Spark e big data workloads. Ele oferece um conjunto de funcionalidades adicionais sobre o Apache Parquet, transformando o armazenamento de dados em uma camada de armazenamento altamente confiável, escalável e seguro.\n",
    "\n",
    "## Recursos Principais:\n",
    "\n",
    "- **Atomicidade:** As transações são atômicas, o que significa que são bem-sucedidas como uma unidade ou falham e não deixam dados corrompidos.\n",
    "- **Consistência:** Delta Lake suporta operações ACID para manter a consistência dos dados.\n",
    "- **Isolamento:** As transações são isoladas umas das outras.\n",
    "- **Durabilidade:** Os dados gravados são duráveis e podem ser lidos por outras operações mesmo em caso de falhas.\n",
    "\n",
    "# Upsert (Inserir ou Atualizar)\n",
    "\n",
    "**Operação de Upsert (Inserir ou Atualizar):** O upsert é uma operação que permite inserir novos registros em um banco de dados ou atualizar os registros existentes se já estiverem presentes na base de dados. No contexto do Delta Lake, a operação de upsert geralmente envolve a atualização de registros existentes com base nas chaves de identificação e a inserção de novos registros se eles não existirem.\n",
    "\n",
    "## Comparação de Casos de Uso:\n",
    "\n",
    "| Cenário               | Uso Delta Lake                             | Uso Padrão (Sem Delta Lake)                 |\n",
    "|-----------------------|--------------------------------------------|--------------------------------------------|\n",
    "| **Atomicidade**       | Suporta transações ACID.                   | Transações podem não ser atômicas, o que pode levar a dados inconsistentes em caso de falha. |\n",
    "| **Consistência**      | Mantém a consistência dos dados.           | Pode resultar em dados inconsistentes se uma operação falhar no meio do processo. |\n",
    "| **Isolamento**        | Oferece isolamento entre transações.       | Pode não oferecer isolamento, o que pode levar a resultados inesperados. |\n",
    "| **Durabilidade**      | Os dados gravados são duráveis.           | Pode haver perda de dados em caso de falha. |\n",
    "| **Operação de Upsert**| Permite inserir ou atualizar registros de forma segura. | Pode ser difícil de implementar de forma segura sem mecanismos específicos como Delta Lake. |\n",
    "\n",
    "# Vacuum\n",
    "\n",
    "O `vacuum` é um recurso que permite a você excluir dados antigos de um conjunto de dados Delta. O `vacuum` é executado automaticamente em segundo plano, mas também pode ser executado manualmente.\n",
    "\n",
    "## Casos de uso:\n",
    "\n",
    "- Liberação de espaço em disco: O `vacuum` pode ser usado para liberar espaço em disco em um conjunto de dados Delta.\n",
    "- Melhoria do desempenho: O `vacuum` pode melhorar o desempenho de consultas em um conjunto de dados Delta.\n",
    "\n",
    "O `ChangeDataFeed` e `vacuum` são dois recursos do Delta Lake que ajudam a gerenciar dados em um lago de dados.\n",
    "\n",
    "# ChangeDataFeed\n",
    "\n",
    "O `ChangeDataFeed` é um recurso que permite a você monitorar alterações em um conjunto de dados Delta. Ele gera um fluxo de dados que contém as alterações feitas no conjunto de dados, incluindo inserções, exclusões e atualizações.\n",
    "\n",
    "## Casos de uso:\n",
    "\n",
    "- Replicação de dados: O `ChangeDataFeed` pode ser usado para replicar dados de um conjunto de dados Delta para outro conjunto de dados Delta.\n",
    "- Ingestão de dados em tempo real: O `ChangeDataFeed` pode ser usado para ingerir dados em tempo real em um conjunto de dados Delta.\n",
    "- Análise de dados: O `ChangeDataFeed` pode ser usado para analisar alterações em um conjunto de dados Delta.\n"
   ]
  },
  {
   "cell_type": "code",
   "execution_count": null,
   "metadata": {},
   "outputs": [],
   "source": []
  }
 ],
 "metadata": {
  "language_info": {
   "name": "python"
  }
 },
 "nbformat": 4,
 "nbformat_minor": 2
}

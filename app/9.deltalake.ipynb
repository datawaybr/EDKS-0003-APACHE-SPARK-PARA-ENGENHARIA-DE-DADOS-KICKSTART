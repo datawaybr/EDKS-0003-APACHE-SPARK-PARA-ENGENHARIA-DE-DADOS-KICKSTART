{
 "cells": [
  {
   "cell_type": "markdown",
   "metadata": {},
   "source": [
    "# Delta Lake\n",
    "\n",
    "Delta Lake é uma solução de armazenamento de dados open-source da Databricks que traz transações ACID (Atomicidade, Consistência, Isolamento, Durabilidade) para o Apache Spark e big data workloads. Ele oferece um conjunto de funcionalidades adicionais sobre o Apache Parquet, transformando o armazenamento de dados em uma camada de armazenamento altamente confiável, escalável e seguro.\n",
    "\n",
    "## Recursos Principais:\n",
    "\n",
    "- **Atomicidade:** As transações são atômicas, o que significa que são bem-sucedidas como uma unidade ou falham e não deixam dados corrompidos.\n",
    "- **Consistência:** Delta Lake suporta operações ACID para manter a consistência dos dados.\n",
    "- **Isolamento:** As transações são isoladas umas das outras.\n",
    "- **Durabilidade:** Os dados gravados são duráveis e podem ser lidos por outras operações mesmo em caso de falhas.\n",
    "\n",
    "# Upsert (Inserir ou Atualizar)\n",
    "\n",
    "**Operação de Upsert (Inserir ou Atualizar):** O upsert é uma operação que permite inserir novos registros em um banco de dados ou atualizar os registros existentes se já estiverem presentes na base de dados. No contexto do Delta Lake, a operação de upsert geralmente envolve a atualização de registros existentes com base nas chaves de identificação e a inserção de novos registros se eles não existirem.\n",
    "\n",
    "## Comparação de Casos de Uso:\n",
    "\n",
    "| Cenário               | Uso Delta Lake                             | Uso Padrão (Sem Delta Lake)                 |\n",
    "|-----------------------|--------------------------------------------|--------------------------------------------|\n",
    "| **Atomicidade**       | Suporta transações ACID.                   | Transações podem não ser atômicas, o que pode levar a dados inconsistentes em caso de falha. |\n",
    "| **Consistência**      | Mantém a consistência dos dados.           | Pode resultar em dados inconsistentes se uma operação falhar no meio do processo. |\n",
    "| **Isolamento**        | Oferece isolamento entre transações.       | Pode não oferecer isolamento, o que pode levar a resultados inesperados. |\n",
    "| **Durabilidade**      | Os dados gravados são duráveis.           | Pode haver perda de dados em caso de falha. |\n",
    "| **Operação de Upsert**| Permite inserir ou atualizar registros de forma segura. | Pode ser difícil de implementar de forma segura sem mecanismos específicos como Delta Lake. |\n",
    "\n",
    "# Vacuum\n",
    "\n",
    "O `vacuum` é um recurso que permite a você excluir dados antigos de um conjunto de dados Delta. O `vacuum` é executado automaticamente em segundo plano, mas também pode ser executado manualmente.\n",
    "\n",
    "## Casos de uso:\n",
    "\n",
    "- Liberação de espaço em disco: O `vacuum` pode ser usado para liberar espaço em disco em um conjunto de dados Delta.\n",
    "- Melhoria do desempenho: O `vacuum` pode melhorar o desempenho de consultas em um conjunto de dados Delta."
   ]
  },
  {
   "cell_type": "markdown",
   "metadata": {
    "tags": []
   },
   "source": [
    "# Leitura/escrita e setup"
   ]
  },
  {
   "cell_type": "code",
   "execution_count": 2,
   "metadata": {
    "tags": []
   },
   "outputs": [],
   "source": [
    "import delta"
   ]
  },
  {
   "cell_type": "code",
   "execution_count": 1,
   "metadata": {
    "tags": []
   },
   "outputs": [],
   "source": [
    "from pyspark.sql import SparkSession\n",
    "\n",
    "spark = (\n",
    "    SparkSession\n",
    "    .builder\n",
    "    .appName(\"Exemplo\")\n",
    "    .config(\"spark.jars.packages\", \"io.delta:delta-core_2.12:2.3.0\")\n",
    "    .config(\"spark.sql.extensions\", \"io.delta.sql.DeltaSparkSessionExtension\")\n",
    "    .config(\"spark.sql.catalog.spark_catalog\", \"org.apache.spark.sql.delta.catalog.DeltaCatalog\")\n",
    "    .getOrCreate()\n",
    ")"
   ]
  },
  {
   "cell_type": "code",
   "execution_count": 4,
   "metadata": {
    "tags": []
   },
   "outputs": [],
   "source": [
    "spark.sparkContext.addPyFile(\"delta-core_2.13-2.3.0.jar\")"
   ]
  },
  {
   "cell_type": "code",
   "execution_count": 5,
   "metadata": {
    "tags": []
   },
   "outputs": [
    {
     "name": "stdout",
     "output_type": "stream",
     "text": [
      "('spark.repl.local.jars', 'file:///home/jovyan/.ivy2/jars/io.delta_delta-core_2.12-2.3.0.jar,file:///home/jovyan/.ivy2/jars/io.delta_delta-storage-2.3.0.jar,file:///home/jovyan/.ivy2/jars/org.antlr_antlr4-runtime-4.8.jar')\n",
      "('spark.jars.packages', 'io.delta:delta-core_2.12:2.3.0')\n",
      "('spark.jars', 'file:///home/jovyan/.ivy2/jars/io.delta_delta-core_2.12-2.3.0.jar,file:///home/jovyan/.ivy2/jars/io.delta_delta-storage-2.3.0.jar,file:///home/jovyan/.ivy2/jars/org.antlr_antlr4-runtime-4.8.jar')\n"
     ]
    }
   ],
   "source": [
    "items = spark.sparkContext.getConf().getAll()\n",
    "\n",
    "for item in items:\n",
    "    if \"jars\" in item[0]:\n",
    "        print(item)"
   ]
  },
  {
   "cell_type": "markdown",
   "metadata": {},
   "source": [
    "## Primeiramente vamos salvar o dad para que depois possamos ler"
   ]
  },
  {
   "cell_type": "code",
   "execution_count": 3,
   "metadata": {
    "tags": []
   },
   "outputs": [],
   "source": [
    "df = (\n",
    "    spark\n",
    "    .read\n",
    "    .format(\"parquet\")\n",
    "    .load(\"/home/app/data/1.bronze/vra/\")\n",
    ")"
   ]
  },
  {
   "cell_type": "code",
   "execution_count": 9,
   "metadata": {
    "tags": []
   },
   "outputs": [],
   "source": [
    "(\n",
    "    df.write\n",
    "    .format(\"delta\")\n",
    "    .mode(\"append\")\n",
    "    .option(\"mergeSchema\", \"true\")\n",
    "    .save(\"/home/app/data/3.gold/vra_test/\")\n",
    ")"
   ]
  },
  {
   "cell_type": "markdown",
   "metadata": {},
   "source": [
    "## Com dado salvo em delta podemos le-lô em delta com a spark session ou mesmo como engine do delta"
   ]
  },
  {
   "cell_type": "code",
   "execution_count": 4,
   "metadata": {
    "tags": []
   },
   "outputs": [],
   "source": [
    "df_delta = (\n",
    "    spark\n",
    "    .read\n",
    "    .format(\"delta\")\n",
    "    .load(\"/home/app/data/3.gold/vra_test/\")\n",
    ")"
   ]
  },
  {
   "cell_type": "code",
   "execution_count": 5,
   "metadata": {
    "tags": []
   },
   "outputs": [],
   "source": [
    "delta_table = delta.DeltaTable.forPath(spark, \"/home/app/data/3.gold/vra_test/\")"
   ]
  },
  {
   "cell_type": "markdown",
   "metadata": {},
   "source": [
    "# Transações"
   ]
  },
  {
   "cell_type": "code",
   "execution_count": null,
   "metadata": {
    "tags": []
   },
   "outputs": [],
   "source": [
    " # lendo parquet de transações\n",
    "df_transacao = (\n",
    "    spark\n",
    "    .read\n",
    "    .format(\"json\")\n",
    "    .load(\"data/3.gold/vra_test/_delta_log/*.json\")\n",
    ")\n",
    "\n",
    "df_transacao.show(70,vertical=True,truncate=False)"
   ]
  },
  {
   "cell_type": "markdown",
   "metadata": {
    "tags": []
   },
   "source": [
    "### ACID transactions "
   ]
  },
  {
   "cell_type": "code",
   "execution_count": 8,
   "metadata": {},
   "outputs": [
    {
     "name": "stdout",
     "output_type": "stream",
     "text": [
      "-RECORD 0----------------------------------\n",
      " icao_empresa_aerea     | AAL              \n",
      " numero_voo             | 904              \n",
      " codigo_di              | 0                \n",
      " codigo_tipo_linha      | I                \n",
      " icao_aerodromo_origem  | SBGL             \n",
      " icao_aerodromo_destino | KMIA             \n",
      " partida_prevista       | 01/07/2022 23:00 \n",
      " partida_real           | 03/07/2022 01:33 \n",
      " chegada_prevista       | 02/07/2022 07:45 \n",
      " chegada_real           | 03/07/2022 09:45 \n",
      " situacao_voo           | REALIZADO        \n",
      " codigo_justificativa   | null             \n",
      " preco_passagem         | null             \n",
      " preco_combustivel      | null             \n",
      "only showing top 1 row\n",
      "\n"
     ]
    }
   ],
   "source": [
    "df_delta.show(1, vertical=True)"
   ]
  },
  {
   "cell_type": "code",
   "execution_count": 9,
   "metadata": {
    "tags": []
   },
   "outputs": [],
   "source": [
    "# Realizando a operaçăo de delete\n",
    "delta_table.delete( \"chegada_prevista < '01/01/2022'\")"
   ]
  },
  {
   "cell_type": "code",
   "execution_count": null,
   "metadata": {
    "tags": []
   },
   "outputs": [],
   "source": [
    "# Realizando a operação de Update\n",
    "(\n",
    "    delta_table.alias(\"delta\")\n",
    "    .merge(\n",
    "        df.alias(\"new_data\"),\n",
    "        \"delta.numero_voo = new_data.numero_voo\"\n",
    "    )\n",
    "    # .whenMatchedUpdate(\n",
    "    #     set= {\"partida_real\": \"new_data.partida_real\"}\n",
    "    # )\n",
    "    .whenMatchedUpdateAll()\n",
    "    .execute( )\n",
    ")"
   ]
  },
  {
   "cell_type": "code",
   "execution_count": null,
   "metadata": {
    "tags": []
   },
   "outputs": [],
   "source": [
    "# Realizando a operação de Upsert\n",
    "# Tentando inserir o registro; se já existir, ele será atualizado\n",
    "(\n",
    "    delta_table.alias(\"delta\")\n",
    "    .merge(\n",
    "        df.alias(\"new_data\"),\n",
    "        \"delta.numero_voo = new_data.numero_voo\"\n",
    "    )\n",
    "    # .whenMatchedUpdate(\n",
    "    #     set= {\"partida_real\": \"new_data.partida_real\"}\n",
    "    # )\n",
    "    .whenMatchedUpdateAll()\n",
    "    # .whenNotMatchedInsert(\n",
    "    #     values={\"numero_voo\": \"new_data.numero_voo\", \"icao_empresa_aerea\": \"new_data.icao_empresa_aerea\"}\n",
    "    # )\n",
    "    .whenNotMatchedInsertAll()\n",
    "    .execute()\n",
    ")"
   ]
  },
  {
   "cell_type": "markdown",
   "metadata": {
    "tags": []
   },
   "source": [
    "# Change data feed"
   ]
  },
  {
   "cell_type": "code",
   "execution_count": 6,
   "metadata": {
    "tags": []
   },
   "outputs": [
    {
     "data": {
      "text/plain": [
       "DataFrame[icao_empresa_aerea: string, numero_voo: string, codigo_di: string, codigo_tipo_linha: string, icao_aerodromo_origem: string, icao_aerodromo_destino: string, partida_prevista: string, partida_real: string, chegada_prevista: string, chegada_real: string, situacao_voo: string, codigo_justificativa: string, preco_passagem: float, preco_combustivel: double, _change_type: string, _commit_version: bigint, _commit_timestamp: timestamp]"
      ]
     },
     "execution_count": 6,
     "metadata": {},
     "output_type": "execute_result"
    }
   ],
   "source": [
    "(\n",
    "    spark\n",
    "    .readStream\n",
    "    .format(\"delta\")\n",
    "    .option(\"readChangefeed\",\"true\")\n",
    "    .option(\"staringVersion\", 0)\n",
    "    .load(\"/home/app/data/3.gold/vra_test/\")\n",
    ")"
   ]
  },
  {
   "cell_type": "markdown",
   "metadata": {
    "tags": []
   },
   "source": [
    "# Rollback"
   ]
  },
  {
   "cell_type": "code",
   "execution_count": 8,
   "metadata": {
    "tags": []
   },
   "outputs": [
    {
     "name": "stdout",
     "output_type": "stream",
     "text": [
      "-RECORD 0-----------------------------------------------------------------------------------------------------------------------------------------------------------------------------------------------------------------------------------------------------------------------------\n",
      " version             | 13                                                                                                                                                                                                                                                             \n",
      " timestamp           | 2023-11-20 17:53:40.971                                                                                                                                                                                                                                        \n",
      " userId              | null                                                                                                                                                                                                                                                           \n",
      " userName            | null                                                                                                                                                                                                                                                           \n",
      " operation           | DELETE                                                                                                                                                                                                                                                         \n",
      " operationParameters | {predicate -> [\"(chegada_prevista < '01/01/2022')\"]}                                                                                                                                                                                                           \n",
      " job                 | null                                                                                                                                                                                                                                                           \n",
      " notebook            | null                                                                                                                                                                                                                                                           \n",
      " clusterId           | null                                                                                                                                                                                                                                                           \n",
      " readVersion         | 12                                                                                                                                                                                                                                                             \n",
      " isolationLevel      | Serializable                                                                                                                                                                                                                                                   \n",
      " isBlindAppend       | false                                                                                                                                                                                                                                                          \n",
      " operationMetrics    | {numRemovedFiles -> 39, numRemovedBytes -> 1043076618, numCopiedRows -> 48615500, numAddedChangeFiles -> 0, executionTimeMs -> 235148, numDeletedRows -> 87800, scanTimeMs -> 3372, numAddedFiles -> 10, numAddedBytes -> 1089101185, rewriteTimeMs -> 231775} \n",
      " userMetadata        | null                                                                                                                                                                                                                                                           \n",
      " engineInfo          | Apache-Spark/3.3.2 Delta-Lake/2.3.0                                                                                                                                                                                                                            \n",
      "-RECORD 1-----------------------------------------------------------------------------------------------------------------------------------------------------------------------------------------------------------------------------------------------------------------------------\n",
      " version             | 12                                                                                                                                                                                                                                                             \n",
      " timestamp           | 2023-11-20 17:08:04.604                                                                                                                                                                                                                                        \n",
      " userId              | null                                                                                                                                                                                                                                                           \n",
      " userName            | null                                                                                                                                                                                                                                                           \n",
      " operation           | WRITE                                                                                                                                                                                                                                                          \n",
      " operationParameters | {mode -> Append, partitionBy -> []}                                                                                                                                                                                                                            \n",
      " job                 | null                                                                                                                                                                                                                                                           \n",
      " notebook            | null                                                                                                                                                                                                                                                           \n",
      " clusterId           | null                                                                                                                                                                                                                                                           \n",
      " readVersion         | 11                                                                                                                                                                                                                                                             \n",
      " isolationLevel      | Serializable                                                                                                                                                                                                                                                   \n",
      " isBlindAppend       | true                                                                                                                                                                                                                                                           \n",
      " operationMetrics    | {numFiles -> 4, numOutputRows -> 2709899, numOutputBytes -> 86272989}                                                                                                                                                                                          \n",
      " userMetadata        | null                                                                                                                                                                                                                                                           \n",
      " engineInfo          | Apache-Spark/3.3.2 Delta-Lake/2.3.0                                                                                                                                                                                                                            \n",
      "-RECORD 2-----------------------------------------------------------------------------------------------------------------------------------------------------------------------------------------------------------------------------------------------------------------------------\n",
      " version             | 11                                                                                                                                                                                                                                                             \n",
      " timestamp           | 2023-11-12 21:38:17.778                                                                                                                                                                                                                                        \n",
      " userId              | null                                                                                                                                                                                                                                                           \n",
      " userName            | null                                                                                                                                                                                                                                                           \n",
      " operation           | WRITE                                                                                                                                                                                                                                                          \n",
      " operationParameters | {mode -> Append, partitionBy -> []}                                                                                                                                                                                                                            \n",
      " job                 | null                                                                                                                                                                                                                                                           \n",
      " notebook            | null                                                                                                                                                                                                                                                           \n",
      " clusterId           | null                                                                                                                                                                                                                                                           \n",
      " readVersion         | 10                                                                                                                                                                                                                                                             \n",
      " isolationLevel      | Serializable                                                                                                                                                                                                                                                   \n",
      " isBlindAppend       | true                                                                                                                                                                                                                                                           \n",
      " operationMetrics    | {numFiles -> 4, numOutputRows -> 5419798, numOutputBytes -> 112896698}                                                                                                                                                                                         \n",
      " userMetadata        | null                                                                                                                                                                                                                                                           \n",
      " engineInfo          | Apache-Spark/3.3.2 Delta-Lake/2.3.0                                                                                                                                                                                                                            \n",
      "-RECORD 3-----------------------------------------------------------------------------------------------------------------------------------------------------------------------------------------------------------------------------------------------------------------------------\n",
      " version             | 10                                                                                                                                                                                                                                                             \n",
      " timestamp           | 2023-11-12 21:37:43.051                                                                                                                                                                                                                                        \n",
      " userId              | null                                                                                                                                                                                                                                                           \n",
      " userName            | null                                                                                                                                                                                                                                                           \n",
      " operation           | WRITE                                                                                                                                                                                                                                                          \n",
      " operationParameters | {mode -> Append, partitionBy -> []}                                                                                                                                                                                                                            \n",
      " job                 | null                                                                                                                                                                                                                                                           \n",
      " notebook            | null                                                                                                                                                                                                                                                           \n",
      " clusterId           | null                                                                                                                                                                                                                                                           \n",
      " readVersion         | 9                                                                                                                                                                                                                                                              \n",
      " isolationLevel      | Serializable                                                                                                                                                                                                                                                   \n",
      " isBlindAppend       | true                                                                                                                                                                                                                                                           \n",
      " operationMetrics    | {numFiles -> 4, numOutputRows -> 5419798, numOutputBytes -> 112896698}                                                                                                                                                                                         \n",
      " userMetadata        | null                                                                                                                                                                                                                                                           \n",
      " engineInfo          | Apache-Spark/3.3.2 Delta-Lake/2.3.0                                                                                                                                                                                                                            \n",
      "-RECORD 4-----------------------------------------------------------------------------------------------------------------------------------------------------------------------------------------------------------------------------------------------------------------------------\n",
      " version             | 9                                                                                                                                                                                                                                                              \n",
      " timestamp           | 2023-11-12 21:37:21.154                                                                                                                                                                                                                                        \n",
      " userId              | null                                                                                                                                                                                                                                                           \n",
      " userName            | null                                                                                                                                                                                                                                                           \n",
      " operation           | WRITE                                                                                                                                                                                                                                                          \n",
      " operationParameters | {mode -> Append, partitionBy -> []}                                                                                                                                                                                                                            \n",
      " job                 | null                                                                                                                                                                                                                                                           \n",
      " notebook            | null                                                                                                                                                                                                                                                           \n",
      " clusterId           | null                                                                                                                                                                                                                                                           \n",
      " readVersion         | 8                                                                                                                                                                                                                                                              \n",
      " isolationLevel      | Serializable                                                                                                                                                                                                                                                   \n",
      " isBlindAppend       | true                                                                                                                                                                                                                                                           \n",
      " operationMetrics    | {numFiles -> 4, numOutputRows -> 5419798, numOutputBytes -> 112896698}                                                                                                                                                                                         \n",
      " userMetadata        | null                                                                                                                                                                                                                                                           \n",
      " engineInfo          | Apache-Spark/3.3.2 Delta-Lake/2.3.0                                                                                                                                                                                                                            \n",
      "-RECORD 5-----------------------------------------------------------------------------------------------------------------------------------------------------------------------------------------------------------------------------------------------------------------------------\n",
      " version             | 8                                                                                                                                                                                                                                                              \n",
      " timestamp           | 2023-11-12 21:36:59.796                                                                                                                                                                                                                                        \n",
      " userId              | null                                                                                                                                                                                                                                                           \n",
      " userName            | null                                                                                                                                                                                                                                                           \n",
      " operation           | WRITE                                                                                                                                                                                                                                                          \n",
      " operationParameters | {mode -> Append, partitionBy -> []}                                                                                                                                                                                                                            \n",
      " job                 | null                                                                                                                                                                                                                                                           \n",
      " notebook            | null                                                                                                                                                                                                                                                           \n",
      " clusterId           | null                                                                                                                                                                                                                                                           \n",
      " readVersion         | 7                                                                                                                                                                                                                                                              \n",
      " isolationLevel      | Serializable                                                                                                                                                                                                                                                   \n",
      " isBlindAppend       | true                                                                                                                                                                                                                                                           \n",
      " operationMetrics    | {numFiles -> 4, numOutputRows -> 5419798, numOutputBytes -> 112896698}                                                                                                                                                                                         \n",
      " userMetadata        | null                                                                                                                                                                                                                                                           \n",
      " engineInfo          | Apache-Spark/3.3.2 Delta-Lake/2.3.0                                                                                                                                                                                                                            \n",
      "-RECORD 6-----------------------------------------------------------------------------------------------------------------------------------------------------------------------------------------------------------------------------------------------------------------------------\n",
      " version             | 7                                                                                                                                                                                                                                                              \n",
      " timestamp           | 2023-11-12 21:36:17.734                                                                                                                                                                                                                                        \n",
      " userId              | null                                                                                                                                                                                                                                                           \n",
      " userName            | null                                                                                                                                                                                                                                                           \n",
      " operation           | WRITE                                                                                                                                                                                                                                                          \n",
      " operationParameters | {mode -> Append, partitionBy -> []}                                                                                                                                                                                                                            \n",
      " job                 | null                                                                                                                                                                                                                                                           \n",
      " notebook            | null                                                                                                                                                                                                                                                           \n",
      " clusterId           | null                                                                                                                                                                                                                                                           \n",
      " readVersion         | 6                                                                                                                                                                                                                                                              \n",
      " isolationLevel      | Serializable                                                                                                                                                                                                                                                   \n",
      " isBlindAppend       | true                                                                                                                                                                                                                                                           \n",
      " operationMetrics    | {numFiles -> 4, numOutputRows -> 5419798, numOutputBytes -> 112896698}                                                                                                                                                                                         \n",
      " userMetadata        | null                                                                                                                                                                                                                                                           \n",
      " engineInfo          | Apache-Spark/3.3.2 Delta-Lake/2.3.0                                                                                                                                                                                                                            \n",
      "-RECORD 7-----------------------------------------------------------------------------------------------------------------------------------------------------------------------------------------------------------------------------------------------------------------------------\n",
      " version             | 6                                                                                                                                                                                                                                                              \n",
      " timestamp           | 2023-11-12 21:35:46.002                                                                                                                                                                                                                                        \n",
      " userId              | null                                                                                                                                                                                                                                                           \n",
      " userName            | null                                                                                                                                                                                                                                                           \n",
      " operation           | WRITE                                                                                                                                                                                                                                                          \n",
      " operationParameters | {mode -> Append, partitionBy -> []}                                                                                                                                                                                                                            \n",
      " job                 | null                                                                                                                                                                                                                                                           \n",
      " notebook            | null                                                                                                                                                                                                                                                           \n",
      " clusterId           | null                                                                                                                                                                                                                                                           \n",
      " readVersion         | 5                                                                                                                                                                                                                                                              \n",
      " isolationLevel      | Serializable                                                                                                                                                                                                                                                   \n",
      " isBlindAppend       | true                                                                                                                                                                                                                                                           \n",
      " operationMetrics    | {numFiles -> 4, numOutputRows -> 5419798, numOutputBytes -> 112896698}                                                                                                                                                                                         \n",
      " userMetadata        | null                                                                                                                                                                                                                                                           \n",
      " engineInfo          | Apache-Spark/3.3.2 Delta-Lake/2.3.0                                                                                                                                                                                                                            \n",
      "-RECORD 8-----------------------------------------------------------------------------------------------------------------------------------------------------------------------------------------------------------------------------------------------------------------------------\n",
      " version             | 5                                                                                                                                                                                                                                                              \n",
      " timestamp           | 2023-11-12 21:35:21.302                                                                                                                                                                                                                                        \n",
      " userId              | null                                                                                                                                                                                                                                                           \n",
      " userName            | null                                                                                                                                                                                                                                                           \n",
      " operation           | WRITE                                                                                                                                                                                                                                                          \n",
      " operationParameters | {mode -> Append, partitionBy -> []}                                                                                                                                                                                                                            \n",
      " job                 | null                                                                                                                                                                                                                                                           \n",
      " notebook            | null                                                                                                                                                                                                                                                           \n",
      " clusterId           | null                                                                                                                                                                                                                                                           \n",
      " readVersion         | 4                                                                                                                                                                                                                                                              \n",
      " isolationLevel      | Serializable                                                                                                                                                                                                                                                   \n",
      " isBlindAppend       | true                                                                                                                                                                                                                                                           \n",
      " operationMetrics    | {numFiles -> 4, numOutputRows -> 5419798, numOutputBytes -> 112896698}                                                                                                                                                                                         \n",
      " userMetadata        | null                                                                                                                                                                                                                                                           \n",
      " engineInfo          | Apache-Spark/3.3.2 Delta-Lake/2.3.0                                                                                                                                                                                                                            \n",
      "-RECORD 9-----------------------------------------------------------------------------------------------------------------------------------------------------------------------------------------------------------------------------------------------------------------------------\n",
      " version             | 4                                                                                                                                                                                                                                                              \n",
      " timestamp           | 2023-11-12 21:35:03.495                                                                                                                                                                                                                                        \n",
      " userId              | null                                                                                                                                                                                                                                                           \n",
      " userName            | null                                                                                                                                                                                                                                                           \n",
      " operation           | WRITE                                                                                                                                                                                                                                                          \n",
      " operationParameters | {mode -> Append, partitionBy -> []}                                                                                                                                                                                                                            \n",
      " job                 | null                                                                                                                                                                                                                                                           \n",
      " notebook            | null                                                                                                                                                                                                                                                           \n",
      " clusterId           | null                                                                                                                                                                                                                                                           \n",
      " readVersion         | 3                                                                                                                                                                                                                                                              \n",
      " isolationLevel      | Serializable                                                                                                                                                                                                                                                   \n",
      " isBlindAppend       | true                                                                                                                                                                                                                                                           \n",
      " operationMetrics    | {numFiles -> 4, numOutputRows -> 5419798, numOutputBytes -> 112896698}                                                                                                                                                                                         \n",
      " userMetadata        | null                                                                                                                                                                                                                                                           \n",
      " engineInfo          | Apache-Spark/3.3.2 Delta-Lake/2.3.0                                                                                                                                                                                                                            \n",
      "-RECORD 10----------------------------------------------------------------------------------------------------------------------------------------------------------------------------------------------------------------------------------------------------------------------------\n",
      " version             | 3                                                                                                                                                                                                                                                              \n",
      " timestamp           | 2023-11-12 21:34:45.111                                                                                                                                                                                                                                        \n",
      " userId              | null                                                                                                                                                                                                                                                           \n",
      " userName            | null                                                                                                                                                                                                                                                           \n",
      " operation           | WRITE                                                                                                                                                                                                                                                          \n",
      " operationParameters | {mode -> Append, partitionBy -> []}                                                                                                                                                                                                                            \n",
      " job                 | null                                                                                                                                                                                                                                                           \n",
      " notebook            | null                                                                                                                                                                                                                                                           \n",
      " clusterId           | null                                                                                                                                                                                                                                                           \n",
      " readVersion         | 2                                                                                                                                                                                                                                                              \n",
      " isolationLevel      | Serializable                                                                                                                                                                                                                                                   \n",
      " isBlindAppend       | true                                                                                                                                                                                                                                                           \n",
      " operationMetrics    | {numFiles -> 4, numOutputRows -> 5419798, numOutputBytes -> 112896698}                                                                                                                                                                                         \n",
      " userMetadata        | null                                                                                                                                                                                                                                                           \n",
      " engineInfo          | Apache-Spark/3.3.2 Delta-Lake/2.3.0                                                                                                                                                                                                                            \n",
      "-RECORD 11----------------------------------------------------------------------------------------------------------------------------------------------------------------------------------------------------------------------------------------------------------------------------\n",
      " version             | 2                                                                                                                                                                                                                                                              \n",
      " timestamp           | 2023-11-12 21:34:26.084                                                                                                                                                                                                                                        \n",
      " userId              | null                                                                                                                                                                                                                                                           \n",
      " userName            | null                                                                                                                                                                                                                                                           \n",
      " operation           | WRITE                                                                                                                                                                                                                                                          \n",
      " operationParameters | {mode -> Append, partitionBy -> []}                                                                                                                                                                                                                            \n",
      " job                 | null                                                                                                                                                                                                                                                           \n",
      " notebook            | null                                                                                                                                                                                                                                                           \n",
      " clusterId           | null                                                                                                                                                                                                                                                           \n",
      " readVersion         | 1                                                                                                                                                                                                                                                              \n",
      " isolationLevel      | Serializable                                                                                                                                                                                                                                                   \n",
      " isBlindAppend       | true                                                                                                                                                                                                                                                           \n",
      " operationMetrics    | {numFiles -> 4, numOutputRows -> 5419798, numOutputBytes -> 112896698}                                                                                                                                                                                         \n",
      " userMetadata        | null                                                                                                                                                                                                                                                           \n",
      " engineInfo          | Apache-Spark/3.3.2 Delta-Lake/2.3.0                                                                                                                                                                                                                            \n",
      "-RECORD 12----------------------------------------------------------------------------------------------------------------------------------------------------------------------------------------------------------------------------------------------------------------------------\n",
      " version             | 1                                                                                                                                                                                                                                                              \n",
      " timestamp           | 2023-11-12 21:29:24.773                                                                                                                                                                                                                                        \n",
      " userId              | null                                                                                                                                                                                                                                                           \n",
      " userName            | null                                                                                                                                                                                                                                                           \n",
      " operation           | WRITE                                                                                                                                                                                                                                                          \n",
      " operationParameters | {mode -> Append, partitionBy -> []}                                                                                                                                                                                                                            \n",
      " job                 | null                                                                                                                                                                                                                                                           \n",
      " notebook            | null                                                                                                                                                                                                                                                           \n",
      " clusterId           | null                                                                                                                                                                                                                                                           \n",
      " readVersion         | 0                                                                                                                                                                                                                                                              \n",
      " isolationLevel      | Serializable                                                                                                                                                                                                                                                   \n",
      " isBlindAppend       | true                                                                                                                                                                                                                                                           \n",
      " operationMetrics    | {numFiles -> 4, numOutputRows -> 5419798, numOutputBytes -> 112896698}                                                                                                                                                                                         \n",
      " userMetadata        | null                                                                                                                                                                                                                                                           \n",
      " engineInfo          | Apache-Spark/3.3.2 Delta-Lake/2.3.0                                                                                                                                                                                                                            \n",
      "-RECORD 13----------------------------------------------------------------------------------------------------------------------------------------------------------------------------------------------------------------------------------------------------------------------------\n",
      " version             | 0                                                                                                                                                                                                                                                              \n",
      " timestamp           | 2023-11-12 21:08:31.11                                                                                                                                                                                                                                         \n",
      " userId              | null                                                                                                                                                                                                                                                           \n",
      " userName            | null                                                                                                                                                                                                                                                           \n",
      " operation           | WRITE                                                                                                                                                                                                                                                          \n",
      " operationParameters | {mode -> ErrorIfExists, partitionBy -> []}                                                                                                                                                                                                                     \n",
      " job                 | null                                                                                                                                                                                                                                                           \n",
      " notebook            | null                                                                                                                                                                                                                                                           \n",
      " clusterId           | null                                                                                                                                                                                                                                                           \n",
      " readVersion         | null                                                                                                                                                                                                                                                           \n",
      " isolationLevel      | Serializable                                                                                                                                                                                                                                                   \n",
      " isBlindAppend       | true                                                                                                                                                                                                                                                           \n",
      " operationMetrics    | {numFiles -> 4, numOutputRows -> 5419798, numOutputBytes -> 112896698}                                                                                                                                                                                         \n",
      " userMetadata        | null                                                                                                                                                                                                                                                           \n",
      " engineInfo          | Apache-Spark/3.3.2 Delta-Lake/2.3.0                                                                                                                                                                                                                            \n",
      "\n"
     ]
    }
   ],
   "source": [
    "delta_table.history().show(truncate=False, vertical=True)"
   ]
  },
  {
   "cell_type": "code",
   "execution_count": 9,
   "metadata": {
    "tags": []
   },
   "outputs": [
    {
     "data": {
      "text/plain": [
       "DataFrame[table_size_after_restore: bigint, num_of_files_after_restore: bigint, num_removed_files: bigint, num_restored_files: bigint, removed_files_size: bigint, restored_files_size: bigint]"
      ]
     },
     "execution_count": 9,
     "metadata": {},
     "output_type": "execute_result"
    }
   ],
   "source": [
    "delta_table.restoreToVersion(1)"
   ]
  },
  {
   "cell_type": "markdown",
   "metadata": {
    "tags": []
   },
   "source": [
    "# Vacuum"
   ]
  },
  {
   "cell_type": "code",
   "execution_count": 10,
   "metadata": {
    "tags": []
   },
   "outputs": [
    {
     "ename": "IllegalArgumentException",
     "evalue": "requirement failed: Are you sure you would like to vacuum files with such a low retention period? If you have\nwriters that are currently writing to this table, there is a risk that you may corrupt the\nstate of your Delta table.\n\nIf you are certain that there are no operations being performed on this table, such as\ninsert/upsert/delete/optimize, then you may turn off this check by setting:\nspark.databricks.delta.retentionDurationCheck.enabled = false\n\nIf you are not sure, please use a value not less than \"168 hours\".\n       ",
     "output_type": "error",
     "traceback": [
      "\u001b[0;31m---------------------------------------------------------------------------\u001b[0m",
      "\u001b[0;31mIllegalArgumentException\u001b[0m                  Traceback (most recent call last)",
      "Cell \u001b[0;32mIn[10], line 1\u001b[0m\n\u001b[0;32m----> 1\u001b[0m \u001b[43mdelta_table\u001b[49m\u001b[38;5;241;43m.\u001b[39;49m\u001b[43mvacuum\u001b[49m\u001b[43m(\u001b[49m\u001b[38;5;241;43m0\u001b[39;49m\u001b[43m)\u001b[49m\n",
      "File \u001b[0;32m/tmp/spark-57c13078-7065-4ca3-ba39-71d10e5f97d7/userFiles-b4421067-d1e9-44be-8a76-4b399195bca9/io.delta_delta-core_2.12-2.3.0.jar/delta/tables.py:249\u001b[0m, in \u001b[0;36mDeltaTable.vacuum\u001b[0;34m(self, retentionHours)\u001b[0m\n\u001b[1;32m    243\u001b[0m     \u001b[38;5;28;01mreturn\u001b[39;00m DataFrame(\n\u001b[1;32m    244\u001b[0m         jdt\u001b[38;5;241m.\u001b[39mvacuum(),\n\u001b[1;32m    245\u001b[0m         \u001b[38;5;28mgetattr\u001b[39m(\u001b[38;5;28mself\u001b[39m\u001b[38;5;241m.\u001b[39m_spark, \u001b[38;5;124m\"\u001b[39m\u001b[38;5;124m_wrapped\u001b[39m\u001b[38;5;124m\"\u001b[39m, \u001b[38;5;28mself\u001b[39m\u001b[38;5;241m.\u001b[39m_spark)  \u001b[38;5;66;03m# type: ignore[attr-defined]\u001b[39;00m\n\u001b[1;32m    246\u001b[0m     )\n\u001b[1;32m    247\u001b[0m \u001b[38;5;28;01melse\u001b[39;00m:\n\u001b[1;32m    248\u001b[0m     \u001b[38;5;28;01mreturn\u001b[39;00m DataFrame(\n\u001b[0;32m--> 249\u001b[0m         \u001b[43mjdt\u001b[49m\u001b[38;5;241;43m.\u001b[39;49m\u001b[43mvacuum\u001b[49m\u001b[43m(\u001b[49m\u001b[38;5;28;43mfloat\u001b[39;49m\u001b[43m(\u001b[49m\u001b[43mretentionHours\u001b[49m\u001b[43m)\u001b[49m\u001b[43m)\u001b[49m,\n\u001b[1;32m    250\u001b[0m         \u001b[38;5;28mgetattr\u001b[39m(\u001b[38;5;28mself\u001b[39m\u001b[38;5;241m.\u001b[39m_spark, \u001b[38;5;124m\"\u001b[39m\u001b[38;5;124m_wrapped\u001b[39m\u001b[38;5;124m\"\u001b[39m, \u001b[38;5;28mself\u001b[39m\u001b[38;5;241m.\u001b[39m_spark)  \u001b[38;5;66;03m# type: ignore[attr-defined]\u001b[39;00m\n\u001b[1;32m    251\u001b[0m     )\n",
      "File \u001b[0;32m/usr/local/spark/python/lib/py4j-0.10.9.5-src.zip/py4j/java_gateway.py:1321\u001b[0m, in \u001b[0;36mJavaMember.__call__\u001b[0;34m(self, *args)\u001b[0m\n\u001b[1;32m   1315\u001b[0m command \u001b[38;5;241m=\u001b[39m proto\u001b[38;5;241m.\u001b[39mCALL_COMMAND_NAME \u001b[38;5;241m+\u001b[39m\\\n\u001b[1;32m   1316\u001b[0m     \u001b[38;5;28mself\u001b[39m\u001b[38;5;241m.\u001b[39mcommand_header \u001b[38;5;241m+\u001b[39m\\\n\u001b[1;32m   1317\u001b[0m     args_command \u001b[38;5;241m+\u001b[39m\\\n\u001b[1;32m   1318\u001b[0m     proto\u001b[38;5;241m.\u001b[39mEND_COMMAND_PART\n\u001b[1;32m   1320\u001b[0m answer \u001b[38;5;241m=\u001b[39m \u001b[38;5;28mself\u001b[39m\u001b[38;5;241m.\u001b[39mgateway_client\u001b[38;5;241m.\u001b[39msend_command(command)\n\u001b[0;32m-> 1321\u001b[0m return_value \u001b[38;5;241m=\u001b[39m \u001b[43mget_return_value\u001b[49m\u001b[43m(\u001b[49m\n\u001b[1;32m   1322\u001b[0m \u001b[43m    \u001b[49m\u001b[43manswer\u001b[49m\u001b[43m,\u001b[49m\u001b[43m \u001b[49m\u001b[38;5;28;43mself\u001b[39;49m\u001b[38;5;241;43m.\u001b[39;49m\u001b[43mgateway_client\u001b[49m\u001b[43m,\u001b[49m\u001b[43m \u001b[49m\u001b[38;5;28;43mself\u001b[39;49m\u001b[38;5;241;43m.\u001b[39;49m\u001b[43mtarget_id\u001b[49m\u001b[43m,\u001b[49m\u001b[43m \u001b[49m\u001b[38;5;28;43mself\u001b[39;49m\u001b[38;5;241;43m.\u001b[39;49m\u001b[43mname\u001b[49m\u001b[43m)\u001b[49m\n\u001b[1;32m   1324\u001b[0m \u001b[38;5;28;01mfor\u001b[39;00m temp_arg \u001b[38;5;129;01min\u001b[39;00m temp_args:\n\u001b[1;32m   1325\u001b[0m     temp_arg\u001b[38;5;241m.\u001b[39m_detach()\n",
      "File \u001b[0;32m/usr/local/spark/python/pyspark/sql/utils.py:196\u001b[0m, in \u001b[0;36mcapture_sql_exception.<locals>.deco\u001b[0;34m(*a, **kw)\u001b[0m\n\u001b[1;32m    192\u001b[0m converted \u001b[38;5;241m=\u001b[39m convert_exception(e\u001b[38;5;241m.\u001b[39mjava_exception)\n\u001b[1;32m    193\u001b[0m \u001b[38;5;28;01mif\u001b[39;00m \u001b[38;5;129;01mnot\u001b[39;00m \u001b[38;5;28misinstance\u001b[39m(converted, UnknownException):\n\u001b[1;32m    194\u001b[0m     \u001b[38;5;66;03m# Hide where the exception came from that shows a non-Pythonic\u001b[39;00m\n\u001b[1;32m    195\u001b[0m     \u001b[38;5;66;03m# JVM exception message.\u001b[39;00m\n\u001b[0;32m--> 196\u001b[0m     \u001b[38;5;28;01mraise\u001b[39;00m converted \u001b[38;5;28;01mfrom\u001b[39;00m \u001b[38;5;28mNone\u001b[39m\n\u001b[1;32m    197\u001b[0m \u001b[38;5;28;01melse\u001b[39;00m:\n\u001b[1;32m    198\u001b[0m     \u001b[38;5;28;01mraise\u001b[39;00m\n",
      "\u001b[0;31mIllegalArgumentException\u001b[0m: requirement failed: Are you sure you would like to vacuum files with such a low retention period? If you have\nwriters that are currently writing to this table, there is a risk that you may corrupt the\nstate of your Delta table.\n\nIf you are certain that there are no operations being performed on this table, such as\ninsert/upsert/delete/optimize, then you may turn off this check by setting:\nspark.databricks.delta.retentionDurationCheck.enabled = false\n\nIf you are not sure, please use a value not less than \"168 hours\".\n       "
     ]
    }
   ],
   "source": [
    "delta_table.vacuum(1)"
   ]
  }
 ],
 "metadata": {
  "kernelspec": {
   "display_name": "Python 3 (ipykernel)",
   "language": "python",
   "name": "python3"
  },
  "language_info": {
   "codemirror_mode": {
    "name": "ipython",
    "version": 3
   },
   "file_extension": ".py",
   "mimetype": "text/x-python",
   "name": "python",
   "nbconvert_exporter": "python",
   "pygments_lexer": "ipython3",
   "version": "3.10.10"
  }
 },
 "nbformat": 4,
 "nbformat_minor": 4
}
